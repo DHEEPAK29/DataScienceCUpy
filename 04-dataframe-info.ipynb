{
 "cells": [
  {
   "cell_type": "markdown",
   "id": "992ac668",
   "metadata": {},
   "source": [
    "<div>\n",
    "<img src=\"https://edlitera-images.s3.us-east-1.amazonaws.com/new_edlitera_logo.png\" width=\"500\"/>\n",
    "</div>"
   ]
  },
  {
   "cell_type": "markdown",
   "id": "ea667e85",
   "metadata": {},
   "source": [
    "<br/>\n",
    "<br/>\n",
    "<br/>\n",
    "<br/>\n",
    "<br/>\n",
    "<br/>\n",
    "<br/>\n",
    "<br/>"
   ]
  },
  {
   "cell_type": "code",
   "execution_count": null,
   "id": "8b490bfb",
   "metadata": {},
   "outputs": [],
   "source": [
    "import pandas as pd\n",
    "import numpy as np\n",
    "import datetime\n",
    "\n",
    "pd.options.display.float_format = '{:,.2f}'.format"
   ]
  },
  {
   "cell_type": "markdown",
   "id": "b9b18417",
   "metadata": {},
   "source": [
    "<br/>\n",
    "<br/>\n",
    "<br/>\n",
    "<br/>\n",
    "<br/>\n",
    "<br/>\n",
    "<br/>\n",
    "<br/>"
   ]
  },
  {
   "cell_type": "markdown",
   "id": "d8c531ce",
   "metadata": {},
   "source": [
    "## Show basic information about a DataFrame"
   ]
  },
  {
   "cell_type": "code",
   "execution_count": null,
   "id": "494ece0f",
   "metadata": {},
   "outputs": [],
   "source": [
    "data = pd.read_csv(\"https://edlitera-datasets.s3.amazonaws.com/survey_sample.csv\")\n",
    "data"
   ]
  },
  {
   "cell_type": "markdown",
   "id": "d5e44aa1",
   "metadata": {},
   "source": [
    "### Show general information"
   ]
  },
  {
   "cell_type": "code",
   "execution_count": null,
   "id": "695d1cf7",
   "metadata": {},
   "outputs": [],
   "source": [
    "data.info()"
   ]
  },
  {
   "cell_type": "markdown",
   "id": "7729ab7c",
   "metadata": {},
   "source": [
    "<br><br>"
   ]
  },
  {
   "cell_type": "code",
   "execution_count": null,
   "id": "144650ce",
   "metadata": {},
   "outputs": [],
   "source": [
    "data = pd.read_csv(\"https://edlitera-datasets.s3.amazonaws.com/survey_sample.csv\")\n",
    "data"
   ]
  },
  {
   "cell_type": "markdown",
   "id": "407ed0b2",
   "metadata": {},
   "source": [
    "### Show number of rows and columns (shape)"
   ]
  },
  {
   "cell_type": "code",
   "execution_count": null,
   "id": "566e3677",
   "metadata": {},
   "outputs": [],
   "source": [
    "data.shape"
   ]
  },
  {
   "cell_type": "code",
   "execution_count": null,
   "id": "d8a63d9e",
   "metadata": {},
   "outputs": [],
   "source": [
    "data.shape[0] # number of rows"
   ]
  },
  {
   "cell_type": "code",
   "execution_count": null,
   "id": "a60ac973",
   "metadata": {},
   "outputs": [],
   "source": [
    "data.shape[1] # number of columns"
   ]
  },
  {
   "cell_type": "markdown",
   "id": "754447b3",
   "metadata": {},
   "source": [
    "<br><br>"
   ]
  },
  {
   "cell_type": "markdown",
   "id": "6cc91e9c",
   "metadata": {},
   "source": [
    "### Show the top `n` lines in a file"
   ]
  },
  {
   "cell_type": "code",
   "execution_count": null,
   "id": "6556b362",
   "metadata": {},
   "outputs": [],
   "source": [
    "data"
   ]
  },
  {
   "cell_type": "code",
   "execution_count": null,
   "id": "eb87ecb5",
   "metadata": {},
   "outputs": [],
   "source": [
    "data.head(7) # can optionally specify number of rows to show"
   ]
  },
  {
   "cell_type": "markdown",
   "id": "10d26dfb",
   "metadata": {},
   "source": [
    "<br><br>"
   ]
  },
  {
   "cell_type": "markdown",
   "id": "8ebeff64",
   "metadata": {},
   "source": [
    "### Show the bottom `n` lines in a file"
   ]
  },
  {
   "cell_type": "code",
   "execution_count": null,
   "id": "2fc9e02c",
   "metadata": {},
   "outputs": [],
   "source": [
    "data.tail(10) # can optionally specify number of rows to show"
   ]
  },
  {
   "cell_type": "markdown",
   "id": "01519869",
   "metadata": {},
   "source": [
    "<br><br>"
   ]
  },
  {
   "cell_type": "markdown",
   "id": "8b2bff06",
   "metadata": {},
   "source": [
    "### Show the columns index (column names)"
   ]
  },
  {
   "cell_type": "code",
   "execution_count": null,
   "id": "8b3bea6f",
   "metadata": {},
   "outputs": [],
   "source": [
    "data"
   ]
  },
  {
   "cell_type": "code",
   "execution_count": null,
   "id": "5891284c",
   "metadata": {},
   "outputs": [],
   "source": [
    "data.columns"
   ]
  },
  {
   "cell_type": "markdown",
   "id": "d4a0f745",
   "metadata": {},
   "source": [
    "<br><br>"
   ]
  },
  {
   "cell_type": "markdown",
   "id": "c628a690",
   "metadata": {},
   "source": [
    "### Show the row index (row index labels)"
   ]
  },
  {
   "cell_type": "code",
   "execution_count": null,
   "id": "8c1a0388",
   "metadata": {},
   "outputs": [],
   "source": [
    "data.index"
   ]
  },
  {
   "cell_type": "markdown",
   "id": "b419d5da",
   "metadata": {},
   "source": [
    "<br><br>"
   ]
  },
  {
   "cell_type": "markdown",
   "id": "6e35363b",
   "metadata": {},
   "source": [
    "### Show the data type of each column"
   ]
  },
  {
   "cell_type": "code",
   "execution_count": null,
   "id": "c957cea9",
   "metadata": {},
   "outputs": [],
   "source": [
    "data.info()"
   ]
  },
  {
   "cell_type": "code",
   "execution_count": null,
   "id": "e8e78f49",
   "metadata": {},
   "outputs": [],
   "source": [
    "data.dtypes"
   ]
  },
  {
   "cell_type": "markdown",
   "id": "62288248",
   "metadata": {},
   "source": [
    "<br><br><br>"
   ]
  },
  {
   "cell_type": "markdown",
   "id": "b4d0390f",
   "metadata": {},
   "source": [
    "## Pandas data types"
   ]
  },
  {
   "cell_type": "markdown",
   "id": "4aa6bb12",
   "metadata": {},
   "source": [
    "The `pandas` package defines its own data types:"
   ]
  },
  {
   "cell_type": "markdown",
   "id": "c701ad25",
   "metadata": {},
   "source": [
    "| Pandas dtype | Python type | Usage|\n",
    "|--------------|-------------|------|\n",
    "| object | **str** or **mixed**| Text or mixed (numeric / non-numeric) |\n",
    "| int64 | **int** | Integer numbers |\n",
    "| float64 | **float** | Floating point numbers |\n",
    "| bool | **bool** | Boolean value (True / False) |\n",
    "| datetime64 | NA | Date and time |\n",
    "| timedelta[ns] | NA | Difference between two dates |\n",
    "| category | NA | Finite list of text values (e.g. state names) |"
   ]
  },
  {
   "cell_type": "code",
   "execution_count": null,
   "id": "7d8f6878",
   "metadata": {},
   "outputs": [],
   "source": []
  }
 ],
 "metadata": {
  "kernelspec": {
   "display_name": "data_processing_environment",
   "language": "python",
   "name": "data_processing_environment"
  },
  "language_info": {
   "codemirror_mode": {
    "name": "ipython",
    "version": 3
   },
   "file_extension": ".py",
   "mimetype": "text/x-python",
   "name": "python",
   "nbconvert_exporter": "python",
   "pygments_lexer": "ipython3",
   "version": "3.9.18"
  }
 },
 "nbformat": 4,
 "nbformat_minor": 5
}
