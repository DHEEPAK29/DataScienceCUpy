{
 "cells": [
  {
   "cell_type": "markdown",
   "id": "d592aa30",
   "metadata": {},
   "source": [
    "<div>\n",
    "<img src=\"https://edlitera-images.s3.us-east-1.amazonaws.com/new_edlitera_logo.png\" width=\"500\"/>\n",
    "</div>"
   ]
  },
  {
   "cell_type": "markdown",
   "id": "b9b18417",
   "metadata": {},
   "source": [
    "<br/>\n",
    "<br/>\n",
    "<br/>\n",
    "<br/>\n",
    "<br/>\n",
    "<br/>\n",
    "<br/>\n",
    "<br/>"
   ]
  },
  {
   "cell_type": "code",
   "execution_count": null,
   "id": "8b490bfb",
   "metadata": {},
   "outputs": [],
   "source": [
    "import pandas as pd\n",
    "import numpy as np\n",
    "import datetime\n",
    "\n",
    "pd.options.display.float_format = '{:,.2f}'.format"
   ]
  },
  {
   "cell_type": "markdown",
   "id": "0126902a",
   "metadata": {},
   "source": [
    "<br><br><br><br><br>"
   ]
  },
  {
   "cell_type": "markdown",
   "id": "9c9233fa",
   "metadata": {},
   "source": [
    "## Extract a specific column from a dataframe"
   ]
  },
  {
   "cell_type": "code",
   "execution_count": null,
   "id": "6c6e322d",
   "metadata": {},
   "outputs": [],
   "source": [
    "countries = pd.DataFrame({\n",
    "    'Letter': ['a', 'b', 'c'],\n",
    "    'Country': ['Andorra', 'Belgium', 'Croatia']}, \n",
    "    index=[5, 6, 7])\n",
    "\n",
    "countries"
   ]
  },
  {
   "cell_type": "code",
   "execution_count": null,
   "id": "68aa71c9",
   "metadata": {},
   "outputs": [],
   "source": [
    "# Remember: each column in a DataFrame is a Series\n",
    "\n",
    "countries['Country']"
   ]
  },
  {
   "cell_type": "code",
   "execution_count": null,
   "id": "f58ff903",
   "metadata": {},
   "outputs": [],
   "source": [
    "type(countries['Country'])"
   ]
  },
  {
   "cell_type": "code",
   "execution_count": null,
   "id": "55f16fc6",
   "metadata": {},
   "outputs": [],
   "source": [
    "data = pd.read_csv(\"https://edlitera-datasets.s3.amazonaws.com/survey_sample.csv\")\n",
    "data.head()"
   ]
  },
  {
   "cell_type": "code",
   "execution_count": null,
   "id": "d933e428",
   "metadata": {},
   "outputs": [],
   "source": [
    "data['Customer Id']"
   ]
  },
  {
   "cell_type": "markdown",
   "id": "a7093fa0",
   "metadata": {},
   "source": [
    "#### Each column is a series, therefore it has a data type:"
   ]
  },
  {
   "cell_type": "code",
   "execution_count": null,
   "id": "c0c1ee58",
   "metadata": {},
   "outputs": [],
   "source": [
    "type(data['Customer Id'])"
   ]
  },
  {
   "cell_type": "code",
   "execution_count": null,
   "id": "d9a74977",
   "metadata": {},
   "outputs": [],
   "source": [
    "dir(countries['Country'])"
   ]
  },
  {
   "cell_type": "markdown",
   "id": "d1f811aa",
   "metadata": {},
   "source": [
    "<br/>\n",
    "<br/>\n",
    "<br/>\n",
    "<br/>\n",
    "<br/>\n",
    "<br/>"
   ]
  },
  {
   "cell_type": "markdown",
   "id": "aebfa0fc",
   "metadata": {},
   "source": [
    "## Select multiple data columns (by name)"
   ]
  },
  {
   "cell_type": "code",
   "execution_count": null,
   "id": "74e62454",
   "metadata": {},
   "outputs": [],
   "source": [
    "data['Date'].head()"
   ]
  },
  {
   "cell_type": "code",
   "execution_count": null,
   "id": "fad2e283",
   "metadata": {},
   "outputs": [],
   "source": [
    "data['Customer Id'].head()"
   ]
  },
  {
   "cell_type": "code",
   "execution_count": null,
   "id": "bb4b5686",
   "metadata": {},
   "outputs": [],
   "source": [
    "data.head()"
   ]
  },
  {
   "cell_type": "code",
   "execution_count": null,
   "id": "e2a28b16",
   "metadata": {
    "slideshow": {
     "slide_type": "slide"
    }
   },
   "outputs": [],
   "source": [
    "# Here, we want to extract only the `Customer Id` and \n",
    "# `Date` columns.\n",
    "\n",
    "data[ ['Date'] ]"
   ]
  },
  {
   "cell_type": "markdown",
   "id": "6ac076ce",
   "metadata": {},
   "source": [
    "<br/>\n",
    "<br/>"
   ]
  },
  {
   "cell_type": "markdown",
   "id": "419594cc",
   "metadata": {},
   "source": [
    "## Select data columns (by index)"
   ]
  },
  {
   "cell_type": "code",
   "execution_count": null,
   "id": "e4e279ba",
   "metadata": {},
   "outputs": [],
   "source": [
    "data.head()"
   ]
  },
  {
   "cell_type": "code",
   "execution_count": null,
   "id": "e3403437",
   "metadata": {},
   "outputs": [],
   "source": [
    "# See list of all columns\n",
    "\n",
    "data.columns"
   ]
  },
  {
   "cell_type": "markdown",
   "id": "d694f03b",
   "metadata": {},
   "source": [
    "**NOTE:** Remember, index counting starts at 0! So:\n",
    "* first column is at index 0\n",
    "* second column is at index 1\n",
    "* etc."
   ]
  },
  {
   "cell_type": "code",
   "execution_count": null,
   "id": "252d665c",
   "metadata": {},
   "outputs": [],
   "source": [
    "# Get the name of the second column\n",
    "\n",
    "data.columns[1]"
   ]
  },
  {
   "cell_type": "code",
   "execution_count": null,
   "id": "4661c6c2",
   "metadata": {},
   "outputs": [],
   "source": [
    "data[ data.columns[1] ]"
   ]
  },
  {
   "cell_type": "code",
   "execution_count": null,
   "id": "e0da6721",
   "metadata": {},
   "outputs": [],
   "source": [
    "# Get the actual data in that column\n",
    "\n",
    "data[ data.columns[1] ] # equivalent to data['Helpfulness']"
   ]
  },
  {
   "cell_type": "code",
   "execution_count": null,
   "id": "21b3f59f",
   "metadata": {},
   "outputs": [],
   "source": [
    "data[ ['Customer Id', 'Empathy'] ]"
   ]
  },
  {
   "cell_type": "code",
   "execution_count": null,
   "id": "b6b8c634",
   "metadata": {},
   "outputs": [],
   "source": [
    "data[ [data.columns[0], data.columns[3]] ].head()"
   ]
  },
  {
   "cell_type": "markdown",
   "id": "1c93ed0a",
   "metadata": {},
   "source": [
    "<br/>\n",
    "<br/>\n",
    "<br/>\n",
    "<br/>\n",
    "<br/>\n",
    "<br/>\n",
    "<br/>\n",
    "<br/>"
   ]
  },
  {
   "cell_type": "markdown",
   "id": "ec9cae40",
   "metadata": {
    "slideshow": {
     "slide_type": "slide"
    }
   },
   "source": [
    "## Select data rows (by row position)"
   ]
  },
  {
   "cell_type": "markdown",
   "id": "4d57065a",
   "metadata": {},
   "source": [
    "Let's see how many rows / columns are in our `data`"
   ]
  },
  {
   "cell_type": "code",
   "execution_count": null,
   "id": "01d0ff3a",
   "metadata": {},
   "outputs": [],
   "source": [
    "data.shape"
   ]
  },
  {
   "cell_type": "code",
   "execution_count": null,
   "id": "7886008f",
   "metadata": {},
   "outputs": [],
   "source": [
    "data.head()"
   ]
  },
  {
   "cell_type": "markdown",
   "id": "18bed9f3",
   "metadata": {},
   "source": [
    "You can use the slicing notation to select data rows (by position)"
   ]
  },
  {
   "cell_type": "code",
   "execution_count": null,
   "id": "86d9b92a",
   "metadata": {},
   "outputs": [],
   "source": [
    "m = [0, 1, 2, 3, 4, 5]\n",
    "\n",
    "m[1:3]"
   ]
  },
  {
   "cell_type": "code",
   "execution_count": null,
   "id": "078001e8",
   "metadata": {},
   "outputs": [],
   "source": [
    "data = pd.read_csv(\"https://edlitera-datasets.s3.amazonaws.com/survey_sample.csv\")\n",
    "data.head()"
   ]
  },
  {
   "cell_type": "code",
   "execution_count": null,
   "id": "1288224e",
   "metadata": {},
   "outputs": [],
   "source": [
    "data[10:20]"
   ]
  },
  {
   "cell_type": "markdown",
   "id": "e50d34bd",
   "metadata": {},
   "source": [
    "<br>"
   ]
  },
  {
   "cell_type": "markdown",
   "id": "3d18ba36",
   "metadata": {},
   "source": [
    "**IMPORTANT NOTE: the numbers between `[]` above are NOT the actual row index labels. They simply indicate row order.**"
   ]
  },
  {
   "cell_type": "markdown",
   "id": "6160f959",
   "metadata": {},
   "source": [
    "<br>"
   ]
  },
  {
   "cell_type": "markdown",
   "id": "7675b6ca",
   "metadata": {},
   "source": [
    "Consider the example below:\n",
    "* `sample` will randomly sample a subset of the dataframe\n",
    "* when `frac=1` it will randomly sample the entire dataframe\n",
    "    * in other words, it will shuffle (reorder) the rows in the dataframe"
   ]
  },
  {
   "cell_type": "code",
   "execution_count": null,
   "id": "4961143b",
   "metadata": {},
   "outputs": [],
   "source": [
    "data.sample(frac=1)"
   ]
  },
  {
   "cell_type": "code",
   "execution_count": null,
   "id": "0622377b",
   "metadata": {},
   "outputs": [],
   "source": [
    "x = data.sample(frac=1)\n",
    "x.head(10)"
   ]
  },
  {
   "cell_type": "markdown",
   "id": "c4dc12e5",
   "metadata": {},
   "source": [
    "The code below returns the first three rows in the dataframe, regardless of their row labels:"
   ]
  },
  {
   "cell_type": "code",
   "execution_count": null,
   "id": "0fa5eb99",
   "metadata": {},
   "outputs": [],
   "source": [
    "x[10:20]"
   ]
  },
  {
   "cell_type": "markdown",
   "id": "148ddac9",
   "metadata": {},
   "source": [
    "The code below returns the fifth, sixth and seventh rows in the dataframe, regardless of their row labels:"
   ]
  },
  {
   "cell_type": "code",
   "execution_count": null,
   "id": "dde0d983",
   "metadata": {},
   "outputs": [],
   "source": [
    "x[4:7]"
   ]
  },
  {
   "cell_type": "code",
   "execution_count": null,
   "id": "269c6f8f",
   "metadata": {},
   "outputs": [],
   "source": [
    "x[10:20]"
   ]
  },
  {
   "cell_type": "markdown",
   "id": "4af1266c",
   "metadata": {},
   "source": [
    "**QUESTION:** Where else have we seen this notation `[10:20]`?"
   ]
  },
  {
   "cell_type": "markdown",
   "id": "1e0d3dbd",
   "metadata": {},
   "source": [
    "**ANSWER:** `lists`! `ndarrays`!"
   ]
  },
  {
   "cell_type": "code",
   "execution_count": null,
   "id": "d8ea7083",
   "metadata": {},
   "outputs": [],
   "source": [
    "data.head()"
   ]
  },
  {
   "cell_type": "code",
   "execution_count": null,
   "id": "cbaad7ba",
   "metadata": {
    "scrolled": false
   },
   "outputs": [],
   "source": [
    "# Get every other row in the DataFrame\n",
    "\n",
    "data[10:20:2]"
   ]
  },
  {
   "cell_type": "code",
   "execution_count": null,
   "id": "457f1d4c",
   "metadata": {},
   "outputs": [],
   "source": [
    "data.sample(frac=1)[10:20:2]"
   ]
  },
  {
   "cell_type": "markdown",
   "id": "37770fdc",
   "metadata": {},
   "source": [
    "<br/>\n",
    "<br/>\n",
    "<br/>\n",
    "<br/>\n",
    "<br/>\n",
    "<br/>"
   ]
  },
  {
   "cell_type": "markdown",
   "id": "b45902ad",
   "metadata": {},
   "source": [
    "## Better way to access data using row index labels and column names"
   ]
  },
  {
   "cell_type": "markdown",
   "id": "da41c865",
   "metadata": {},
   "source": [
    "Use the dataframe index using `.loc`:\n",
    "  * instead of using the row order, you can use the **row index labels**\n",
    "  * can be much faster than using row order (if the row index labels are unique and can be hashed)"
   ]
  },
  {
   "cell_type": "code",
   "execution_count": null,
   "id": "ff19dc40",
   "metadata": {},
   "outputs": [],
   "source": [
    "data.head()"
   ]
  },
  {
   "cell_type": "code",
   "execution_count": null,
   "id": "605c6565",
   "metadata": {},
   "outputs": [],
   "source": [
    "data.loc"
   ]
  },
  {
   "cell_type": "markdown",
   "id": "012248a1",
   "metadata": {},
   "source": [
    "#### Get the row with the row labels `2`, `3`, and `4`"
   ]
  },
  {
   "cell_type": "code",
   "execution_count": null,
   "id": "6ee67e16",
   "metadata": {},
   "outputs": [],
   "source": [
    "data.head()"
   ]
  },
  {
   "cell_type": "code",
   "execution_count": null,
   "id": "a95cdadd",
   "metadata": {},
   "outputs": [],
   "source": [
    "x = data.sample(frac=1)\n",
    "x.head()"
   ]
  },
  {
   "cell_type": "code",
   "execution_count": null,
   "id": "8c293887",
   "metadata": {},
   "outputs": [],
   "source": [
    "x.loc[ [2, 3, 4] ]"
   ]
  },
  {
   "cell_type": "code",
   "execution_count": null,
   "id": "7b1b45ee",
   "metadata": {},
   "outputs": [],
   "source": [
    "x.loc.__getitem__( [2, 3, 4] )"
   ]
  },
  {
   "cell_type": "code",
   "execution_count": null,
   "id": "a0fee86e",
   "metadata": {},
   "outputs": [],
   "source": [
    "x.loc[ [2, 3, 4] ]"
   ]
  },
  {
   "cell_type": "markdown",
   "id": "332eb42e",
   "metadata": {},
   "source": [
    "Compare with this:"
   ]
  },
  {
   "cell_type": "code",
   "execution_count": null,
   "id": "79a0ac48",
   "metadata": {},
   "outputs": [],
   "source": [
    "list(range(2, 5))"
   ]
  },
  {
   "cell_type": "code",
   "execution_count": null,
   "id": "24e7ca2e",
   "metadata": {},
   "outputs": [],
   "source": [
    "x[2:5]"
   ]
  },
  {
   "cell_type": "markdown",
   "id": "5b21fc62",
   "metadata": {},
   "source": [
    "**You can, of course, just get a single row:**"
   ]
  },
  {
   "cell_type": "code",
   "execution_count": null,
   "id": "513fc04d",
   "metadata": {},
   "outputs": [],
   "source": [
    "x.loc[ [3] ]"
   ]
  },
  {
   "cell_type": "markdown",
   "id": "011616c7",
   "metadata": {},
   "source": [
    "#### Get a bunch of rows and columns"
   ]
  },
  {
   "cell_type": "markdown",
   "id": "d77f5b93",
   "metadata": {},
   "source": [
    "This uses row order:"
   ]
  },
  {
   "cell_type": "code",
   "execution_count": null,
   "id": "835585d8",
   "metadata": {},
   "outputs": [],
   "source": [
    "x[30:36]"
   ]
  },
  {
   "cell_type": "markdown",
   "id": "6debc296",
   "metadata": {},
   "source": [
    "This uses row labels:\n",
    "  * it will include all the rows between the row (or rows) that has label `30` and the row (or rows) that has the label `35`\n",
    "  * it may be empty if the row with label `35` shows up before the row with label `30`\n",
    "  * it may contain all your data if your very first row has the label `30` and your very last row has the label `35`"
   ]
  },
  {
   "cell_type": "code",
   "execution_count": null,
   "id": "449a83c0",
   "metadata": {},
   "outputs": [],
   "source": [
    "x.loc[30:35]"
   ]
  },
  {
   "cell_type": "markdown",
   "id": "fe2b8181",
   "metadata": {},
   "source": [
    "If you got no data above, try running the code below a few times (it will keep shuffling the rows):"
   ]
  },
  {
   "cell_type": "code",
   "execution_count": null,
   "id": "10c9d30e",
   "metadata": {},
   "outputs": [],
   "source": [
    "data.sample(frac=1).loc[30:35]"
   ]
  },
  {
   "cell_type": "markdown",
   "id": "80513f11",
   "metadata": {},
   "source": [
    "**Using `.loc[]` you can, of course, just get the rows with specific labels (perhaps using a list of row labels you want to extract):**"
   ]
  },
  {
   "cell_type": "code",
   "execution_count": null,
   "id": "0a393510",
   "metadata": {},
   "outputs": [],
   "source": [
    "list(range(30, 39))"
   ]
  },
  {
   "cell_type": "code",
   "execution_count": null,
   "id": "dee63ad6",
   "metadata": {},
   "outputs": [],
   "source": [
    "x.loc[ range(30, 39) ]"
   ]
  },
  {
   "cell_type": "markdown",
   "id": "a990195f",
   "metadata": {},
   "source": [
    "Notice how the row with label 35 is included as many times as you specified"
   ]
  },
  {
   "cell_type": "code",
   "execution_count": null,
   "id": "058df7ef",
   "metadata": {},
   "outputs": [],
   "source": [
    "data.loc[ [30, 35, 35, 33, 34, 35, 400] ]"
   ]
  },
  {
   "cell_type": "markdown",
   "id": "6cf3d316",
   "metadata": {},
   "source": [
    "**Using `.loc[]` you can also specify which columns you want:**"
   ]
  },
  {
   "cell_type": "code",
   "execution_count": null,
   "id": "369ca8d5",
   "metadata": {},
   "outputs": [],
   "source": [
    "data.sample(frac=1).loc[ 30:35 ]"
   ]
  },
  {
   "cell_type": "code",
   "execution_count": null,
   "id": "064abb37",
   "metadata": {},
   "outputs": [],
   "source": [
    "x.loc[ 30:35, ['Customer Id', 'Empathy'] ] "
   ]
  },
  {
   "cell_type": "code",
   "execution_count": null,
   "id": "318c39b8",
   "metadata": {},
   "outputs": [],
   "source": [
    "x = data.sample(frac=1)"
   ]
  },
  {
   "cell_type": "code",
   "execution_count": null,
   "id": "4f2bffcd",
   "metadata": {},
   "outputs": [],
   "source": [
    "x.loc[30:35, ['Customer Id', 'Empathy']] "
   ]
  },
  {
   "cell_type": "markdown",
   "id": "8e667b6d",
   "metadata": {},
   "source": [
    "#### Get a bunch of rows and ALL columns"
   ]
  },
  {
   "cell_type": "code",
   "execution_count": null,
   "id": "83d12e0d",
   "metadata": {},
   "outputs": [],
   "source": [
    "data.loc[30:35, 'Customer Id':'Empathy']"
   ]
  },
  {
   "cell_type": "code",
   "execution_count": null,
   "id": "e4e040b3",
   "metadata": {},
   "outputs": [],
   "source": [
    "# same as above\n",
    "data.loc[30:35]"
   ]
  },
  {
   "cell_type": "code",
   "execution_count": null,
   "id": "98c00a8c",
   "metadata": {},
   "outputs": [],
   "source": [
    "data.loc[ [1, 5, 10], ['Customer Id', 'Helpfulness', 'Empathy']]"
   ]
  },
  {
   "cell_type": "code",
   "execution_count": null,
   "id": "2a31a6dd",
   "metadata": {},
   "outputs": [],
   "source": [
    "data.loc[[1, 5, 10], 'Customer Id':'Rep Id']"
   ]
  },
  {
   "cell_type": "code",
   "execution_count": null,
   "id": "79095490",
   "metadata": {},
   "outputs": [],
   "source": [
    "data.loc[[1, 5, 10], data.columns[0]:data.columns[4]]"
   ]
  },
  {
   "cell_type": "markdown",
   "id": "fbcacdb5",
   "metadata": {},
   "source": [
    "### CAUTION!"
   ]
  },
  {
   "cell_type": "markdown",
   "id": "3cf80bfd",
   "metadata": {},
   "source": [
    "`loc` expects the optional column selector to list the columns by **name** or using a **boolean array**"
   ]
  },
  {
   "cell_type": "markdown",
   "id": "e9b245b4",
   "metadata": {},
   "source": [
    "## Using `loc` with rows-only selector"
   ]
  },
  {
   "cell_type": "markdown",
   "id": "013d5da9",
   "metadata": {},
   "source": [
    "<div>\n",
    "<img src=\"https://edlitera-images.s3.us-east-1.amazonaws.com/df_loc_1.png?1\" width=\"300\"/>\n",
    "</div>"
   ]
  },
  {
   "cell_type": "markdown",
   "id": "9f4cd572",
   "metadata": {},
   "source": [
    "## Using `loc` with rows and columns selectors"
   ]
  },
  {
   "cell_type": "markdown",
   "id": "1bef3606",
   "metadata": {},
   "source": [
    "<div>\n",
    "<img src=\"https://edlitera-images.s3.us-east-1.amazonaws.com/df_loc_2.png?1\" width=\"500\"/>\n",
    "</div>"
   ]
  },
  {
   "cell_type": "markdown",
   "id": "408efdd1",
   "metadata": {},
   "source": [
    "**THIS WON'T WORK**"
   ]
  },
  {
   "cell_type": "code",
   "execution_count": null,
   "id": "761cc780",
   "metadata": {},
   "outputs": [],
   "source": [
    "data.head()"
   ]
  },
  {
   "cell_type": "code",
   "execution_count": null,
   "id": "d9672179",
   "metadata": {},
   "outputs": [],
   "source": [
    "data.loc[30:35, 0:3]"
   ]
  },
  {
   "cell_type": "markdown",
   "id": "1b5bd124",
   "metadata": {},
   "source": [
    "**THIS WILL WORK**"
   ]
  },
  {
   "cell_type": "code",
   "execution_count": null,
   "id": "72356213",
   "metadata": {},
   "outputs": [],
   "source": [
    "data.loc[30:35, 'Customer Id':'Courtesy']"
   ]
  },
  {
   "cell_type": "code",
   "execution_count": null,
   "id": "d81521ba",
   "metadata": {},
   "outputs": [],
   "source": [
    "data.loc[30:35, data.columns[0]:data.columns[2]]"
   ]
  },
  {
   "cell_type": "code",
   "execution_count": null,
   "id": "17b2698a",
   "metadata": {},
   "outputs": [],
   "source": [
    "data.loc[30:35, data.columns[:3]]"
   ]
  },
  {
   "cell_type": "markdown",
   "id": "bebce17a",
   "metadata": {},
   "source": [
    "**THIS WON'T WORK**"
   ]
  },
  {
   "cell_type": "code",
   "execution_count": null,
   "id": "5ba46dfe",
   "metadata": {},
   "outputs": [],
   "source": [
    "data.loc[30:35, 0]"
   ]
  },
  {
   "cell_type": "markdown",
   "id": "c58eac43",
   "metadata": {},
   "source": [
    "**THIS WILL WORK**"
   ]
  },
  {
   "cell_type": "code",
   "execution_count": null,
   "id": "59cd9aa3",
   "metadata": {},
   "outputs": [],
   "source": [
    "data.loc[30:35, [data.columns[0]] ]"
   ]
  },
  {
   "cell_type": "markdown",
   "id": "13227275",
   "metadata": {},
   "source": [
    "**THIS _WILL_ WORK!**"
   ]
  },
  {
   "cell_type": "code",
   "execution_count": null,
   "id": "98951fef",
   "metadata": {},
   "outputs": [],
   "source": [
    "data.loc[30:35, [True, False, False, False, False, True, False, False, False]]"
   ]
  },
  {
   "cell_type": "code",
   "execution_count": null,
   "id": "d3ca1969",
   "metadata": {},
   "outputs": [],
   "source": [
    "data.loc[30:35, ['Customer Id', 'Date']]"
   ]
  },
  {
   "cell_type": "code",
   "execution_count": null,
   "id": "4767d272",
   "metadata": {},
   "outputs": [],
   "source": [
    "data.columns[:2]"
   ]
  },
  {
   "cell_type": "code",
   "execution_count": null,
   "id": "240c19bb",
   "metadata": {},
   "outputs": [],
   "source": [
    "data.loc[30:35, data.columns[:2]]"
   ]
  },
  {
   "cell_type": "markdown",
   "id": "cddd3d53",
   "metadata": {},
   "source": [
    "**REMEMBER:**\n",
    "  * when using `.loc`, the row selector requires **row index labels** or a boolean array and the column selector requires **column index labels (column names)** or a boolean array\n",
    "  * if your row index is numeric, the row index labels will be numbers\n",
    "  * if your row index is made of strings, dates, etc. your row index labels will be strings, dates, etc."
   ]
  },
  {
   "cell_type": "code",
   "execution_count": null,
   "id": "f314a4aa",
   "metadata": {},
   "outputs": [],
   "source": [
    "df = pd.DataFrame({\n",
    "    'Month': ['January', 'February', 'March', 'April'], \n",
    "    'Temperature': [30, 35, 40, 45]})"
   ]
  },
  {
   "cell_type": "code",
   "execution_count": null,
   "id": "00c0e05b",
   "metadata": {},
   "outputs": [],
   "source": [
    "df"
   ]
  },
  {
   "cell_type": "code",
   "execution_count": null,
   "id": "29c343d7",
   "metadata": {},
   "outputs": [],
   "source": [
    "df = df.set_index('Month')\n",
    "df"
   ]
  },
  {
   "cell_type": "code",
   "execution_count": null,
   "id": "88b170e5",
   "metadata": {},
   "outputs": [],
   "source": [
    "df.columns"
   ]
  },
  {
   "cell_type": "code",
   "execution_count": null,
   "id": "8d15fbaa",
   "metadata": {},
   "outputs": [],
   "source": [
    "df.index"
   ]
  },
  {
   "cell_type": "markdown",
   "id": "39b07b12",
   "metadata": {},
   "source": [
    "Compare:"
   ]
  },
  {
   "cell_type": "code",
   "execution_count": null,
   "id": "e01b7f77",
   "metadata": {},
   "outputs": [],
   "source": [
    "df[0:2]"
   ]
  },
  {
   "cell_type": "code",
   "execution_count": null,
   "id": "3e456a46",
   "metadata": {},
   "outputs": [],
   "source": [
    "# This won't work (there are no rows with index labels 0 or 2)\n",
    "df.loc[0:2]"
   ]
  },
  {
   "cell_type": "code",
   "execution_count": null,
   "id": "fd55c7a7",
   "metadata": {},
   "outputs": [],
   "source": [
    "# But this will work\n",
    "df.loc['January': 'February']"
   ]
  },
  {
   "cell_type": "code",
   "execution_count": null,
   "id": "6d44783d",
   "metadata": {},
   "outputs": [],
   "source": [
    "df.loc['January': 'February', ['Temperature']]"
   ]
  },
  {
   "cell_type": "markdown",
   "id": "87cb886b",
   "metadata": {},
   "source": [
    "<br><br>"
   ]
  },
  {
   "cell_type": "code",
   "execution_count": null,
   "id": "53e78270",
   "metadata": {},
   "outputs": [],
   "source": [
    "data = pd.read_csv(\"https://edlitera-datasets.s3.amazonaws.com/survey_sample.csv\")\n",
    "data.head()"
   ]
  },
  {
   "cell_type": "code",
   "execution_count": null,
   "id": "a3f321f9",
   "metadata": {},
   "outputs": [],
   "source": [
    "data = data.set_index('Rep Id')"
   ]
  },
  {
   "cell_type": "code",
   "execution_count": null,
   "id": "e77b78d3",
   "metadata": {},
   "outputs": [],
   "source": [
    "data.head()"
   ]
  },
  {
   "cell_type": "code",
   "execution_count": null,
   "id": "2d20e6a5",
   "metadata": {},
   "outputs": [],
   "source": [
    "data.loc[2105, ['Courtesy', 'Empathy']]"
   ]
  },
  {
   "cell_type": "markdown",
   "id": "679e90f0",
   "metadata": {},
   "source": [
    "<br><br><br><br><br><br>"
   ]
  },
  {
   "cell_type": "markdown",
   "id": "460940b2",
   "metadata": {},
   "source": [
    "## Exercise"
   ]
  },
  {
   "cell_type": "markdown",
   "id": "53ee13a8",
   "metadata": {},
   "source": [
    "(1) Using `pd.read_csv()` re-import the csv above (located at this address: https://edlitera-datasets.s3.amazonaws.com/survey_sample.csv) and store into a dataframe called `survey_data`. \n",
    "\n",
    "This time, we want to only import the following columns: `Customer Id`, `Helpfulness`, `Courtesy`, `Empathy` and `Rep Id`. \n",
    "\n",
    "**HINT:** use the optional `usecols` parameter when calling `read_csv` (more info here: https://pandas.pydata.org/pandas-docs/stable/reference/api/pandas.read_csv.html)\n",
    "\n",
    "(2) Using `set_index`, set the `Customer Id` column as the dataframe index and display the top 10 rows of the resulting dataframe. \n",
    "\n",
    "(3) Using `.loc[]`, print columns `Courtesy` and `Empathy` of all the rows starting from the beginning of the dataframe and going all the way until the row with a `Customer Id` of 1991. "
   ]
  },
  {
   "cell_type": "markdown",
   "id": "51cb7a6e",
   "metadata": {},
   "source": [
    "<br/>\n",
    "<br/>\n",
    "<br/>\n",
    "<br/>\n",
    "<br/>\n",
    "<br/>\n",
    "<br/>\n",
    "<br/>"
   ]
  },
  {
   "cell_type": "markdown",
   "id": "29ce31e6",
   "metadata": {},
   "source": [
    "#### Solution:"
   ]
  },
  {
   "cell_type": "markdown",
   "id": "34ef7b9a",
   "metadata": {},
   "source": [
    "#### (1)"
   ]
  },
  {
   "cell_type": "code",
   "execution_count": null,
   "id": "0207ea6e",
   "metadata": {},
   "outputs": [],
   "source": [
    "survey_data = pd.read_csv(\n",
    "    'https://edlitera-datasets.s3.amazonaws.com/survey_sample.csv',\n",
    "    usecols=['Customer Id', 'Helpfulness', 'Courtesy', 'Empathy', 'Rep Id']\n",
    ")\n",
    "\n",
    "survey_data.head()"
   ]
  },
  {
   "cell_type": "markdown",
   "id": "bce3472c",
   "metadata": {},
   "source": [
    "#### (2)"
   ]
  },
  {
   "cell_type": "code",
   "execution_count": null,
   "id": "63676c43",
   "metadata": {},
   "outputs": [],
   "source": [
    "# survey_data = survey_data.set_index('Customer Id')"
   ]
  },
  {
   "cell_type": "code",
   "execution_count": null,
   "id": "dc5c9c12",
   "metadata": {},
   "outputs": [],
   "source": [
    "survey_data.set_index('Customer Id', inplace=True)\n",
    "\n",
    "survey_data.head(10)"
   ]
  },
  {
   "cell_type": "code",
   "execution_count": null,
   "id": "8da5f620",
   "metadata": {},
   "outputs": [],
   "source": [
    "survey_data.columns"
   ]
  },
  {
   "cell_type": "code",
   "execution_count": null,
   "id": "93526627",
   "metadata": {},
   "outputs": [],
   "source": [
    "survey_data.index"
   ]
  },
  {
   "cell_type": "markdown",
   "id": "adf7263f",
   "metadata": {},
   "source": [
    "#### (3)"
   ]
  },
  {
   "cell_type": "code",
   "execution_count": null,
   "id": "f3f71123",
   "metadata": {},
   "outputs": [],
   "source": [
    "survey_data.loc[:1991, ['Courtesy', 'Empathy']]"
   ]
  },
  {
   "cell_type": "markdown",
   "id": "a944cb7f",
   "metadata": {},
   "source": [
    "<br/>\n",
    "<br/>"
   ]
  },
  {
   "cell_type": "markdown",
   "id": "1e9e037a",
   "metadata": {},
   "source": [
    "## Better way to access data by row position and column position"
   ]
  },
  {
   "cell_type": "code",
   "execution_count": null,
   "id": "7fa2a391",
   "metadata": {},
   "outputs": [],
   "source": [
    "data = pd.read_csv(\n",
    "    'https://edlitera-datasets.s3.amazonaws.com/survey_sample.csv'\n",
    ")"
   ]
  },
  {
   "cell_type": "code",
   "execution_count": null,
   "id": "0874b8fe",
   "metadata": {},
   "outputs": [],
   "source": [
    "data.head()"
   ]
  },
  {
   "cell_type": "markdown",
   "id": "0cba17a9",
   "metadata": {},
   "source": [
    "<br><br>"
   ]
  },
  {
   "cell_type": "markdown",
   "id": "7f463bef",
   "metadata": {},
   "source": [
    "#### How do we access the first 2 columns of the first 5 rows?"
   ]
  },
  {
   "cell_type": "markdown",
   "id": "3fa696c8",
   "metadata": {},
   "source": [
    "* using `.loc` is not very easy - it expects **row labels and column names**"
   ]
  },
  {
   "cell_type": "markdown",
   "id": "b33fbf18",
   "metadata": {},
   "source": [
    "* so we have to do something like this:"
   ]
  },
  {
   "cell_type": "code",
   "execution_count": null,
   "id": "0b241ce1",
   "metadata": {},
   "outputs": [],
   "source": [
    "data[:5]"
   ]
  },
  {
   "cell_type": "code",
   "execution_count": null,
   "id": "fb192ad0",
   "metadata": {},
   "outputs": [],
   "source": [
    "data.columns[:2]"
   ]
  },
  {
   "cell_type": "code",
   "execution_count": null,
   "id": "d3ddf1cc",
   "metadata": {},
   "outputs": [],
   "source": [
    "data[:5][ data.columns[:2] ]"
   ]
  },
  {
   "cell_type": "markdown",
   "id": "c4effcbe",
   "metadata": {},
   "source": [
    "* Meh, this works, but it's kinda ugly to look at. And we have to type lots of square brackets. Is there a better way?"
   ]
  },
  {
   "cell_type": "markdown",
   "id": "a8405b3f",
   "metadata": {},
   "source": [
    "<br><br>"
   ]
  },
  {
   "cell_type": "markdown",
   "id": "7890da28",
   "metadata": {},
   "source": [
    "#### Yep, there is!\n",
    "\n",
    "* use `.iloc`"
   ]
  },
  {
   "cell_type": "markdown",
   "id": "0e3b3b18",
   "metadata": {},
   "source": [
    "* like `.loc`, except that instead of **row labels** and **column names**, it uses **row position** and **column position**."
   ]
  },
  {
   "cell_type": "code",
   "execution_count": null,
   "id": "edb93771",
   "metadata": {},
   "outputs": [],
   "source": [
    "data.iloc"
   ]
  },
  {
   "cell_type": "code",
   "execution_count": null,
   "id": "b4d75962",
   "metadata": {},
   "outputs": [],
   "source": [
    "data.iloc[:5, :2]"
   ]
  },
  {
   "cell_type": "markdown",
   "id": "898d637f",
   "metadata": {},
   "source": [
    "#### Using `iloc` with rows-only selector"
   ]
  },
  {
   "cell_type": "code",
   "execution_count": null,
   "id": "6338803f",
   "metadata": {},
   "outputs": [],
   "source": [
    "data.iloc"
   ]
  },
  {
   "cell_type": "markdown",
   "id": "87de4aae",
   "metadata": {},
   "source": [
    "<div>\n",
    "<img src=\"https://edlitera-images.s3.us-east-1.amazonaws.com\\df_iloc_1.png\" width=\"300\"/>\n",
    "</div>"
   ]
  },
  {
   "cell_type": "markdown",
   "id": "fe752bd5",
   "metadata": {},
   "source": [
    "#### Using `iloc` with rows and columns selectors"
   ]
  },
  {
   "cell_type": "markdown",
   "id": "7bcbb15a",
   "metadata": {},
   "source": [
    "<div>\n",
    "<img src=\"https://edlitera-images.s3.us-east-1.amazonaws.com\\df_iloc_2.png\" width=\"500\"/>\n",
    "</div>"
   ]
  },
  {
   "cell_type": "markdown",
   "id": "151d458d",
   "metadata": {},
   "source": [
    "### Get the row at index 4 (fifth row in the dataframe)"
   ]
  },
  {
   "cell_type": "code",
   "execution_count": null,
   "id": "ef12e27b",
   "metadata": {},
   "outputs": [],
   "source": [
    "data.head()"
   ]
  },
  {
   "cell_type": "code",
   "execution_count": null,
   "id": "90014c57",
   "metadata": {},
   "outputs": [],
   "source": [
    "data.iloc[ [4] ]"
   ]
  },
  {
   "cell_type": "code",
   "execution_count": null,
   "id": "1cc1200a",
   "metadata": {},
   "outputs": [],
   "source": [
    "x = data.sample(frac=1)\n",
    "\n",
    "x.head(7)"
   ]
  },
  {
   "cell_type": "code",
   "execution_count": null,
   "id": "710943d1",
   "metadata": {},
   "outputs": [],
   "source": [
    "# Check out the `Name` attribute below. This indicates the\n",
    "# actual row index label for the extracted row.\n",
    "\n",
    "x.iloc[ [4] ]"
   ]
  },
  {
   "cell_type": "markdown",
   "id": "353eade1",
   "metadata": {},
   "source": [
    "Compare, again, with `.loc`:"
   ]
  },
  {
   "cell_type": "code",
   "execution_count": null,
   "id": "1c554b78",
   "metadata": {},
   "outputs": [],
   "source": [
    "x.loc[ [4] ]"
   ]
  },
  {
   "cell_type": "markdown",
   "id": "e1c7f5a8",
   "metadata": {},
   "source": [
    "#### Get a bunch of rows and the first three columns"
   ]
  },
  {
   "cell_type": "code",
   "execution_count": null,
   "id": "025c1e45",
   "metadata": {},
   "outputs": [],
   "source": [
    "x.head(20)"
   ]
  },
  {
   "cell_type": "code",
   "execution_count": null,
   "id": "f93c78e4",
   "metadata": {},
   "outputs": [],
   "source": [
    "x.iloc[10:14, :3]"
   ]
  },
  {
   "cell_type": "code",
   "execution_count": null,
   "id": "f793deac",
   "metadata": {},
   "outputs": [],
   "source": [
    "x.columns[:3]"
   ]
  },
  {
   "cell_type": "code",
   "execution_count": null,
   "id": "76dee5be",
   "metadata": {},
   "outputs": [],
   "source": [
    "x.loc[ [422, 44, 536, 590], x.columns[:3] ]"
   ]
  },
  {
   "cell_type": "markdown",
   "id": "ea3a3be4",
   "metadata": {},
   "source": [
    "#### Get a bunch of rows and a bunch of columns"
   ]
  },
  {
   "cell_type": "code",
   "execution_count": null,
   "id": "032ca247",
   "metadata": {},
   "outputs": [],
   "source": [
    "x.columns[1:4]"
   ]
  },
  {
   "cell_type": "code",
   "execution_count": null,
   "id": "b3e3342b",
   "metadata": {},
   "outputs": [],
   "source": [
    "x[10:14][x.columns[1:4]]"
   ]
  },
  {
   "cell_type": "code",
   "execution_count": null,
   "id": "4a4425b7",
   "metadata": {},
   "outputs": [],
   "source": [
    "x.iloc[10:14, 1:4]"
   ]
  },
  {
   "cell_type": "markdown",
   "id": "f523d351",
   "metadata": {},
   "source": [
    "<br/>\n",
    "<br/>\n",
    "<br/>\n",
    "<br/>\n",
    "<br/>\n",
    "<br/>\n",
    "<br/>\n",
    "<br/>"
   ]
  },
  {
   "cell_type": "markdown",
   "id": "50a6957a",
   "metadata": {},
   "source": [
    "## Get unique values in a column"
   ]
  },
  {
   "cell_type": "code",
   "execution_count": null,
   "id": "99637616",
   "metadata": {},
   "outputs": [],
   "source": [
    "data.head()"
   ]
  },
  {
   "cell_type": "code",
   "execution_count": null,
   "id": "c3aec285",
   "metadata": {
    "slideshow": {
     "slide_type": "slide"
    }
   },
   "outputs": [],
   "source": [
    "data['Helpfulness'].unique()"
   ]
  },
  {
   "cell_type": "markdown",
   "id": "6ab073bd",
   "metadata": {},
   "source": [
    "**NOTE:** `.unique()` is a method on a `Series` object"
   ]
  },
  {
   "cell_type": "markdown",
   "id": "158d8226",
   "metadata": {},
   "source": [
    "<br/>\n",
    "<br/>\n",
    "<br/>\n",
    "<br/>\n",
    "<br/>\n",
    "<br/>\n",
    "<br/>\n",
    "<br/>"
   ]
  },
  {
   "cell_type": "markdown",
   "id": "0c80eb77",
   "metadata": {},
   "source": [
    "## Exercise"
   ]
  },
  {
   "cell_type": "markdown",
   "id": "4af76841",
   "metadata": {},
   "source": [
    "Import the csv file available at `https://edlitera-datasets.s3.amazonaws.com/survey_sample.csv` into a Pandas DataFrame and answer the questions below."
   ]
  },
  {
   "cell_type": "markdown",
   "id": "16c847ab",
   "metadata": {},
   "source": [
    "1. Get the unique values in the `Courtesy` column for the 13th, 14th, 15th and 16th row in the `data` dataframe\n",
    "<br><br>\n",
    "2. Get the unique values in the `Courtesy` column for the rows with labels 13, 14, 15, 16 in the `data` dataframe"
   ]
  },
  {
   "cell_type": "markdown",
   "id": "c4a15bab",
   "metadata": {},
   "source": [
    "<br/>\n",
    "<br/>\n",
    "<br/>\n",
    "<br/>\n",
    "<br/>\n",
    "<br/>\n",
    "<br/>\n",
    "<br/>"
   ]
  },
  {
   "cell_type": "markdown",
   "id": "e3f50eee",
   "metadata": {},
   "source": [
    "**SOLUTION:**"
   ]
  },
  {
   "cell_type": "code",
   "execution_count": null,
   "id": "df0d54a7",
   "metadata": {},
   "outputs": [],
   "source": [
    "data = pd.read_csv(\n",
    "    'https://edlitera-datasets.s3.amazonaws.com/survey_sample.csv'\n",
    ")"
   ]
  },
  {
   "cell_type": "code",
   "execution_count": null,
   "id": "62ddb052",
   "metadata": {},
   "outputs": [],
   "source": [
    "data.head()"
   ]
  },
  {
   "cell_type": "markdown",
   "id": "659cb8fd",
   "metadata": {},
   "source": [
    "**1. Unique values in the `Courtesy` column in the 13th, 14th, 15th and 16th row in the `data` dataframe:**"
   ]
  },
  {
   "cell_type": "code",
   "execution_count": null,
   "id": "63d89313",
   "metadata": {},
   "outputs": [],
   "source": [
    "data.iloc[12:16]"
   ]
  },
  {
   "cell_type": "code",
   "execution_count": null,
   "id": "7530bd62",
   "metadata": {},
   "outputs": [],
   "source": [
    "data.iloc[12:16, 2]"
   ]
  },
  {
   "cell_type": "code",
   "execution_count": null,
   "id": "af4b818e",
   "metadata": {},
   "outputs": [],
   "source": [
    "# Option 1\n",
    "\n",
    "data.iloc[12:16, 2].unique()"
   ]
  },
  {
   "cell_type": "code",
   "execution_count": null,
   "id": "0955ab6b",
   "metadata": {},
   "outputs": [],
   "source": [
    "data.iloc[12:16]['Courtesy']"
   ]
  },
  {
   "cell_type": "code",
   "execution_count": null,
   "id": "fd7aa041",
   "metadata": {},
   "outputs": [],
   "source": [
    "# Option 2\n",
    "\n",
    "data.iloc[12:16]['Courtesy'].unique()"
   ]
  },
  {
   "cell_type": "code",
   "execution_count": null,
   "id": "62e9f8d5",
   "metadata": {},
   "outputs": [],
   "source": [
    "data[12:16]"
   ]
  },
  {
   "cell_type": "code",
   "execution_count": null,
   "id": "57f10af0",
   "metadata": {},
   "outputs": [],
   "source": [
    "data[12:16]['Courtesy']"
   ]
  },
  {
   "cell_type": "code",
   "execution_count": null,
   "id": "b146bf59",
   "metadata": {},
   "outputs": [],
   "source": [
    "# Option 3\n",
    "\n",
    "data[12:16]['Courtesy'].unique()"
   ]
  },
  {
   "cell_type": "code",
   "execution_count": null,
   "id": "fd3c2f87",
   "metadata": {},
   "outputs": [],
   "source": [
    "data.columns[2]"
   ]
  },
  {
   "cell_type": "code",
   "execution_count": null,
   "id": "3f6089d8",
   "metadata": {},
   "outputs": [],
   "source": [
    "data[12:16][data.columns[2]]"
   ]
  },
  {
   "cell_type": "code",
   "execution_count": null,
   "id": "3dad4a55",
   "metadata": {},
   "outputs": [],
   "source": [
    "# Option 4\n",
    "\n",
    "data[12:16][data.columns[2]].unique()"
   ]
  },
  {
   "cell_type": "code",
   "execution_count": null,
   "id": "07149a83",
   "metadata": {},
   "outputs": [],
   "source": [
    "data.iloc[12:16][data.columns[2]]"
   ]
  },
  {
   "cell_type": "code",
   "execution_count": null,
   "id": "cd3201cf",
   "metadata": {},
   "outputs": [],
   "source": [
    "# Option 5\n",
    "\n",
    "data.iloc[12:16][data.columns[2]].unique()"
   ]
  },
  {
   "cell_type": "markdown",
   "id": "8a005d63",
   "metadata": {},
   "source": [
    "**2. Unique values in the `Courtesy` column for the rows with labels 13, 14, 15, 16 in the data dataframe:**"
   ]
  },
  {
   "cell_type": "code",
   "execution_count": null,
   "id": "95980da9",
   "metadata": {},
   "outputs": [],
   "source": [
    "data.loc[[13, 14, 15, 16], 'Courtesy']"
   ]
  },
  {
   "cell_type": "code",
   "execution_count": null,
   "id": "003dc3b2",
   "metadata": {},
   "outputs": [],
   "source": [
    "data.loc[[13, 14, 15, 16], 'Courtesy'].unique()"
   ]
  },
  {
   "cell_type": "code",
   "execution_count": null,
   "id": "8a3f2108",
   "metadata": {},
   "outputs": [],
   "source": [
    "data.loc[13:16, 'Courtesy'] # only correct if the index is sorted!!"
   ]
  },
  {
   "cell_type": "code",
   "execution_count": null,
   "id": "a191f309",
   "metadata": {},
   "outputs": [],
   "source": [
    "data.loc[13:16, 'Courtesy'].unique()"
   ]
  },
  {
   "cell_type": "code",
   "execution_count": null,
   "id": "7a1ee3a2",
   "metadata": {},
   "outputs": [],
   "source": [
    "list(range(13, 20, 2))"
   ]
  },
  {
   "cell_type": "code",
   "execution_count": null,
   "id": "c1e28f68",
   "metadata": {},
   "outputs": [],
   "source": [
    "data.loc[range(13, 17), 'Courtesy'].unique()"
   ]
  },
  {
   "cell_type": "code",
   "execution_count": null,
   "id": "4120d01e",
   "metadata": {},
   "outputs": [],
   "source": []
  }
 ],
 "metadata": {
  "kernelspec": {
   "display_name": "data_processing_environment",
   "language": "python",
   "name": "data_processing_environment"
  },
  "language_info": {
   "codemirror_mode": {
    "name": "ipython",
    "version": 3
   },
   "file_extension": ".py",
   "mimetype": "text/x-python",
   "name": "python",
   "nbconvert_exporter": "python",
   "pygments_lexer": "ipython3",
   "version": "3.9.18"
  }
 },
 "nbformat": 4,
 "nbformat_minor": 5
}
