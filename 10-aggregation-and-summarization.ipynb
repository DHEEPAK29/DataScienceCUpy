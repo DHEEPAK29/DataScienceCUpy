{
 "cells": [
  {
   "cell_type": "markdown",
   "id": "619cd04b",
   "metadata": {},
   "source": [
    "<div>\n",
    "<img src=\"https://edlitera-images.s3.us-east-1.amazonaws.com/new_edlitera_logo.png\" width=\"500\"/>\n",
    "</div>"
   ]
  },
  {
   "cell_type": "markdown",
   "id": "3017fa56",
   "metadata": {},
   "source": [
    "<br/>\n",
    "<br/>\n",
    "<br/>\n",
    "<br/>\n",
    "<br/>\n",
    "<br/>\n",
    "<br/>\n",
    "<br/>"
   ]
  },
  {
   "cell_type": "code",
   "execution_count": null,
   "id": "575bd879",
   "metadata": {},
   "outputs": [],
   "source": [
    "import pandas as pd\n",
    "import numpy as np\n",
    "import datetime\n",
    "\n",
    "pd.options.display.float_format = '{:,.2f}'.format"
   ]
  },
  {
   "cell_type": "markdown",
   "id": "d3d9b436",
   "metadata": {},
   "source": [
    "<br/>\n",
    "<br/>\n",
    "<br/>\n",
    "<br/>\n",
    "<br/>\n",
    "<br/>\n",
    "<br/>\n",
    "<br/>"
   ]
  },
  {
   "cell_type": "markdown",
   "id": "ff931704",
   "metadata": {
    "slideshow": {
     "slide_type": "slide"
    }
   },
   "source": [
    "## Pivot tables\n",
    "Very similar to Excel pivot tables."
   ]
  },
  {
   "cell_type": "code",
   "execution_count": null,
   "id": "149995a6",
   "metadata": {},
   "outputs": [],
   "source": [
    "data = pd.read_csv(\n",
    "    \"https://edlitera-datasets.s3.amazonaws.com/survey_sample.csv\", \n",
    "    parse_dates=['Date']\n",
    ")"
   ]
  },
  {
   "cell_type": "code",
   "execution_count": null,
   "id": "0e0e696e",
   "metadata": {},
   "outputs": [],
   "source": [
    "data.head()"
   ]
  },
  {
   "cell_type": "code",
   "execution_count": null,
   "id": "979f2c83",
   "metadata": {},
   "outputs": [],
   "source": [
    "reps = pd.read_excel(\n",
    "    'https://edlitera-datasets.s3.amazonaws.com/survey_mappings.xlsx',\n",
    "    'Reps'\n",
    ")\n",
    "\n",
    "reps.head()"
   ]
  },
  {
   "cell_type": "code",
   "execution_count": null,
   "id": "78ff3c53",
   "metadata": {},
   "outputs": [],
   "source": [
    "data = pd.merge(\n",
    "    data, reps, \n",
    "    left_on='Rep Id', right_on='Rep Id', \n",
    "    how='left'\n",
    ")\n",
    "\n",
    "data.head()"
   ]
  },
  {
   "cell_type": "markdown",
   "id": "51b2dafe",
   "metadata": {},
   "source": [
    "<br><br><Br>"
   ]
  },
  {
   "cell_type": "markdown",
   "id": "cdd8388c",
   "metadata": {},
   "source": [
    "Let's find out the average scores in each category for each rep."
   ]
  },
  {
   "cell_type": "code",
   "execution_count": null,
   "id": "e538853b",
   "metadata": {
    "slideshow": {
     "slide_type": "slide"
    }
   },
   "outputs": [],
   "source": [
    "data.pivot_table(\n",
    "    index='Rep Name', \n",
    "    values=['Helpfulness', 'Courtesy', 'Empathy'], \n",
    "    aggfunc='mean')"
   ]
  },
  {
   "cell_type": "markdown",
   "id": "33124178",
   "metadata": {},
   "source": [
    "**NOTES:**\n",
    "* `index` allows us to specify how we group the rows in the DataFrame\n",
    "* `values` allows us to specify which columns to aggregate\n",
    "* `aggfunc` allows us to specify what kind of aggregations to perform (sums, means, etc.)"
   ]
  },
  {
   "cell_type": "markdown",
   "id": "d29fcd1a",
   "metadata": {},
   "source": [
    "<br><br><br>"
   ]
  },
  {
   "cell_type": "markdown",
   "id": "155f657e",
   "metadata": {},
   "source": [
    "## Computing multiple aggregations in a pivot table, at the same time"
   ]
  },
  {
   "cell_type": "code",
   "execution_count": null,
   "id": "d7537011",
   "metadata": {},
   "outputs": [],
   "source": [
    "data.head()"
   ]
  },
  {
   "cell_type": "code",
   "execution_count": null,
   "id": "044f45c3",
   "metadata": {},
   "outputs": [],
   "source": [
    "dt = data.pivot_table(\n",
    "    index='Rep Name', \n",
    "    values=['Helpfulness', 'Courtesy', 'Empathy'], \n",
    "    aggfunc=['mean', 'std'])\n",
    "\n",
    "dt"
   ]
  },
  {
   "cell_type": "code",
   "execution_count": null,
   "id": "ac1128d5",
   "metadata": {},
   "outputs": [],
   "source": [
    "dt.index"
   ]
  },
  {
   "cell_type": "code",
   "execution_count": null,
   "id": "4b3eac6b",
   "metadata": {},
   "outputs": [],
   "source": [
    "dt.columns"
   ]
  },
  {
   "cell_type": "code",
   "execution_count": null,
   "id": "206a3e4a",
   "metadata": {},
   "outputs": [],
   "source": [
    "dt.loc['Joanna', ('mean',    'Courtesy')]"
   ]
  },
  {
   "cell_type": "markdown",
   "id": "a1e91e78",
   "metadata": {},
   "source": [
    "<br><br><br>"
   ]
  },
  {
   "cell_type": "markdown",
   "id": "c2e1b65e",
   "metadata": {},
   "source": [
    "## Breaking down (splitting) aggregations by other columns"
   ]
  },
  {
   "cell_type": "code",
   "execution_count": null,
   "id": "5f716558",
   "metadata": {},
   "outputs": [],
   "source": [
    "dt = data.pivot_table(\n",
    "    index='Rep Name', \n",
    "    values=['Helpfulness', 'Courtesy', 'Empathy'], \n",
    "    aggfunc=['mean', 'std'])\n",
    "\n",
    "dt"
   ]
  },
  {
   "cell_type": "markdown",
   "id": "4b0dd5c7",
   "metadata": {},
   "source": [
    "<br><br>"
   ]
  },
  {
   "cell_type": "markdown",
   "id": "cc0ef4be",
   "metadata": {},
   "source": [
    "You will notice that the survey data is from two different years. We can further break down the data by year."
   ]
  },
  {
   "cell_type": "code",
   "execution_count": null,
   "id": "6a483afa",
   "metadata": {},
   "outputs": [],
   "source": [
    "data.head()"
   ]
  },
  {
   "cell_type": "code",
   "execution_count": null,
   "id": "7253d6a8",
   "metadata": {},
   "outputs": [],
   "source": [
    "data.tail()"
   ]
  },
  {
   "cell_type": "code",
   "execution_count": null,
   "id": "d1ed0123",
   "metadata": {},
   "outputs": [],
   "source": [
    "dt = data.pivot_table(\n",
    "    index=['Rep Name', 'Date'],\n",
    "    values=['Helpfulness', 'Courtesy', 'Empathy'], \n",
    "    aggfunc=['mean', 'std'])\n",
    "\n",
    "dt"
   ]
  },
  {
   "cell_type": "code",
   "execution_count": null,
   "id": "d0233ce2",
   "metadata": {},
   "outputs": [],
   "source": [
    "dt.index"
   ]
  },
  {
   "cell_type": "code",
   "execution_count": null,
   "id": "3b106b55",
   "metadata": {},
   "outputs": [],
   "source": [
    "dt.columns"
   ]
  },
  {
   "cell_type": "code",
   "execution_count": null,
   "id": "892464dd",
   "metadata": {},
   "outputs": [],
   "source": [
    "dt.loc[('Mark', '2019-12-01'), ('mean', 'Courtesy')]"
   ]
  },
  {
   "cell_type": "code",
   "execution_count": null,
   "id": "f55e31fb",
   "metadata": {},
   "outputs": [],
   "source": [
    "dt.loc['Nicole']"
   ]
  },
  {
   "cell_type": "code",
   "execution_count": null,
   "id": "af797925",
   "metadata": {},
   "outputs": [],
   "source": [
    "dt.loc[:, [('mean', 'Empathy')]]"
   ]
  },
  {
   "cell_type": "markdown",
   "id": "6f764b60",
   "metadata": {},
   "source": [
    "<br><br>"
   ]
  },
  {
   "cell_type": "markdown",
   "id": "45ea3261",
   "metadata": {},
   "source": [
    "## Another way to break down aggregations by other columns"
   ]
  },
  {
   "cell_type": "markdown",
   "id": "d5db639a",
   "metadata": {},
   "source": [
    "So far, we've done this:"
   ]
  },
  {
   "cell_type": "code",
   "execution_count": null,
   "id": "b7272ead",
   "metadata": {},
   "outputs": [],
   "source": [
    "dt = data.pivot_table(\n",
    "    index=['Rep Name', 'Date'],\n",
    "    values=['Helpfulness', 'Courtesy', 'Empathy'], \n",
    "    aggfunc=['mean', 'std'])\n",
    "\n",
    "dt"
   ]
  },
  {
   "cell_type": "markdown",
   "id": "8ccfb523",
   "metadata": {},
   "source": [
    "<br><Br>"
   ]
  },
  {
   "cell_type": "markdown",
   "id": "2886a8c2",
   "metadata": {},
   "source": [
    "But, we can also do this:"
   ]
  },
  {
   "cell_type": "code",
   "execution_count": null,
   "id": "b221b247",
   "metadata": {},
   "outputs": [],
   "source": [
    "dt = data.pivot_table(\n",
    "    index=['Rep Name'],\n",
    "    columns=['Date', 'Location'],\n",
    "    values=['Helpfulness', 'Courtesy', 'Empathy'], \n",
    "    aggfunc=['mean', 'std'])\n",
    "\n",
    "dt"
   ]
  },
  {
   "cell_type": "code",
   "execution_count": null,
   "id": "d35a5030",
   "metadata": {},
   "outputs": [],
   "source": [
    "dt.index"
   ]
  },
  {
   "cell_type": "code",
   "execution_count": null,
   "id": "c447ac15",
   "metadata": {},
   "outputs": [],
   "source": [
    "dt.columns"
   ]
  },
  {
   "cell_type": "code",
   "execution_count": null,
   "id": "3c314d59",
   "metadata": {},
   "outputs": [],
   "source": [
    "dt.loc['Joanna', ('mean', 'Courtesy', '2019-12-01', 'online')]"
   ]
  },
  {
   "cell_type": "markdown",
   "id": "945c59b7",
   "metadata": {},
   "source": [
    "<br><br><br>"
   ]
  },
  {
   "cell_type": "markdown",
   "id": "250a14c4",
   "metadata": {},
   "source": [
    "## Add totals to your pivot table"
   ]
  },
  {
   "cell_type": "code",
   "execution_count": null,
   "id": "e4e7f2a8",
   "metadata": {},
   "outputs": [],
   "source": [
    "data.pivot_table(\n",
    "    index='Rep Name', \n",
    "    columns=['Date'],\n",
    "    values=['Helpfulness', 'Courtesy', 'Empathy'], \n",
    "    aggfunc=['mean', 'median'])"
   ]
  },
  {
   "cell_type": "markdown",
   "id": "605cd380",
   "metadata": {},
   "source": [
    "<br><br>"
   ]
  },
  {
   "cell_type": "markdown",
   "id": "c7a67e64",
   "metadata": {},
   "source": [
    "What if we want to add subtotals?"
   ]
  },
  {
   "cell_type": "code",
   "execution_count": null,
   "id": "f1c3ca2f",
   "metadata": {},
   "outputs": [],
   "source": [
    "data.pivot_table(\n",
    "    index='Rep Name', \n",
    "    columns=['Date'],\n",
    "    values=['Helpfulness', 'Courtesy', 'Empathy'], \n",
    "    aggfunc=['mean', 'median'], \n",
    "    margins=True)"
   ]
  },
  {
   "cell_type": "code",
   "execution_count": null,
   "id": "59ca03d7",
   "metadata": {},
   "outputs": [],
   "source": [
    "data.pivot_table(\n",
    "    index='Rep Name', \n",
    "    columns=['Date'],\n",
    "    values=['Helpfulness', 'Courtesy', 'Empathy'], \n",
    "    aggfunc=['mean', 'median'], \n",
    "    margins=True).columns"
   ]
  },
  {
   "cell_type": "markdown",
   "id": "8849c3e7",
   "metadata": {},
   "source": [
    "<br/>\n",
    "<br/>\n",
    "<br/>\n",
    "<br/>\n",
    "<br/>\n",
    "<br/>\n",
    "<br/>\n",
    "<br/>"
   ]
  },
  {
   "cell_type": "markdown",
   "id": "94f6ab6b",
   "metadata": {
    "slideshow": {
     "slide_type": "slide"
    }
   },
   "source": [
    "## Aggregating and summarizing data with the `groupby()` method"
   ]
  },
  {
   "cell_type": "markdown",
   "id": "5b31b92f",
   "metadata": {},
   "source": [
    "This works similarly to `SQL`'s `GROUP BY` "
   ]
  },
  {
   "cell_type": "code",
   "execution_count": null,
   "id": "7d613733",
   "metadata": {},
   "outputs": [],
   "source": [
    "data = pd.read_csv(\n",
    "    \"https://edlitera-datasets.s3.amazonaws.com/survey_sample.csv\", \n",
    "    parse_dates=['Date']\n",
    ")\n",
    "\n",
    "reps = pd.read_excel(\n",
    "    'https://edlitera-datasets.s3.amazonaws.com/survey_mappings.xlsx',\n",
    "    'Reps'\n",
    ")\n",
    "\n",
    "data = pd.merge(\n",
    "    data, reps, \n",
    "    left_on='Rep Id', right_on='Rep Id', \n",
    "    how='left'\n",
    ")\n",
    "\n",
    "data.head()"
   ]
  },
  {
   "cell_type": "markdown",
   "id": "811e83dd",
   "metadata": {},
   "source": [
    "<br><br>"
   ]
  },
  {
   "cell_type": "markdown",
   "id": "42c78913",
   "metadata": {},
   "source": [
    "We want to compute the average `Helpfulness`, `Courtesy` and `Empathy` scores by `Rep Name` and `Date`."
   ]
  },
  {
   "cell_type": "code",
   "execution_count": null,
   "id": "287dded0",
   "metadata": {},
   "outputs": [],
   "source": [
    "data[[\n",
    "    'Helpfulness', \n",
    "    'Courtesy', \n",
    "    'Empathy', \n",
    "    'Rep Name', \n",
    "    'Date']]"
   ]
  },
  {
   "cell_type": "code",
   "execution_count": null,
   "id": "1fb1318b",
   "metadata": {},
   "outputs": [],
   "source": [
    "dt = data[[\n",
    "    'Helpfulness', \n",
    "    'Courtesy', \n",
    "    'Empathy', \n",
    "    'Rep Name', \n",
    "    'Date']].groupby(['Rep Name', 'Date']).mean()\n",
    "\n",
    "dt"
   ]
  },
  {
   "cell_type": "code",
   "execution_count": null,
   "id": "917bd07c",
   "metadata": {
    "scrolled": true
   },
   "outputs": [],
   "source": [
    "dir(data[[\n",
    "    'Helpfulness', \n",
    "    'Courtesy', \n",
    "    'Empathy', \n",
    "    'Rep Name', \n",
    "    'Date']].groupby(['Rep Name', 'Date']))"
   ]
  },
  {
   "cell_type": "markdown",
   "id": "95c3b5f7",
   "metadata": {},
   "source": [
    "### `groupby` syntax explained"
   ]
  },
  {
   "cell_type": "markdown",
   "id": "ad8cbef7",
   "metadata": {},
   "source": [
    "<div>\n",
    "<img src=\"https://edlitera-images.s3.us-east-1.amazonaws.com\\groupby_1.png\" width=\"700\"/>\n",
    "</div>"
   ]
  },
  {
   "cell_type": "markdown",
   "id": "dfb84bf5",
   "metadata": {},
   "source": [
    "### `groupby` mechanics explained"
   ]
  },
  {
   "cell_type": "markdown",
   "id": "02a2a439",
   "metadata": {},
   "source": [
    "<div>\n",
    "<img src=\"https://edlitera-images.s3.us-east-1.amazonaws.com\\groupby_2.png\"/>\n",
    "</div>"
   ]
  },
  {
   "cell_type": "markdown",
   "id": "e2b71cb9",
   "metadata": {},
   "source": [
    "<br><br><br><br><br><br>"
   ]
  },
  {
   "cell_type": "markdown",
   "id": "46ef2f2b",
   "metadata": {},
   "source": [
    "## Compute multiple aggregations at once using the `groupby` method"
   ]
  },
  {
   "cell_type": "code",
   "execution_count": null,
   "id": "6e53b5d6",
   "metadata": {},
   "outputs": [],
   "source": [
    "data[['Helpfulness', 'Courtesy', 'Empathy', 'Rep Name', 'Date']] \\\n",
    "   .groupby(['Rep Name', 'Date']).agg(['mean', 'std'])"
   ]
  },
  {
   "cell_type": "code",
   "execution_count": null,
   "id": "81739604",
   "metadata": {},
   "outputs": [],
   "source": [
    "(\n",
    "    data[[\n",
    "        'Helpfulness', \n",
    "        'Courtesy', \n",
    "        'Empathy', \n",
    "        'Rep Name', \n",
    "        'Date']]\n",
    "    .groupby(['Rep Name', 'Date'])\n",
    "    .agg(['mean', 'std'])\n",
    ")"
   ]
  },
  {
   "cell_type": "code",
   "execution_count": null,
   "id": "55f98a85",
   "metadata": {},
   "outputs": [],
   "source": [
    "df = (\n",
    "    data[[\n",
    "        'Helpfulness', \n",
    "        'Courtesy', \n",
    "        'Empathy', \n",
    "        'Rep Name', \n",
    "        'Date']]\n",
    "    .groupby(['Rep Name', 'Date'])\n",
    "    .agg(['mean', 'std'])\n",
    ")\n",
    "\n",
    "df"
   ]
  },
  {
   "cell_type": "code",
   "execution_count": null,
   "id": "4cce3d1a",
   "metadata": {},
   "outputs": [],
   "source": [
    "dt.index"
   ]
  },
  {
   "cell_type": "code",
   "execution_count": null,
   "id": "256d8fe6",
   "metadata": {},
   "outputs": [],
   "source": [
    "df.columns"
   ]
  },
  {
   "cell_type": "markdown",
   "id": "157aa755",
   "metadata": {},
   "source": [
    "<br/>\n",
    "<br/>\n",
    "<br/>\n",
    "<br/>\n",
    "<br/>\n",
    "<br/>\n",
    "<br/>\n",
    "<br/>"
   ]
  },
  {
   "cell_type": "markdown",
   "id": "6ac93598",
   "metadata": {},
   "source": [
    "## Accessing data when you have a multi-index"
   ]
  },
  {
   "cell_type": "code",
   "execution_count": null,
   "id": "8e67c727",
   "metadata": {},
   "outputs": [],
   "source": [
    "data = pd.read_csv(\n",
    "    \"https://edlitera-datasets.s3.amazonaws.com/survey_sample.csv\", \n",
    "    parse_dates=['Date']\n",
    ")\n",
    "\n",
    "reps = pd.read_excel(\n",
    "    'https://edlitera-datasets.s3.amazonaws.com/survey_mappings.xlsx',\n",
    "    'Reps'\n",
    ")\n",
    "\n",
    "data = pd.merge(\n",
    "    data, reps, \n",
    "    left_on='Rep Id', right_on='Rep Id', \n",
    "    how='left'\n",
    ")\n",
    "\n",
    "data.head()"
   ]
  },
  {
   "cell_type": "code",
   "execution_count": null,
   "id": "5d572e08",
   "metadata": {},
   "outputs": [],
   "source": [
    "pivot_data = data.pivot_table(\n",
    "    index=['Rep Name', 'Location'],\n",
    "    columns=['Date'],\n",
    "    values=['Helpfulness', 'Courtesy', 'Empathy'], \n",
    "    aggfunc=['mean', 'std'])"
   ]
  },
  {
   "cell_type": "code",
   "execution_count": null,
   "id": "854026a1",
   "metadata": {},
   "outputs": [],
   "source": [
    "pivot_data"
   ]
  },
  {
   "cell_type": "code",
   "execution_count": null,
   "id": "6d9d9857",
   "metadata": {},
   "outputs": [],
   "source": [
    "pivot_data.index"
   ]
  },
  {
   "cell_type": "code",
   "execution_count": null,
   "id": "58be5061",
   "metadata": {},
   "outputs": [],
   "source": [
    "pivot_data.columns"
   ]
  },
  {
   "cell_type": "markdown",
   "id": "0088587c",
   "metadata": {},
   "source": [
    "<br><br><br><br>"
   ]
  },
  {
   "cell_type": "markdown",
   "id": "62a48b07",
   "metadata": {},
   "source": [
    "### Extract one row from a DataFrame with a row multi-index"
   ]
  },
  {
   "cell_type": "code",
   "execution_count": null,
   "id": "ab00c37a",
   "metadata": {},
   "outputs": [],
   "source": [
    "pivot_data"
   ]
  },
  {
   "cell_type": "code",
   "execution_count": null,
   "id": "97323a77",
   "metadata": {},
   "outputs": [],
   "source": [
    "pivot_data.loc[ ('Nicole',  'store') ]"
   ]
  },
  {
   "cell_type": "code",
   "execution_count": null,
   "id": "79c1db0b",
   "metadata": {},
   "outputs": [],
   "source": [
    "pivot_data.loc[ ('Sam', 'online') ]"
   ]
  },
  {
   "cell_type": "markdown",
   "id": "19ae24a2",
   "metadata": {},
   "source": [
    "<br><br><br><br>"
   ]
  },
  {
   "cell_type": "markdown",
   "id": "63734b49",
   "metadata": {},
   "source": [
    "### Extract multiple rows from a DataFrame with a row multi-index"
   ]
  },
  {
   "cell_type": "markdown",
   "id": "4bbd81b0",
   "metadata": {},
   "source": [
    "We have several options, depending on what we want:\n",
    "<br>\n",
    "* we can use a slice notation\n",
    "<br><br>\n",
    "* if we have `n` levels in the row index, we can specify a value for the first `x` levels, where `x < n`"
   ]
  },
  {
   "cell_type": "markdown",
   "id": "1baa96fc",
   "metadata": {},
   "source": [
    "### Using a slice notation"
   ]
  },
  {
   "cell_type": "code",
   "execution_count": null,
   "id": "9521373d",
   "metadata": {},
   "outputs": [],
   "source": [
    "pivot_data"
   ]
  },
  {
   "cell_type": "code",
   "execution_count": null,
   "id": "dfdfba91",
   "metadata": {},
   "outputs": [],
   "source": [
    "pivot_data.loc[ ('Nicole',  'online'):('Sam', 'store') ]"
   ]
  },
  {
   "cell_type": "code",
   "execution_count": null,
   "id": "f00d17b7",
   "metadata": {},
   "outputs": [],
   "source": [
    "pivot_data.loc[ [ ('Nicole',  'online'), ('Sam', 'store'), ('Mark', 'online') ] ]"
   ]
  },
  {
   "cell_type": "markdown",
   "id": "4822fef7",
   "metadata": {},
   "source": [
    "#### Btw, `iloc` uses row positions, NOT row index labels, so nothing changes when you use `iloc`"
   ]
  },
  {
   "cell_type": "code",
   "execution_count": null,
   "id": "4044eda0",
   "metadata": {},
   "outputs": [],
   "source": [
    "pivot_data"
   ]
  },
  {
   "cell_type": "code",
   "execution_count": null,
   "id": "0e4d2ad1",
   "metadata": {},
   "outputs": [],
   "source": [
    "pivot_data.iloc[2:6]"
   ]
  },
  {
   "cell_type": "markdown",
   "id": "fa085e08",
   "metadata": {},
   "source": [
    "<br><br>"
   ]
  },
  {
   "cell_type": "markdown",
   "id": "d4a72ab6",
   "metadata": {},
   "source": [
    "### Using the first `x` levels of the multi-index, where `x < n` and `n` is the total number of levels in the row multi-index"
   ]
  },
  {
   "cell_type": "code",
   "execution_count": null,
   "id": "a9cf4c61",
   "metadata": {},
   "outputs": [],
   "source": [
    "pivot_data"
   ]
  },
  {
   "cell_type": "code",
   "execution_count": null,
   "id": "e906ce24",
   "metadata": {},
   "outputs": [],
   "source": [
    "pivot_data.loc[('Mark',)]"
   ]
  },
  {
   "cell_type": "markdown",
   "id": "2a78def9",
   "metadata": {},
   "source": [
    "<br>"
   ]
  },
  {
   "cell_type": "markdown",
   "id": "ab6239ba",
   "metadata": {},
   "source": [
    "**Btw, instead of passing a single-item tuple, you can also just pass the value directly:**"
   ]
  },
  {
   "cell_type": "code",
   "execution_count": null,
   "id": "ac22eb89",
   "metadata": {},
   "outputs": [],
   "source": [
    "pivot_data.loc['Mark']"
   ]
  },
  {
   "cell_type": "code",
   "execution_count": null,
   "id": "0a226ead",
   "metadata": {
    "scrolled": true
   },
   "outputs": [],
   "source": [
    "pivot_data.loc['Nicole']"
   ]
  },
  {
   "cell_type": "markdown",
   "id": "72b67594",
   "metadata": {},
   "source": [
    "<br><br><br><br>"
   ]
  },
  {
   "cell_type": "markdown",
   "id": "c26c6b7c",
   "metadata": {},
   "source": [
    "### Extract one column from a DataFrame with a column multi-index"
   ]
  },
  {
   "cell_type": "code",
   "execution_count": null,
   "id": "cb0bb787",
   "metadata": {},
   "outputs": [],
   "source": [
    "pivot_data"
   ]
  },
  {
   "cell_type": "code",
   "execution_count": null,
   "id": "354c948f",
   "metadata": {},
   "outputs": [],
   "source": [
    "pivot_data.columns"
   ]
  },
  {
   "cell_type": "code",
   "execution_count": null,
   "id": "79dae030",
   "metadata": {},
   "outputs": [],
   "source": [
    "pivot_data.loc[:, ('mean', 'Courtesy', '2018-12-01')]"
   ]
  },
  {
   "cell_type": "code",
   "execution_count": null,
   "id": "2bfa67cb",
   "metadata": {},
   "outputs": [],
   "source": [
    "pivot_data.loc[:, ('std', 'Empathy', '2019-12-01')]"
   ]
  },
  {
   "cell_type": "markdown",
   "id": "afd218ef",
   "metadata": {},
   "source": [
    "<br><br><br><br>"
   ]
  },
  {
   "cell_type": "markdown",
   "id": "c66eca10",
   "metadata": {},
   "source": [
    "### Extract multiple columns from a DataFrame with a column multi-index"
   ]
  },
  {
   "cell_type": "markdown",
   "id": "1c04d223",
   "metadata": {},
   "source": [
    "We have several options, depending on what we want:\n",
    "<br>\n",
    "* we can use a slice notation\n",
    "<br><br>\n",
    "* if we have `n` levels in the column index, we can specify a value for the first `x` levels, where `x < n`"
   ]
  },
  {
   "cell_type": "markdown",
   "id": "1fabf98a",
   "metadata": {},
   "source": [
    "### Using a slice notation"
   ]
  },
  {
   "cell_type": "code",
   "execution_count": null,
   "id": "08d424df",
   "metadata": {},
   "outputs": [],
   "source": [
    "pivot_data"
   ]
  },
  {
   "cell_type": "code",
   "execution_count": null,
   "id": "8b993ae2",
   "metadata": {},
   "outputs": [],
   "source": [
    "pivot_data.loc[:, ('mean', 'Courtesy', '2018-12-01'):('mean', 'Helpfulness', '2018-12-01')]"
   ]
  },
  {
   "cell_type": "markdown",
   "id": "428e3588",
   "metadata": {},
   "source": [
    "**This is a pretty long line, we can also write it like this:**"
   ]
  },
  {
   "cell_type": "code",
   "execution_count": null,
   "id": "63f30b49",
   "metadata": {},
   "outputs": [],
   "source": [
    "start_index = ('mean', 'Courtesy', '2018-12-01')\n",
    "stop_index = ('mean', 'Helpfulness', '2018-12-01')\n",
    "\n",
    "pivot_data.loc[:, start_index:stop_index]"
   ]
  },
  {
   "cell_type": "code",
   "execution_count": null,
   "id": "3a6cd0c4",
   "metadata": {},
   "outputs": [],
   "source": [
    "pivot_data.columns"
   ]
  },
  {
   "cell_type": "code",
   "execution_count": null,
   "id": "e697f71d",
   "metadata": {},
   "outputs": [],
   "source": [
    "col1 = ('mean', 'Courtesy', '2018-12-01')\n",
    "col2 = ('mean', 'Empathy', '2018-12-01')\n",
    "col3 = ('std', 'Courtesy', '2019-12-01')\n",
    "\n",
    "pivot_data.loc[:, [col1, col2, col3]]"
   ]
  },
  {
   "cell_type": "markdown",
   "id": "2aa03ec2",
   "metadata": {},
   "source": [
    "#### Btw, `iloc` uses column positions, NOT column index labels, so nothing changes when you use `iloc`"
   ]
  },
  {
   "cell_type": "code",
   "execution_count": null,
   "id": "a8dc44bb",
   "metadata": {},
   "outputs": [],
   "source": [
    "pivot_data.iloc[:, 2:6]"
   ]
  },
  {
   "cell_type": "markdown",
   "id": "444fc411",
   "metadata": {},
   "source": [
    "<br><br>"
   ]
  },
  {
   "cell_type": "markdown",
   "id": "a8266d4c",
   "metadata": {},
   "source": [
    "### Using the first `x` levels of the multi-index, where `x < n` and `n` is the total number of levels in the column multi-index"
   ]
  },
  {
   "cell_type": "code",
   "execution_count": null,
   "id": "e9030f5d",
   "metadata": {},
   "outputs": [],
   "source": [
    "pivot_data"
   ]
  },
  {
   "cell_type": "code",
   "execution_count": null,
   "id": "8af83085",
   "metadata": {},
   "outputs": [],
   "source": [
    "pivot_data.loc[:, ('mean',)]"
   ]
  },
  {
   "cell_type": "code",
   "execution_count": null,
   "id": "95ba8307",
   "metadata": {},
   "outputs": [],
   "source": [
    "pivot_data.loc[:, ('mean', 'Courtesy')]"
   ]
  },
  {
   "cell_type": "markdown",
   "id": "df930004",
   "metadata": {},
   "source": [
    "**NOTE: This will NOT work**"
   ]
  },
  {
   "cell_type": "code",
   "execution_count": null,
   "id": "75565531",
   "metadata": {},
   "outputs": [],
   "source": [
    "pivot_data.loc[:, ('mean', '2018-12-01')]"
   ]
  },
  {
   "cell_type": "markdown",
   "id": "b3d94ecd",
   "metadata": {},
   "source": [
    "<br><br><br><br>"
   ]
  },
  {
   "cell_type": "markdown",
   "id": "79310803",
   "metadata": {},
   "source": [
    "### Extract sections of a DataFrame using both row and index selectors"
   ]
  },
  {
   "cell_type": "markdown",
   "id": "eef35846",
   "metadata": {},
   "source": [
    "**NOTE: There's nothing special about DataFrames with multi-indexes, as far as `iloc` is concerned**"
   ]
  },
  {
   "cell_type": "code",
   "execution_count": null,
   "id": "1baa2bf6",
   "metadata": {},
   "outputs": [],
   "source": [
    "pivot_data"
   ]
  },
  {
   "cell_type": "code",
   "execution_count": null,
   "id": "65964809",
   "metadata": {},
   "outputs": [],
   "source": [
    "pivot_data.iloc[:4, 2:6]"
   ]
  },
  {
   "cell_type": "markdown",
   "id": "03f15125",
   "metadata": {},
   "source": [
    "<br><br>"
   ]
  },
  {
   "cell_type": "markdown",
   "id": "fc700667",
   "metadata": {},
   "source": [
    "**If you use `loc`, you must use the correct row / column index labels**"
   ]
  },
  {
   "cell_type": "code",
   "execution_count": null,
   "id": "74b7596f",
   "metadata": {},
   "outputs": [],
   "source": [
    "pivot_data.index"
   ]
  },
  {
   "cell_type": "code",
   "execution_count": null,
   "id": "e2cd1705",
   "metadata": {},
   "outputs": [],
   "source": [
    "pivot_data.columns"
   ]
  },
  {
   "cell_type": "code",
   "execution_count": null,
   "id": "bf5b122a",
   "metadata": {},
   "outputs": [],
   "source": [
    "pivot_data"
   ]
  },
  {
   "cell_type": "code",
   "execution_count": null,
   "id": "502a4fa0",
   "metadata": {},
   "outputs": [],
   "source": [
    "pivot_data.loc[('Joanna', 'store'), ('mean',)]"
   ]
  },
  {
   "cell_type": "code",
   "execution_count": null,
   "id": "69f2d942",
   "metadata": {},
   "outputs": [],
   "source": [
    "pivot_data.loc[('Mark', 'online'), ('mean', 'Helpfulness')]"
   ]
  },
  {
   "cell_type": "code",
   "execution_count": null,
   "id": "4ef46cbf",
   "metadata": {},
   "outputs": [],
   "source": [
    "pivot_data.loc[('Nicole',), ('mean',)]"
   ]
  },
  {
   "cell_type": "code",
   "execution_count": null,
   "id": "e05f496a",
   "metadata": {},
   "outputs": [],
   "source": [
    "pivot_data.loc['Nicole', ('mean', 'Empathy')]"
   ]
  },
  {
   "cell_type": "markdown",
   "id": "bea4a1ca",
   "metadata": {},
   "source": [
    "<br><br><br><br>"
   ]
  },
  {
   "cell_type": "markdown",
   "id": "d29e3db5",
   "metadata": {},
   "source": [
    "### IMPORTANT: Pay attention to the data type of the values in the row / column indexes"
   ]
  },
  {
   "cell_type": "code",
   "execution_count": null,
   "id": "3aa7b996",
   "metadata": {},
   "outputs": [],
   "source": [
    "data = pd.read_csv(\n",
    "    \"https://edlitera-datasets.s3.amazonaws.com/survey_sample.csv\", \n",
    "    parse_dates=['Date']\n",
    ")\n",
    "\n",
    "# Convert the values in the `Date` \n",
    "# column to Python datetime objects\n",
    "data['Date'] = data['Date'].dt.date\n",
    "\n",
    "reps = pd.read_excel(\n",
    "    'https://edlitera-datasets.s3.amazonaws.com/survey_mappings.xlsx',\n",
    "    'Reps'\n",
    ")\n",
    "\n",
    "data = pd.merge(\n",
    "    data, reps, \n",
    "    left_on='Rep Id', right_on='Rep Id', \n",
    "    how='left'\n",
    ")\n",
    "\n",
    "data.head()"
   ]
  },
  {
   "cell_type": "code",
   "execution_count": null,
   "id": "57701f1d",
   "metadata": {},
   "outputs": [],
   "source": [
    "pivot_data = data.pivot_table(\n",
    "    index=['Rep Name', 'Location'],\n",
    "    columns=['Date'],\n",
    "    values=['Helpfulness', 'Courtesy', 'Empathy'], \n",
    "    aggfunc=['mean', 'std'])"
   ]
  },
  {
   "cell_type": "code",
   "execution_count": null,
   "id": "59ce0207",
   "metadata": {},
   "outputs": [],
   "source": [
    "pivot_data"
   ]
  },
  {
   "cell_type": "code",
   "execution_count": null,
   "id": "411c6578",
   "metadata": {},
   "outputs": [],
   "source": [
    "pivot_data.index"
   ]
  },
  {
   "cell_type": "code",
   "execution_count": null,
   "id": "e254f8df",
   "metadata": {},
   "outputs": [],
   "source": [
    "pivot_data.columns"
   ]
  },
  {
   "cell_type": "code",
   "execution_count": null,
   "id": "8944dc7c",
   "metadata": {
    "scrolled": false
   },
   "outputs": [],
   "source": [
    "pivot_data.loc[:, ('mean', 'Courtesy', '2018-12-01')]"
   ]
  },
  {
   "cell_type": "code",
   "execution_count": null,
   "id": "0a96f1fa",
   "metadata": {},
   "outputs": [],
   "source": [
    "import datetime"
   ]
  },
  {
   "cell_type": "code",
   "execution_count": null,
   "id": "d6ac5596",
   "metadata": {},
   "outputs": [],
   "source": [
    "date_of_interest = datetime.date(year=2018, month=12, day=1)\n",
    "date_of_interest"
   ]
  },
  {
   "cell_type": "code",
   "execution_count": null,
   "id": "57fbb589",
   "metadata": {},
   "outputs": [],
   "source": [
    "pivot_data.loc[:, ('mean', 'Courtesy', date_of_interest)]"
   ]
  },
  {
   "cell_type": "markdown",
   "id": "902f9a48",
   "metadata": {},
   "source": [
    "<br><br><Br><br><br><Br>"
   ]
  },
  {
   "cell_type": "markdown",
   "id": "ba8cbe2d",
   "metadata": {},
   "source": [
    "## Sorting aggregated data"
   ]
  },
  {
   "cell_type": "code",
   "execution_count": null,
   "id": "345913f5",
   "metadata": {},
   "outputs": [],
   "source": [
    "data.head()"
   ]
  },
  {
   "cell_type": "code",
   "execution_count": null,
   "id": "47d3a287",
   "metadata": {},
   "outputs": [],
   "source": [
    "data.sort_values(\n",
    "    by=['Helpfulness'], \n",
    "    ascending=[False],\n",
    "    inplace=True\n",
    ")"
   ]
  },
  {
   "cell_type": "code",
   "execution_count": null,
   "id": "94a44f12",
   "metadata": {},
   "outputs": [],
   "source": [
    "data.head()"
   ]
  },
  {
   "cell_type": "code",
   "execution_count": null,
   "id": "fa703400",
   "metadata": {},
   "outputs": [],
   "source": [
    "grouped_data = (\n",
    "    data[[\n",
    "        'Helpfulness', \n",
    "        'Courtesy', \n",
    "        'Empathy', \n",
    "        'Rep Name', \n",
    "        'Date']]\n",
    "    .groupby(['Rep Name', 'Date'])\n",
    "    .agg(['mean', 'std'])\n",
    ")"
   ]
  },
  {
   "cell_type": "code",
   "execution_count": null,
   "id": "8305b840",
   "metadata": {},
   "outputs": [],
   "source": [
    "grouped_data.head()"
   ]
  },
  {
   "cell_type": "code",
   "execution_count": null,
   "id": "7b88e24a",
   "metadata": {},
   "outputs": [],
   "source": [
    "grouped_data.columns"
   ]
  },
  {
   "cell_type": "code",
   "execution_count": null,
   "id": "dfea2ead",
   "metadata": {},
   "outputs": [],
   "source": [
    "grouped_data.sort_values(\n",
    "    by=[('Helpfulness', 'mean')], \n",
    "    ascending=[False]\n",
    ")"
   ]
  },
  {
   "cell_type": "markdown",
   "id": "4f90f73b",
   "metadata": {},
   "source": [
    "<br/>\n",
    "<br/>\n",
    "<br/>\n",
    "<br/>\n",
    "<br/>\n",
    "<br/>\n",
    "<br/>\n",
    "<br/>"
   ]
  },
  {
   "cell_type": "markdown",
   "id": "f4d0cfdc",
   "metadata": {},
   "source": [
    "## Rotate a DataFrame"
   ]
  },
  {
   "cell_type": "markdown",
   "id": "73f11fba",
   "metadata": {},
   "source": [
    "You can just use `.T` (which stands for `transpose`)"
   ]
  },
  {
   "cell_type": "code",
   "execution_count": null,
   "id": "125aa2f1",
   "metadata": {},
   "outputs": [],
   "source": [
    "data.head()"
   ]
  },
  {
   "cell_type": "code",
   "execution_count": null,
   "id": "51b97eeb",
   "metadata": {
    "scrolled": true
   },
   "outputs": [],
   "source": [
    "pivot_data = data.pivot_table(\n",
    "    index='Rep Name', \n",
    "    columns=['Date'],\n",
    "    values=['Helpfulness', 'Courtesy', 'Empathy'], \n",
    "    aggfunc='mean')"
   ]
  },
  {
   "cell_type": "code",
   "execution_count": null,
   "id": "06d8043f",
   "metadata": {},
   "outputs": [],
   "source": [
    "pivot_data"
   ]
  },
  {
   "cell_type": "code",
   "execution_count": null,
   "id": "4084a5fb",
   "metadata": {},
   "outputs": [],
   "source": [
    "pivot_data.T"
   ]
  },
  {
   "cell_type": "code",
   "execution_count": null,
   "id": "13c41f38",
   "metadata": {},
   "outputs": [],
   "source": [
    "pivot_data"
   ]
  },
  {
   "cell_type": "markdown",
   "id": "b2e0f1c1",
   "metadata": {},
   "source": [
    "<br/>\n",
    "<br/>\n",
    "<br/>\n",
    "<br/>\n",
    "<br/>\n",
    "<br/>\n",
    "<br/>\n",
    "<br/>"
   ]
  },
  {
   "cell_type": "markdown",
   "id": "8b998a16",
   "metadata": {},
   "source": [
    "## Flatten a row multi-index"
   ]
  },
  {
   "cell_type": "markdown",
   "id": "67cdd6f2",
   "metadata": {},
   "source": [
    "`.reset_index()` will do its best to give you back a DataFrame with a 'flat' row index"
   ]
  },
  {
   "cell_type": "code",
   "execution_count": null,
   "id": "7f2ccf29",
   "metadata": {},
   "outputs": [],
   "source": [
    "data = pd.read_csv(\n",
    "    \"https://edlitera-datasets.s3.amazonaws.com/survey_sample.csv\", \n",
    "    parse_dates=['Date']\n",
    ")\n",
    "\n",
    "reps = pd.read_excel(\n",
    "    'https://edlitera-datasets.s3.amazonaws.com/survey_mappings.xlsx',\n",
    "    'Reps'\n",
    ")\n",
    "\n",
    "data = pd.merge(\n",
    "    data, reps, \n",
    "    left_on='Rep Id', right_on='Rep Id', \n",
    "    how='left'\n",
    ")\n",
    "\n",
    "data.head()"
   ]
  },
  {
   "cell_type": "code",
   "execution_count": null,
   "id": "9446eb3f",
   "metadata": {},
   "outputs": [],
   "source": [
    "pivot_data = data.pivot_table(\n",
    "    index=['Rep Name', 'Location'],\n",
    "    columns=['Date'],\n",
    "    values=['Helpfulness', 'Courtesy', 'Empathy'], \n",
    "    aggfunc=['mean', 'std'])"
   ]
  },
  {
   "cell_type": "code",
   "execution_count": null,
   "id": "6e25588b",
   "metadata": {},
   "outputs": [],
   "source": [
    "pivot_data"
   ]
  },
  {
   "cell_type": "code",
   "execution_count": null,
   "id": "7c347bd1",
   "metadata": {
    "scrolled": false
   },
   "outputs": [],
   "source": [
    "pivot_data.reset_index()"
   ]
  },
  {
   "cell_type": "code",
   "execution_count": null,
   "id": "7b68c71f",
   "metadata": {},
   "outputs": [],
   "source": [
    "pivot_data.reset_index().columns"
   ]
  },
  {
   "cell_type": "code",
   "execution_count": null,
   "id": "96b03d17",
   "metadata": {},
   "outputs": [],
   "source": [
    "pivot_data"
   ]
  },
  {
   "cell_type": "markdown",
   "id": "c8a4aaa0",
   "metadata": {},
   "source": [
    "<br/>\n",
    "<br/>\n",
    "<br/>\n",
    "<br/>\n",
    "<br/>\n",
    "<br/>\n",
    "<br/>\n",
    "<br/>"
   ]
  },
  {
   "cell_type": "markdown",
   "id": "b3175718",
   "metadata": {
    "slideshow": {
     "slide_type": "slide"
    }
   },
   "source": [
    "## Different ways to aggregate and summarize data"
   ]
  },
  {
   "cell_type": "markdown",
   "id": "e349aff2",
   "metadata": {},
   "source": [
    "With a single line of code, we can compute basic stats about our data set."
   ]
  },
  {
   "cell_type": "code",
   "execution_count": null,
   "id": "cb8162ae",
   "metadata": {},
   "outputs": [],
   "source": [
    "data = pd.read_csv(\n",
    "    \"https://edlitera-datasets.s3.amazonaws.com/survey_sample.csv\", \n",
    "    parse_dates=['Date']\n",
    ")\n",
    "\n",
    "reps = pd.read_excel(\n",
    "    'https://edlitera-datasets.s3.amazonaws.com/survey_mappings.xlsx',\n",
    "    'Reps'\n",
    ")\n",
    "\n",
    "data = pd.merge(\n",
    "    data, reps, \n",
    "    left_on='Rep Id', right_on='Rep Id', \n",
    "    how='left'\n",
    ")\n",
    "\n",
    "data.head()"
   ]
  },
  {
   "cell_type": "code",
   "execution_count": null,
   "id": "693ed528",
   "metadata": {},
   "outputs": [],
   "source": [
    "data.describe()"
   ]
  },
  {
   "cell_type": "markdown",
   "id": "b6a37c30",
   "metadata": {},
   "source": [
    "<br/>\n",
    "<br/>\n",
    "<br/>\n",
    "<br/>\n",
    "<br/>\n",
    "<br/>\n",
    "<br/>\n",
    "<br/>"
   ]
  },
  {
   "cell_type": "markdown",
   "id": "6bb896b1",
   "metadata": {
    "slideshow": {
     "slide_type": "slide"
    }
   },
   "source": [
    "## Calculate the `mean` for all values in a given column"
   ]
  },
  {
   "cell_type": "markdown",
   "id": "92658dbe",
   "metadata": {},
   "source": [
    "#### What is the mean helpfulness score?"
   ]
  },
  {
   "cell_type": "code",
   "execution_count": null,
   "id": "69883079",
   "metadata": {},
   "outputs": [],
   "source": [
    "data['Helpfulness']"
   ]
  },
  {
   "cell_type": "code",
   "execution_count": null,
   "id": "1bda738f",
   "metadata": {
    "slideshow": {
     "slide_type": "slide"
    }
   },
   "outputs": [],
   "source": [
    "data['Helpfulness'].mean()"
   ]
  },
  {
   "cell_type": "code",
   "execution_count": null,
   "id": "94c3e7f2",
   "metadata": {},
   "outputs": [],
   "source": [
    "data[ ['Helpfulness'] ].describe().loc['mean', 'Helpfulness']"
   ]
  },
  {
   "cell_type": "markdown",
   "id": "5e774e4b",
   "metadata": {},
   "source": [
    "#### What is the mean customer experience for Joanna vs Nicole?"
   ]
  },
  {
   "cell_type": "code",
   "execution_count": null,
   "id": "72b90433",
   "metadata": {},
   "outputs": [],
   "source": [
    "data.loc[ data['Rep Name'] == 'Joanna', 'Helpfulness']"
   ]
  },
  {
   "cell_type": "code",
   "execution_count": null,
   "id": "ab709c38",
   "metadata": {},
   "outputs": [],
   "source": [
    "# For Joanna\n",
    "data.loc[data['Rep Name'] == 'Joanna', 'Helpfulness'].mean()"
   ]
  },
  {
   "cell_type": "code",
   "execution_count": null,
   "id": "dc91cefa",
   "metadata": {},
   "outputs": [],
   "source": [
    "# For Nicole\n",
    "data.loc[data['Rep Name'] == 'Nicole', 'Helpfulness'].mean()"
   ]
  },
  {
   "cell_type": "markdown",
   "id": "1745fe86",
   "metadata": {},
   "source": [
    "**NOTE:** We also have `.min()`, `.max()`, `.sum()`, etc."
   ]
  },
  {
   "cell_type": "code",
   "execution_count": null,
   "id": "ae377fd9",
   "metadata": {},
   "outputs": [],
   "source": [
    "data['Helpfulness'].agg(['mean', 'sum'])"
   ]
  },
  {
   "cell_type": "code",
   "execution_count": null,
   "id": "28eee5ff",
   "metadata": {
    "scrolled": false
   },
   "outputs": [],
   "source": [
    "dir(data['Helpfulness'])"
   ]
  },
  {
   "cell_type": "markdown",
   "id": "cf3bd975",
   "metadata": {},
   "source": [
    "<br><br><br><br><br><br>"
   ]
  },
  {
   "cell_type": "markdown",
   "id": "04b61e17",
   "metadata": {},
   "source": [
    "## Exercise"
   ]
  },
  {
   "cell_type": "markdown",
   "id": "cd30c58c",
   "metadata": {},
   "source": [
    "We have an Excel sheet containing information about a fictitious crypto currency exchange, which you can find here: https://edlitera-datasets.s3.amazonaws.com/crypto_exchange.xlsx. \n",
    "\n",
    "Open the file and familiarize yourself with it. The first sheet contains transaction information, including the date of the transaction, the sender / recipient pair, the amount transfered and whether the transaction was successful or not. \n",
    "\n",
    "The second sheet lists whether the transactions where initially flagged or not. A transaction would be flagged if it was considered suspicious. The second sheet does not have column headers, however the first column can be used to identify a transaction as follows: the values in that column can be obtained using the following formula: `sender-recipient-id`, where `sender` is the transaction's sender address, `recipient` is the transaction's recipient address and the `id` is the unique transaction identifier. You can find all those values in the first sheet, for each transaction.\n",
    "\n"
   ]
  },
  {
   "cell_type": "markdown",
   "id": "87d641a6",
   "metadata": {},
   "source": [
    "Using this data, perform the following operations:"
   ]
  },
  {
   "cell_type": "markdown",
   "id": "a8db1925",
   "metadata": {},
   "source": [
    "#### 1. Import the two data sheets into separate DataFrames. For the second DataFrame, use the following custom column names: `Key` and `Flag`."
   ]
  },
  {
   "cell_type": "markdown",
   "id": "7a159e20",
   "metadata": {},
   "source": [
    "#### 2. Merge the two DataFrames into a single DataFrame which contains all the transaction columns, as well as the `Flag` column of the second sheet, which has values `Yes` for transactions that were flagged as suspicious and values `No` for transactions that were not considered suspicious."
   ]
  },
  {
   "cell_type": "markdown",
   "id": "4e9b9d3e",
   "metadata": {},
   "source": [
    "#### 3. Going forward, we will only use the `Date`, `Currency`, `Sender`, `Recipient`, `Amount`, `Status` and `Flag` column. Drop all the other columns."
   ]
  },
  {
   "cell_type": "markdown",
   "id": "fc6ad4b0",
   "metadata": {},
   "source": [
    "#### 4. Some rows are missing information. How many such rows do we have? After you answer the question, remove those rows from the DataFrame."
   ]
  },
  {
   "cell_type": "markdown",
   "id": "4b3c3ab6",
   "metadata": {},
   "source": [
    "#### 5. What's the average amount transferred, by `Currency`?"
   ]
  },
  {
   "cell_type": "markdown",
   "id": "0432455b",
   "metadata": {},
   "source": [
    "#### 6. What's the total amount transferred by `Date`, `Sender` and `Currency`?"
   ]
  },
  {
   "cell_type": "markdown",
   "id": "72f3a191",
   "metadata": {},
   "source": [
    "#### 7. What is the total amount of BTC that was not successfully transferred (`Status='NOK'`)?"
   ]
  },
  {
   "cell_type": "markdown",
   "id": "fc06b302",
   "metadata": {},
   "source": [
    "#### 8. Which transactions were initially flagged, but were eventually executed successfully? How many of them are there and what is the average amount of those transactions?"
   ]
  },
  {
   "cell_type": "markdown",
   "id": "f4e376a9",
   "metadata": {},
   "source": [
    "<br/>\n",
    "<br/>\n",
    "<br/>\n",
    "<br/>\n",
    "<br/>\n",
    "<br/>\n",
    "<br/>\n",
    "<br/>"
   ]
  },
  {
   "cell_type": "markdown",
   "id": "8bbc427a",
   "metadata": {},
   "source": [
    "**SOLUTION:**"
   ]
  },
  {
   "cell_type": "markdown",
   "id": "64db982f",
   "metadata": {},
   "source": [
    "#### 1. Import the two data sheets into separate DataFrames. For the second DataFrame, use the following custom column names: `Key` and `Flag`."
   ]
  },
  {
   "cell_type": "code",
   "execution_count": null,
   "id": "8a5357a9",
   "metadata": {},
   "outputs": [],
   "source": [
    "transactions = pd.read_excel(\n",
    "    \"https://edlitera-datasets.s3.amazonaws.com/crypto_exchange.xlsx\", \n",
    "    \"Sheet1\", skiprows=4\n",
    ")\n",
    "\n",
    "transactions.head()"
   ]
  },
  {
   "cell_type": "code",
   "execution_count": null,
   "id": "beeb42da",
   "metadata": {},
   "outputs": [],
   "source": [
    "transactions.info()"
   ]
  },
  {
   "cell_type": "code",
   "execution_count": null,
   "id": "42d85072",
   "metadata": {},
   "outputs": [],
   "source": [
    "flags = pd.read_excel(\n",
    "    \"https://edlitera-datasets.s3.amazonaws.com/crypto_exchange.xlsx\", \n",
    "    \"Flagged Transactions\", \n",
    "    header=None, \n",
    "    names=[\"Key\", \"Flag\"]\n",
    ")\n",
    "\n",
    "flags.head()"
   ]
  },
  {
   "cell_type": "code",
   "execution_count": null,
   "id": "7c50c0ba",
   "metadata": {},
   "outputs": [],
   "source": [
    "flags.info()"
   ]
  },
  {
   "cell_type": "markdown",
   "id": "f83949aa",
   "metadata": {},
   "source": [
    "<br><br><br>"
   ]
  },
  {
   "cell_type": "markdown",
   "id": "928d6561",
   "metadata": {},
   "source": [
    "#### 2. Merge the two DataFrames into a single DataFrame which contains all the transaction columns, as well as the `Flag` column of the second sheet, which has values `Yes` for transactions that were flagged as suspicious and values `No` for transactions that were not considered suspicious."
   ]
  },
  {
   "cell_type": "code",
   "execution_count": null,
   "id": "3359163f",
   "metadata": {},
   "outputs": [],
   "source": [
    "transactions.head()"
   ]
  },
  {
   "cell_type": "code",
   "execution_count": null,
   "id": "25d57089",
   "metadata": {},
   "outputs": [],
   "source": [
    "flags.head()"
   ]
  },
  {
   "cell_type": "markdown",
   "id": "530caf44",
   "metadata": {},
   "source": [
    "First, we need to create a new column in the transactions dataframe, which will merge the `sender`, `recipient` and `transaction id`. \n",
    "\n",
    "\n",
    "We will use this column for merging."
   ]
  },
  {
   "cell_type": "code",
   "execution_count": null,
   "id": "22428d23",
   "metadata": {},
   "outputs": [],
   "source": [
    "transactions['Key'] = (\n",
    "    transactions['Sender'] + '-' +\n",
    "    transactions['Recipient'] + '-' +\n",
    "    transactions['Id']\n",
    ")\n",
    "\n",
    "transactions.head()"
   ]
  },
  {
   "cell_type": "code",
   "execution_count": null,
   "id": "b01b6376",
   "metadata": {},
   "outputs": [],
   "source": [
    "data = pd.merge(\n",
    "    transactions, flags, \n",
    "    left_on='Key', right_on='Key', \n",
    "    how='left'\n",
    ")\n",
    "\n",
    "data.head()"
   ]
  },
  {
   "cell_type": "markdown",
   "id": "4a0d7d0d",
   "metadata": {},
   "source": [
    "<br><br><Br>"
   ]
  },
  {
   "cell_type": "markdown",
   "id": "249beaf0",
   "metadata": {},
   "source": [
    "#### 3. Going forward, we will only use the `Date`, `Currency`, `Sender`, `Recipient`, `Amount`, `Status` and `Flag` columns. Drop all the other columns."
   ]
  },
  {
   "cell_type": "code",
   "execution_count": null,
   "id": "b6f1387e",
   "metadata": {},
   "outputs": [],
   "source": [
    "data.head()"
   ]
  },
  {
   "cell_type": "code",
   "execution_count": null,
   "id": "a73b2208",
   "metadata": {},
   "outputs": [],
   "source": [
    "data.columns"
   ]
  },
  {
   "cell_type": "code",
   "execution_count": null,
   "id": "8d2d88e9",
   "metadata": {},
   "outputs": [],
   "source": [
    "data.drop(columns=['Id', 'Key'], inplace=True)"
   ]
  },
  {
   "cell_type": "code",
   "execution_count": null,
   "id": "4c65c283",
   "metadata": {},
   "outputs": [],
   "source": [
    "data.head()"
   ]
  },
  {
   "cell_type": "markdown",
   "id": "fd3d41f5",
   "metadata": {},
   "source": [
    "<br><br><Br>"
   ]
  },
  {
   "cell_type": "markdown",
   "id": "3cea9d2e",
   "metadata": {},
   "source": [
    "#### 4. Some rows are missing information. How many such rows do we have? After you answer the question, remove those rows from the DataFrame."
   ]
  },
  {
   "cell_type": "code",
   "execution_count": null,
   "id": "156567db",
   "metadata": {},
   "outputs": [],
   "source": [
    "data.info()"
   ]
  },
  {
   "cell_type": "markdown",
   "id": "111a2ac2",
   "metadata": {},
   "source": [
    "We notice that the `Flag` column has 97 non-null values, so it's missing 3 values."
   ]
  },
  {
   "cell_type": "code",
   "execution_count": null,
   "id": "80e376ab",
   "metadata": {},
   "outputs": [],
   "source": [
    "data['Flag'].isnull()"
   ]
  },
  {
   "cell_type": "code",
   "execution_count": null,
   "id": "46fc2dd8",
   "metadata": {},
   "outputs": [],
   "source": [
    "data[ data['Flag'].isnull() ]"
   ]
  },
  {
   "cell_type": "code",
   "execution_count": null,
   "id": "42b40ba5",
   "metadata": {},
   "outputs": [],
   "source": [
    "data[ ~data['Flag'].isnull() ]"
   ]
  },
  {
   "cell_type": "code",
   "execution_count": null,
   "id": "f8a1c56e",
   "metadata": {},
   "outputs": [],
   "source": [
    "data.dropna(inplace=True)"
   ]
  },
  {
   "cell_type": "code",
   "execution_count": null,
   "id": "7dd6619a",
   "metadata": {},
   "outputs": [],
   "source": [
    "data.info()"
   ]
  },
  {
   "cell_type": "markdown",
   "id": "f3e79100",
   "metadata": {},
   "source": [
    "We now have only 97 rows in our DataFrame, because we dropped the rows that were missing values in the `Flag` column."
   ]
  },
  {
   "cell_type": "markdown",
   "id": "1d9ef885",
   "metadata": {},
   "source": [
    "<Br><br><br>"
   ]
  },
  {
   "cell_type": "markdown",
   "id": "901514a7",
   "metadata": {},
   "source": [
    "#### 5. What's the average amount transferred, by `Currency`?"
   ]
  },
  {
   "cell_type": "code",
   "execution_count": null,
   "id": "73a13fb5",
   "metadata": {},
   "outputs": [],
   "source": [
    "data.pivot_table(\n",
    "    index='Currency',\n",
    "    values='Amount',\n",
    "    aggfunc='mean'\n",
    ")"
   ]
  },
  {
   "cell_type": "markdown",
   "id": "a79406a2",
   "metadata": {},
   "source": [
    "<br><br><br>"
   ]
  },
  {
   "cell_type": "markdown",
   "id": "45230452",
   "metadata": {},
   "source": [
    "#### 6. What's the total amount transferred by `Date`, `Sender` and `Currency`?"
   ]
  },
  {
   "cell_type": "code",
   "execution_count": null,
   "id": "47033eef",
   "metadata": {},
   "outputs": [],
   "source": [
    "(\n",
    "    data\n",
    "    .pivot_table(\n",
    "        index=['Sender', 'Currency'], \n",
    "        columns=['Date'],\n",
    "        values=['Amount'],\n",
    "        aggfunc='sum'\n",
    "    )\n",
    ")"
   ]
  },
  {
   "cell_type": "markdown",
   "id": "31bb75ed",
   "metadata": {},
   "source": [
    "<br><br><br>"
   ]
  },
  {
   "cell_type": "markdown",
   "id": "50f03431",
   "metadata": {},
   "source": [
    "#### 7. What is the total amount of BTC that was not successfully transferred (`Status='NOK'`)?"
   ]
  },
  {
   "cell_type": "code",
   "execution_count": null,
   "id": "7ea624e6",
   "metadata": {},
   "outputs": [],
   "source": [
    "data.loc[\n",
    "    (data['Status'] == 'NOK') & (data['Currency'] == 'BTC'), \n",
    "    'Amount'\n",
    "].sum()"
   ]
  },
  {
   "cell_type": "markdown",
   "id": "67dcc069",
   "metadata": {},
   "source": [
    "<br><br><br>"
   ]
  },
  {
   "cell_type": "markdown",
   "id": "2a8534dc",
   "metadata": {},
   "source": [
    "#### 8. Which transactions were initially flagged, but were eventually executed successfully? How many of them are there and what is the average amount of those transactions?"
   ]
  },
  {
   "cell_type": "code",
   "execution_count": null,
   "id": "f7d9c9f8",
   "metadata": {},
   "outputs": [],
   "source": [
    "data.head()"
   ]
  },
  {
   "cell_type": "code",
   "execution_count": null,
   "id": "733445e3",
   "metadata": {},
   "outputs": [],
   "source": [
    "flagged = data.loc[ (data['Status']=='OK') & (data['Flag']=='Yes') ]\n",
    "\n",
    "flagged"
   ]
  },
  {
   "cell_type": "code",
   "execution_count": null,
   "id": "ca0de152",
   "metadata": {},
   "outputs": [],
   "source": [
    "flagged.shape[0]"
   ]
  },
  {
   "cell_type": "code",
   "execution_count": null,
   "id": "254149b4",
   "metadata": {},
   "outputs": [],
   "source": [
    "flagged['Amount']"
   ]
  },
  {
   "cell_type": "code",
   "execution_count": null,
   "id": "3d1036ca",
   "metadata": {},
   "outputs": [],
   "source": [
    "flagged['Amount'].mean()"
   ]
  },
  {
   "cell_type": "code",
   "execution_count": null,
   "id": "6e2213bc",
   "metadata": {},
   "outputs": [],
   "source": [
    "flagged['Amount'].sum()"
   ]
  },
  {
   "cell_type": "code",
   "execution_count": null,
   "id": "a6b1ba61",
   "metadata": {},
   "outputs": [],
   "source": []
  }
 ],
 "metadata": {
  "kernelspec": {
   "display_name": "data_processing_environment",
   "language": "python",
   "name": "data_processing_environment"
  },
  "language_info": {
   "codemirror_mode": {
    "name": "ipython",
    "version": 3
   },
   "file_extension": ".py",
   "mimetype": "text/x-python",
   "name": "python",
   "nbconvert_exporter": "python",
   "pygments_lexer": "ipython3",
   "version": "3.9.18"
  }
 },
 "nbformat": 4,
 "nbformat_minor": 5
}
