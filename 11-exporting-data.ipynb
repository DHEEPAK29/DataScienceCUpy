{
 "cells": [
  {
   "cell_type": "markdown",
   "id": "b0dd99f2",
   "metadata": {},
   "source": [
    "<div>\n",
    "<img src=\"https://edlitera-images.s3.us-east-1.amazonaws.com/new_edlitera_logo.png\" width=\"500\"/>\n",
    "</div>"
   ]
  },
  {
   "cell_type": "markdown",
   "id": "4919a899",
   "metadata": {},
   "source": [
    "<br/>\n",
    "<br/>\n",
    "<br/>\n",
    "<br/>\n",
    "<br/>\n",
    "<br/>\n",
    "<br/>\n",
    "<br/>"
   ]
  },
  {
   "cell_type": "code",
   "execution_count": null,
   "id": "c953848a",
   "metadata": {},
   "outputs": [],
   "source": [
    "import pandas as pd\n",
    "import numpy as np\n",
    "import datetime\n",
    "\n",
    "pd.options.display.float_format = '{:,.2f}'.format"
   ]
  },
  {
   "cell_type": "markdown",
   "id": "93c8d9aa",
   "metadata": {},
   "source": [
    "<br/>\n",
    "<br/>\n",
    "<br/>\n",
    "<br/>\n",
    "<br/>\n",
    "<br/>\n",
    "<br/>\n",
    "<br/>"
   ]
  },
  {
   "cell_type": "markdown",
   "id": "16675226",
   "metadata": {
    "slideshow": {
     "slide_type": "slide"
    }
   },
   "source": [
    "## Export data to text files (.csv, .text, etc.)"
   ]
  },
  {
   "cell_type": "markdown",
   "id": "84eaedee",
   "metadata": {},
   "source": [
    "* we can use the `.to_csv()` method"
   ]
  },
  {
   "cell_type": "markdown",
   "id": "65008ce3",
   "metadata": {},
   "source": [
    "* we have lots of options: \n",
    "    * we can choose a different separator (e.g. '|', ' ')\n",
    "    * we can choose to include or exclude the index values\n",
    "    * we can choose to include or exclude the column headers\n",
    "    * we can optionally only output a subset of the columns"
   ]
  },
  {
   "cell_type": "markdown",
   "id": "b6f88c30",
   "metadata": {},
   "source": [
    "* https://pandas.pydata.org/docs/reference/api/pandas.DataFrame.to_csv.html"
   ]
  },
  {
   "cell_type": "code",
   "execution_count": null,
   "id": "64921ae0",
   "metadata": {},
   "outputs": [],
   "source": [
    "data = pd.read_csv(\n",
    "    'https://edlitera-datasets.s3.amazonaws.com/timeseries_survey_sample.csv', \n",
    "    index_col=['Date'], \n",
    "    parse_dates=['Date']\n",
    ")\n",
    "\n",
    "data.head()"
   ]
  },
  {
   "cell_type": "code",
   "execution_count": null,
   "id": "9f89bea2",
   "metadata": {},
   "outputs": [],
   "source": [
    "data.info()"
   ]
  },
  {
   "cell_type": "markdown",
   "id": "172b3be4",
   "metadata": {},
   "source": [
    "<br>"
   ]
  },
  {
   "cell_type": "markdown",
   "id": "2ecfbad8",
   "metadata": {},
   "source": [
    "Let's output to a `.csv` file all the rows where the `Location` is `Budapest` and `Sensor A` value is greater than 1.49 and `Sensor B` value is less than 2.12. "
   ]
  },
  {
   "cell_type": "code",
   "execution_count": null,
   "id": "dc2ec57d",
   "metadata": {},
   "outputs": [],
   "source": [
    "output = data.loc[(data['Location'] == 'Budapest') & \n",
    "                 (data['Sensor A'] > 1.49) & \n",
    "                 (data['Sensor B'] < 2.12)]\n",
    "\n",
    "output.head()"
   ]
  },
  {
   "cell_type": "code",
   "execution_count": null,
   "id": "d346a5d8",
   "metadata": {},
   "outputs": [],
   "source": [
    "output.shape"
   ]
  },
  {
   "cell_type": "code",
   "execution_count": null,
   "id": "47234af2",
   "metadata": {},
   "outputs": [],
   "source": [
    "output.to_csv('output/budapest_values.csv', index=False)"
   ]
  },
  {
   "cell_type": "markdown",
   "id": "f29a7cc0",
   "metadata": {},
   "source": [
    "**NOTE:** You can use the optional `sep` parameter of the `to_csv` method to specify a different delimiter for your data (tab, pipe, space, etc.). By default, the delimiter is `,`."
   ]
  },
  {
   "cell_type": "code",
   "execution_count": null,
   "id": "96470576",
   "metadata": {},
   "outputs": [],
   "source": [
    "output.to_csv(\n",
    "    'output/budapest_values.txt', \n",
    "    index=True, \n",
    "    sep='|'\n",
    ")"
   ]
  },
  {
   "cell_type": "markdown",
   "id": "6e595ca2",
   "metadata": {},
   "source": [
    "<br/>\n",
    "<br/>"
   ]
  },
  {
   "cell_type": "markdown",
   "id": "dbfb25d8",
   "metadata": {},
   "source": [
    "### How would we generate such a file for each city?\n",
    "We want to do it algorithmically, not by hand (what if we're tracking 1000 locations)?"
   ]
  },
  {
   "cell_type": "code",
   "execution_count": null,
   "id": "782de710",
   "metadata": {},
   "outputs": [],
   "source": [
    "data.head()"
   ]
  },
  {
   "cell_type": "code",
   "execution_count": null,
   "id": "17aefee3",
   "metadata": {},
   "outputs": [],
   "source": [
    "locations = data['Location'].unique()\n",
    "locations"
   ]
  },
  {
   "cell_type": "code",
   "execution_count": null,
   "id": "3d509913",
   "metadata": {},
   "outputs": [],
   "source": [
    "for location in locations:\n",
    "    output = data.loc[(data['Location'] == location) & \n",
    "                 (data['Sensor A'] > 1.49) & \n",
    "                 (data['Sensor B'] < 2.12)]\n",
    "\n",
    "    output.to_csv(\n",
    "        f'output/{location.lower().strip()}_output.csv', \n",
    "        index=True\n",
    "    )"
   ]
  },
  {
   "cell_type": "markdown",
   "id": "19bd6e8d",
   "metadata": {},
   "source": [
    "<br/>\n",
    "<br/>\n",
    "<br/>\n",
    "<br/>\n",
    "<br/>\n",
    "<br/>\n",
    "<br/>\n",
    "<br/>"
   ]
  },
  {
   "cell_type": "markdown",
   "id": "fe5ecc87",
   "metadata": {},
   "source": [
    "## BONUS: Export data to Excel files"
   ]
  },
  {
   "cell_type": "markdown",
   "id": "ee011a9e",
   "metadata": {},
   "source": [
    "* we can use the `.to_excel()` method"
   ]
  },
  {
   "cell_type": "markdown",
   "id": "17ec5723",
   "metadata": {},
   "source": [
    "* https://pandas.pydata.org/docs/reference/api/pandas.DataFrame.to_excel.html"
   ]
  },
  {
   "cell_type": "markdown",
   "id": "df67aeee",
   "metadata": {},
   "source": [
    "* we have lots and lots of options"
   ]
  },
  {
   "cell_type": "markdown",
   "id": "b3f5ae2b",
   "metadata": {},
   "source": [
    "* we will need to specify an 'engine': either 'openpyxl' or 'xlsxwriter'\n",
    "    * these actually help Python write the output in the correct format"
   ]
  },
  {
   "cell_type": "markdown",
   "id": "b3cc7040",
   "metadata": {},
   "source": [
    "* `pip install openpyxl` or `pip install xlsxwriter`"
   ]
  },
  {
   "cell_type": "markdown",
   "id": "36c84a83",
   "metadata": {},
   "source": [
    "* `xlsxwriter` seems to be the more popular / more actively maintained at this time\n",
    "    * also gives you lots of control over the actual output\n",
    "    * can control font sizes, alignments, font names, etc."
   ]
  },
  {
   "cell_type": "markdown",
   "id": "af8d6501",
   "metadata": {},
   "source": [
    "* **NOTE** We will be using `xlsxwriter` for the code below. Make sure you install it first. "
   ]
  },
  {
   "cell_type": "code",
   "execution_count": null,
   "id": "cc849202",
   "metadata": {},
   "outputs": [],
   "source": [
    "data = pd.read_csv(\n",
    "    'https://edlitera-datasets.s3.amazonaws.com/timeseries_survey_sample.csv', \n",
    "    index_col=['Date'], \n",
    "    parse_dates=['Date']\n",
    ")\n",
    "\n",
    "data.head()"
   ]
  },
  {
   "cell_type": "markdown",
   "id": "bddbc67c",
   "metadata": {},
   "source": [
    "<br>"
   ]
  },
  {
   "cell_type": "markdown",
   "id": "0fcef285",
   "metadata": {},
   "source": [
    "Let's output to a `.xlsx` file all the rows where the `Location` is `Budapest` and `Sensor A` value is greater than 1.49 and `Sensor B` value is less than 2.12. "
   ]
  },
  {
   "cell_type": "code",
   "execution_count": null,
   "id": "29ea820a",
   "metadata": {
    "scrolled": false
   },
   "outputs": [],
   "source": [
    "output = data.loc[(data['Location'] == 'Budapest') & \n",
    "                 (data['Sensor A'] > 1.49) & \n",
    "                 (data['Sensor B'] < 2.12)]\n",
    "\n",
    "output.to_excel(\n",
    "    'output/budapest_values.xlsx', \n",
    "    index=True, \n",
    "    sheet_name='Budapest',\n",
    "    float_format='%.4f',\n",
    "    columns=['Sensor A', 'Sensor B'],\n",
    "    engine='xlsxwriter'\n",
    ")"
   ]
  },
  {
   "cell_type": "markdown",
   "id": "91509ff2",
   "metadata": {},
   "source": [
    "<br/>\n",
    "<br/>\n",
    "<br/>"
   ]
  },
  {
   "cell_type": "markdown",
   "id": "b77b67d0",
   "metadata": {},
   "source": [
    "### You can export pivot tables to Excel"
   ]
  },
  {
   "cell_type": "markdown",
   "id": "a1092b43",
   "metadata": {},
   "source": [
    "Let's compute the average, minimum and maximum values for `Sensor A` and `Sensor B` by `Location`."
   ]
  },
  {
   "cell_type": "code",
   "execution_count": null,
   "id": "10f8e16d",
   "metadata": {},
   "outputs": [],
   "source": [
    "data.head()"
   ]
  },
  {
   "cell_type": "code",
   "execution_count": null,
   "id": "2a531382",
   "metadata": {},
   "outputs": [],
   "source": [
    "output = data.pivot_table(\n",
    "    index=['Location'],\n",
    "    values=['Sensor A', 'Sensor B'],\n",
    "    aggfunc=['mean', 'min', 'max']\n",
    ")\n",
    "\n",
    "output"
   ]
  },
  {
   "cell_type": "markdown",
   "id": "aa34c4ed",
   "metadata": {},
   "source": [
    "Let's output this to Excel:"
   ]
  },
  {
   "cell_type": "code",
   "execution_count": null,
   "id": "b2b4545f",
   "metadata": {},
   "outputs": [],
   "source": [
    "output.to_excel(\n",
    "    'output/averages.xlsx',\n",
    "    index=True, \n",
    "    sheet_name='Average Values',\n",
    "    float_format='%.6f',\n",
    "    engine='xlsxwriter'    \n",
    ")"
   ]
  },
  {
   "cell_type": "markdown",
   "id": "8bc80de8",
   "metadata": {},
   "source": [
    "<br/>\n",
    "<br/>\n",
    "<br/>"
   ]
  },
  {
   "cell_type": "markdown",
   "id": "773b24cc",
   "metadata": {},
   "source": [
    "### You can even export charts to Excel (more advanced)"
   ]
  },
  {
   "cell_type": "markdown",
   "id": "ff5cc1e1",
   "metadata": {},
   "source": [
    "Exporting charts in addition to data requires a slightly different approach:\n",
    "* create an `ExcelWriter` object using the `pd.ExcelWriter` constructor\n",
    "* pass the `ExcelWriter` object to `to_excel()`\n",
    "* create a chart using the XlsxWriter `chart` class (this is an Excel-compatible chart, not a `pandas` or a `matplotlib` chart)\n",
    "* from the `ExcelWriter` object get a hold of the workbook and the worksheet\n",
    "* insert the chart in the desired worksheet using the `insert_chart()` method of the worksheet object."
   ]
  },
  {
   "cell_type": "markdown",
   "id": "35ef4030",
   "metadata": {},
   "source": [
    "<Br>"
   ]
  },
  {
   "cell_type": "markdown",
   "id": "26daf143",
   "metadata": {},
   "source": [
    "Let's export only the data for Dubrovnik to an Excel file and include a scatter plot showing the values of `Sensor A` and `Sensor B`. "
   ]
  },
  {
   "cell_type": "code",
   "execution_count": null,
   "id": "b2a9c534",
   "metadata": {},
   "outputs": [],
   "source": [
    "data.head()"
   ]
  },
  {
   "cell_type": "code",
   "execution_count": null,
   "id": "f998a6cd",
   "metadata": {},
   "outputs": [],
   "source": [
    "output = data.loc[data['Location'] == 'Dubrovnik']\n",
    "output.head()"
   ]
  },
  {
   "cell_type": "markdown",
   "id": "4eeb51d2",
   "metadata": {},
   "source": [
    "Let's create the ExcelWriter object."
   ]
  },
  {
   "cell_type": "code",
   "execution_count": null,
   "id": "1f2d340b",
   "metadata": {},
   "outputs": [],
   "source": [
    "writer = pd.ExcelWriter(\n",
    "    'output/dubrovnik.xlsx', \n",
    "    engine='xlsxwriter' \n",
    ")\n",
    "\n",
    "sheet_name = 'Data'"
   ]
  },
  {
   "cell_type": "markdown",
   "id": "4b52614d",
   "metadata": {},
   "source": [
    "Now we can use this `ExcelWriter` object to output our data:"
   ]
  },
  {
   "cell_type": "code",
   "execution_count": null,
   "id": "1a6d9dd6",
   "metadata": {},
   "outputs": [],
   "source": [
    "output.to_excel(writer, sheet_name=sheet_name)"
   ]
  },
  {
   "cell_type": "code",
   "execution_count": null,
   "id": "9f478c6a",
   "metadata": {},
   "outputs": [],
   "source": [
    "# Get a reference for the Excel Workbook\n",
    "workbook = writer.book"
   ]
  },
  {
   "cell_type": "code",
   "execution_count": null,
   "id": "e04ebdc3",
   "metadata": {},
   "outputs": [],
   "source": [
    "# Get a reference for the Excel Worksheet\n",
    "worksheet = writer.sheets[sheet_name]"
   ]
  },
  {
   "cell_type": "code",
   "execution_count": null,
   "id": "a2ab963b",
   "metadata": {},
   "outputs": [],
   "source": [
    "output.head()"
   ]
  },
  {
   "cell_type": "code",
   "execution_count": null,
   "id": "0996a265",
   "metadata": {},
   "outputs": [],
   "source": [
    "# Add a scatter chart to the Workbook\n",
    "chart = workbook.add_chart({'type': 'scatter'})\n",
    "\n",
    "# Configure the chart series. \n",
    "# Here I'm using the fact that Sensor A\n",
    "# values will be in column B and Sensor B\n",
    "# values will be in column C of the Worksheet.\n",
    "# We can automatically determine how many rows\n",
    "# of data to include in our series by just\n",
    "# looking at the number of rows we have in our\n",
    "# DataFrame.\n",
    "\n",
    "rows_count = output.shape[0] + 1\n",
    "\n",
    "chart.add_series({\n",
    "    'categories': f'=Data!$B$2:$B${rows_count}',\n",
    "    'values': f'=Data!$C$2:$C${rows_count}',\n",
    "    'marker': {'type': 'circle', 'size': 4},\n",
    "    'name': 'Dubrovnik'\n",
    "})\n",
    "\n",
    "# Configure the chart axes.\n",
    "chart.set_x_axis({'name': 'Sensor A'})\n",
    "chart.set_y_axis({'name': 'Sensor B'})\n",
    "\n",
    "# Insert the chart into the worksheet.\n",
    "# The first argument tells us the cell\n",
    "# where the chart should be inserted.\n",
    "worksheet.insert_chart('F2', chart)\n",
    "\n",
    "# Close the Excel writer object and write the file.\n",
    "writer.close()"
   ]
  },
  {
   "cell_type": "markdown",
   "id": "c7587928",
   "metadata": {},
   "source": [
    "<br>"
   ]
  },
  {
   "cell_type": "markdown",
   "id": "be255415",
   "metadata": {},
   "source": [
    "**You can read more about the different types of charts available here:**\n",
    "* https://xlsxwriter.readthedocs.io/chart.html"
   ]
  },
  {
   "cell_type": "markdown",
   "id": "3f33b5c1",
   "metadata": {},
   "source": [
    "<br/>\n",
    "<br/>\n",
    "<br/>\n",
    "<br/>\n",
    "<br/>\n",
    "<br/>"
   ]
  },
  {
   "cell_type": "markdown",
   "id": "f0a842d6",
   "metadata": {
    "slideshow": {
     "slide_type": "slide"
    }
   },
   "source": [
    "## Advanced: export data to `.html`\n",
    "This would allow us to publish to an internal site and have the reports available to everyone."
   ]
  },
  {
   "cell_type": "code",
   "execution_count": null,
   "id": "7f2fa893",
   "metadata": {},
   "outputs": [],
   "source": [
    "data = pd.read_csv(\n",
    "    'https://edlitera-datasets.s3.amazonaws.com/timeseries_survey_sample.csv',  \n",
    "    parse_dates=['Date']\n",
    ")\n",
    "\n",
    "data.head()"
   ]
  },
  {
   "cell_type": "code",
   "execution_count": null,
   "id": "0a361bff",
   "metadata": {},
   "outputs": [],
   "source": [
    "html_template = '''\n",
    "<html>\n",
    "  <head><title>Report</title></head>\n",
    "  <link rel=\"stylesheet\" type=\"text/css\" \n",
    "        href=\"https://edlitera-datasets.s3.amazonaws.com/df_style.css\"/>\n",
    "  <body>\n",
    "    <center>\n",
    "      <h1>Sensor Report<h1>\n",
    "    </center>\n",
    "    <center>\n",
    "        {table}\n",
    "    </center>\n",
    "    <p>Have a nice day!</p>\n",
    "  </body>\n",
    "</html>\n",
    "'''"
   ]
  },
  {
   "cell_type": "code",
   "execution_count": null,
   "id": "d80d6e16",
   "metadata": {},
   "outputs": [],
   "source": [
    "locations = data['Location'].unique()\n",
    "locations"
   ]
  },
  {
   "cell_type": "code",
   "execution_count": null,
   "id": "4f2e99eb",
   "metadata": {},
   "outputs": [],
   "source": [
    "table_html = ''\n",
    "\n",
    "for location in locations:\n",
    "    output = data.loc[(data['Sensor A'] > 1.7) & \n",
    "                      (data['Sensor A'] < 2) & \n",
    "                      (data['Location'] == location), \n",
    "                      ['Date', 'Sensor A', 'Sensor B']]\n",
    "    table_html += f'<section><h2>{location}</h2>{output.to_html(index=False)}</section>'\n",
    "\n",
    "with open('output/sensor_report.html', 'w') as f:\n",
    "    f.write(html_template.format(table=table_html))"
   ]
  },
  {
   "cell_type": "code",
   "execution_count": null,
   "id": "b849f627",
   "metadata": {},
   "outputs": [],
   "source": []
  }
 ],
 "metadata": {
  "kernelspec": {
   "display_name": "data_processing_environment",
   "language": "python",
   "name": "data_processing_environment"
  },
  "language_info": {
   "codemirror_mode": {
    "name": "ipython",
    "version": 3
   },
   "file_extension": ".py",
   "mimetype": "text/x-python",
   "name": "python",
   "nbconvert_exporter": "python",
   "pygments_lexer": "ipython3",
   "version": "3.9.18"
  }
 },
 "nbformat": 4,
 "nbformat_minor": 5
}
