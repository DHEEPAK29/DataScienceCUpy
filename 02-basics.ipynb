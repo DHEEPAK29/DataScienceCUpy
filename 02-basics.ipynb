{
 "cells": [
  {
   "cell_type": "markdown",
   "id": "08f253f0",
   "metadata": {},
   "source": [
    "<div>\n",
    "<img src=\"https://edlitera-images.s3.us-east-1.amazonaws.com/new_edlitera_logo.png\" width=\"500\"/>\n",
    "</div>"
   ]
  },
  {
   "cell_type": "markdown",
   "id": "454b6a02",
   "metadata": {},
   "source": [
    "<br/>\n",
    "<br/>\n",
    "<br/>\n",
    "<br/>\n",
    "<br/>\n",
    "<br/>\n",
    "<br/>\n",
    "<br/>"
   ]
  },
  {
   "cell_type": "markdown",
   "id": "e877bf8b",
   "metadata": {},
   "source": [
    "# Intro to Pandas"
   ]
  },
  {
   "cell_type": "markdown",
   "id": "fd9fd01c",
   "metadata": {},
   "source": [
    "<br/>\n",
    "<br/>\n",
    "<br/>\n",
    "<br/>\n",
    "<br/>\n",
    "<br/>\n",
    "<br/>\n",
    "<br/>"
   ]
  },
  {
   "cell_type": "markdown",
   "id": "24b0bd20",
   "metadata": {},
   "source": [
    "# What do we need for data processing?"
   ]
  },
  {
   "cell_type": "markdown",
   "id": "c1dee65d",
   "metadata": {},
   "source": [
    "* **import data** from csv, excel, text files, databases etc.\n",
    "* **export data** to csv, excel, text files, web?\n",
    "* work with **tabular data**\n",
    "  - merge data tables (sheets, in Excel lingo)\n",
    "  - filter data\n",
    "  - pivot data\n",
    "  - modify / reshape data\n",
    "  - add / remove / rename columns\n",
    "  - look up data\n",
    "  - add columns with derived data\n",
    "  - compute statistics\n",
    "* **handle dates, text, numbers, etc.**\n",
    "* **visualize data**\n",
    "* **share data**\n",
    "* **handle large files (tens of GB)**"
   ]
  },
  {
   "cell_type": "markdown",
   "id": "4cb523f2",
   "metadata": {},
   "source": [
    "<br/>\n",
    "<br/>\n",
    "<br/>\n",
    "<br/>\n",
    "<br/>\n",
    "<br/>\n",
    "<br/>\n",
    "<br/>"
   ]
  },
  {
   "cell_type": "markdown",
   "id": "cbb6ab0d",
   "metadata": {},
   "source": [
    "# The Python `pandas` package meets the requirements"
   ]
  },
  {
   "cell_type": "markdown",
   "id": "7bb99e59",
   "metadata": {},
   "source": [
    "* Python package for working with “**pan**el **da**ta”\n",
    "* Replicates the look & feel of data tables in Excel and SQL DBs.\n",
    "* Primary data structures: **DataFrame (2-D) & Series (1-D)**\n",
    "* Easy I/O\n",
    "* **The most important tool for doing data analysis in Python**\n",
    "* Built on top of **NumPy (Numerical Python)**"
   ]
  },
  {
   "cell_type": "markdown",
   "id": "a892c6aa",
   "metadata": {},
   "source": [
    "Initially created at AQR Capital Management _\"out of the need for a high performance, flexible tool to perform quantitative analysis on financial data\"_ (according to Wikipedia)"
   ]
  },
  {
   "cell_type": "markdown",
   "id": "8cfa9bfa",
   "metadata": {},
   "source": [
    "## Documentation / help"
   ]
  },
  {
   "cell_type": "markdown",
   "id": "01c45797",
   "metadata": {},
   "source": [
    "* https://pandas.pydata.org/pandas-docs/stable/reference/\n",
    "* www.stackoverflow.com\n",
    "* search online; remember to use keywords `dataframe`, `pandas`, `python`"
   ]
  },
  {
   "cell_type": "markdown",
   "id": "c54e5c50",
   "metadata": {},
   "source": [
    "<br/>\n",
    "<br/>\n",
    "<br/>\n",
    "<br/>\n",
    "<br/>\n",
    "<br/>\n",
    "<br/>\n",
    "<br/>"
   ]
  },
  {
   "cell_type": "markdown",
   "id": "4c74919c",
   "metadata": {
    "slideshow": {
     "slide_type": "slide"
    }
   },
   "source": [
    "# Installing Required Modules"
   ]
  },
  {
   "cell_type": "markdown",
   "id": "fc6c1260",
   "metadata": {},
   "source": [
    "**Run either of these commands in a terminal (or console):**"
   ]
  },
  {
   "cell_type": "markdown",
   "id": "84cb26cc",
   "metadata": {},
   "source": [
    "```\n",
    "pip install pandas\n",
    "pip install numpy\n",
    "```"
   ]
  },
  {
   "cell_type": "markdown",
   "id": "085cb6c2",
   "metadata": {},
   "source": [
    "```\n",
    "conda install pandas\n",
    "conda install numpy\n",
    "```"
   ]
  },
  {
   "cell_type": "markdown",
   "id": "de9f7588",
   "metadata": {},
   "source": [
    "<br/>\n",
    "<br/>\n",
    "<br/>\n",
    "<br/>\n",
    "<br/>\n",
    "<br/>\n",
    "<br/>\n",
    "<br/>"
   ]
  },
  {
   "cell_type": "markdown",
   "id": "09d1f9be",
   "metadata": {
    "slideshow": {
     "slide_type": "slide"
    }
   },
   "source": [
    "# Importing Required Modules"
   ]
  },
  {
   "cell_type": "markdown",
   "id": "875801e7",
   "metadata": {},
   "source": [
    "**I advise you to always start with these three lines of code:**"
   ]
  },
  {
   "cell_type": "code",
   "execution_count": null,
   "id": "f20a6142",
   "metadata": {
    "slideshow": {
     "slide_type": "-"
    }
   },
   "outputs": [],
   "source": [
    "import pandas as pd\n",
    "import numpy as np\n",
    "import datetime\n",
    "\n",
    "# This line of code will just show numbers in a nice format.\n",
    "# No need to dig into it right now, just copy/paste it in your projects.\n",
    "pd.options.display.float_format = '{:,.2f}'.format"
   ]
  },
  {
   "cell_type": "markdown",
   "id": "70582a88",
   "metadata": {},
   "source": [
    "<br/>\n",
    "<br/>\n",
    "<br/>\n",
    "<br/>\n",
    "<br/>\n",
    "<br/>\n",
    "<br/>\n",
    "<br/>"
   ]
  },
  {
   "cell_type": "markdown",
   "id": "9b66f0a2",
   "metadata": {
    "slideshow": {
     "slide_type": "slide"
    }
   },
   "source": [
    "# DataFrames and Series"
   ]
  },
  {
   "cell_type": "markdown",
   "id": "286cce4f",
   "metadata": {},
   "source": [
    "* fundamental `pandas` objects\n",
    "* represent 2-D (tables) and 1-D (columns) of data\n",
    "* have lots of functionality!"
   ]
  },
  {
   "cell_type": "markdown",
   "id": "987e0004",
   "metadata": {},
   "source": [
    "<div>\n",
    "<img src=\"https://edlitera-images.s3.us-east-1.amazonaws.com\\dataframe_example.png\" width=\"500\"/>\n",
    "</div>"
   ]
  },
  {
   "cell_type": "markdown",
   "id": "7c3fab63",
   "metadata": {},
   "source": [
    "<br/>\n",
    "<br/>"
   ]
  },
  {
   "cell_type": "markdown",
   "id": "433a4c2f",
   "metadata": {},
   "source": [
    "## DataFrame Indexes"
   ]
  },
  {
   "cell_type": "markdown",
   "id": "3b0d3719",
   "metadata": {},
   "source": [
    "* used to access data in a dataframe\n",
    "* can be nested!"
   ]
  },
  {
   "cell_type": "markdown",
   "id": "5a2bf396",
   "metadata": {},
   "source": [
    "<div>\n",
    "<img src=\"https://edlitera-images.s3.us-east-1.amazonaws.com\\dataframe_index.png\" width=\"500\"/>\n",
    "</div>"
   ]
  },
  {
   "cell_type": "markdown",
   "id": "dd2327ae",
   "metadata": {},
   "source": [
    "<br/>\n",
    "<br/>\n",
    "<br/>"
   ]
  },
  {
   "cell_type": "markdown",
   "id": "97f8eff5",
   "metadata": {},
   "source": [
    "<div>\n",
    "<img src=\"https://edlitera-images.s3.us-east-1.amazonaws.com\\dataframe_multiindex.png\" width=\"500\"/>\n",
    "</div>"
   ]
  },
  {
   "cell_type": "markdown",
   "id": "87d67e43",
   "metadata": {},
   "source": [
    "<br/>\n",
    "<br/>\n",
    "<br/>\n",
    "<br/>\n",
    "<br/>\n",
    "<br/>\n",
    "<br/>\n",
    "<br/>"
   ]
  },
  {
   "cell_type": "markdown",
   "id": "6f8b5156",
   "metadata": {},
   "source": [
    "## Series\n",
    "* one dimensional data structure\n",
    "* an array of data (**values**) + an array of labels (**index**)\n",
    "* can contain data of multiple types\n",
    "* can be built from a list, a dictionary etc.\n",
    "* **think of a dataframe column or row as a series object**"
   ]
  },
  {
   "cell_type": "markdown",
   "id": "aaf28c7f",
   "metadata": {},
   "source": [
    "<div>\n",
    "<img src=\"https://edlitera-images.s3.us-east-1.amazonaws.com\\series_example.png\" width=\"400\"/>\n",
    "</div>"
   ]
  },
  {
   "cell_type": "markdown",
   "id": "ce3e2b86",
   "metadata": {},
   "source": [
    "<br/>\n",
    "<br/>\n",
    "<br/>\n",
    "<br/>\n",
    "<br/>\n",
    "<br/>\n",
    "<br/>\n",
    "<br/>"
   ]
  },
  {
   "cell_type": "markdown",
   "id": "d5d518f4",
   "metadata": {},
   "source": [
    "## Create a Series"
   ]
  },
  {
   "cell_type": "code",
   "execution_count": null,
   "id": "4d8f39bf",
   "metadata": {},
   "outputs": [],
   "source": [
    "letters = pd.Series( ['a', 'b', 'c'] )\n",
    "letters"
   ]
  },
  {
   "cell_type": "code",
   "execution_count": null,
   "id": "5899f12d",
   "metadata": {},
   "outputs": [],
   "source": [
    "countries = pd.Series( ['Andorra', 'Belgium', 'Croatia'] )\n",
    "countries"
   ]
  },
  {
   "cell_type": "code",
   "execution_count": null,
   "id": "a5dfe4ce",
   "metadata": {},
   "outputs": [],
   "source": [
    "countries.index"
   ]
  },
  {
   "cell_type": "markdown",
   "id": "dbd4ba81",
   "metadata": {},
   "source": [
    "**A series has an index, corresponding values, and a data type.**"
   ]
  },
  {
   "cell_type": "code",
   "execution_count": null,
   "id": "e653b94c",
   "metadata": {},
   "outputs": [],
   "source": [
    "type(countries)"
   ]
  },
  {
   "cell_type": "code",
   "execution_count": null,
   "id": "d31538db",
   "metadata": {},
   "outputs": [],
   "source": [
    "countries.dtype"
   ]
  },
  {
   "cell_type": "markdown",
   "id": "31fe3334",
   "metadata": {},
   "source": [
    "#### You can specify a custom index"
   ]
  },
  {
   "cell_type": "code",
   "execution_count": null,
   "id": "d14d9e0e",
   "metadata": {},
   "outputs": [],
   "source": [
    "c_data = pd.Series(\n",
    "    ['Andorra', 'Belgium', 'Croatia', 'Albania'], \n",
    "    index=['a', 'b', 'c', 'a'])\n",
    "\n",
    "c_data"
   ]
  },
  {
   "cell_type": "code",
   "execution_count": null,
   "id": "185a621a",
   "metadata": {},
   "outputs": [],
   "source": [
    "print(c_data.dtype)"
   ]
  },
  {
   "cell_type": "code",
   "execution_count": null,
   "id": "97513537",
   "metadata": {},
   "outputs": [],
   "source": [
    "c_data.values"
   ]
  },
  {
   "cell_type": "code",
   "execution_count": null,
   "id": "216910fd",
   "metadata": {},
   "outputs": [],
   "source": [
    "c_data.index"
   ]
  },
  {
   "cell_type": "code",
   "execution_count": null,
   "id": "147f1e43",
   "metadata": {
    "scrolled": false
   },
   "outputs": [],
   "source": [
    "c_data['a']"
   ]
  },
  {
   "cell_type": "markdown",
   "id": "ae837624",
   "metadata": {},
   "source": [
    "<br/>\n",
    "<br/>\n",
    "<br/>\n",
    "<br/>\n",
    "<br/>\n",
    "<br/>\n",
    "<br/>\n",
    "<br/>"
   ]
  },
  {
   "cell_type": "markdown",
   "id": "5dc3da4d",
   "metadata": {},
   "source": [
    "## Create an empty dataframe, with specific columns"
   ]
  },
  {
   "cell_type": "code",
   "execution_count": null,
   "id": "be420da5",
   "metadata": {},
   "outputs": [],
   "source": [
    "# country_df is a DataFrame object. \n",
    "# It is empty, but has the columns we specified.\n",
    "\n",
    "country_df = pd.DataFrame( columns=['Letter', 'Country'] )\n",
    "country_df"
   ]
  },
  {
   "cell_type": "markdown",
   "id": "bd2afc2f",
   "metadata": {},
   "source": [
    "<br/>\n",
    "<br/>\n",
    "<br/>\n",
    "<br/>\n",
    "<br/>\n",
    "<br/>\n",
    "<br/>\n",
    "<br/>"
   ]
  },
  {
   "cell_type": "markdown",
   "id": "f5d3776d",
   "metadata": {},
   "source": [
    "## Create dataframe columns using values from Series\n",
    "Essentially, this is like copy/pasting a column from one Excel sheet to another."
   ]
  },
  {
   "cell_type": "code",
   "execution_count": null,
   "id": "8c32c859",
   "metadata": {},
   "outputs": [],
   "source": [
    "letters = pd.Series( ['a', 'b', 'c'] )\n",
    "letters"
   ]
  },
  {
   "cell_type": "code",
   "execution_count": null,
   "id": "6cecc450",
   "metadata": {},
   "outputs": [],
   "source": [
    "countries = pd.Series( ['Andorra', 'Belgium', 'Croatia'] )\n",
    "countries"
   ]
  },
  {
   "cell_type": "code",
   "execution_count": null,
   "id": "63026535",
   "metadata": {
    "scrolled": true
   },
   "outputs": [],
   "source": [
    "country_df = pd.DataFrame({\n",
    "    'Letter': letters, \n",
    "    'Country': countries}, \n",
    "    index=[0, 1, 5])\n",
    "\n",
    "country_df"
   ]
  },
  {
   "cell_type": "markdown",
   "id": "c7f4c5b6",
   "metadata": {},
   "source": [
    "**NOTE:** Python adds the index automatically."
   ]
  },
  {
   "cell_type": "markdown",
   "id": "f22fba77",
   "metadata": {},
   "source": [
    "<br/>\n",
    "<br/>\n",
    "<br/>\n",
    "<br/>\n",
    "<br/>\n",
    "<br/>\n",
    "<br/>\n",
    "<br/>"
   ]
  },
  {
   "cell_type": "markdown",
   "id": "3cb873a0",
   "metadata": {},
   "source": [
    "## Exercise"
   ]
  },
  {
   "cell_type": "markdown",
   "id": "7729ddf5",
   "metadata": {},
   "source": [
    "Create a series object that contains 4 letters of the alphabet and has the following values in the index: 2, 3, 4, 5. Name this series object `alphabet`. \n",
    "\n",
    "Create another series object that contains 4 animals starting with those four letters and which has the following values in the index: 2, 3, 4, 7. Name this series `animals`. \n",
    "\n",
    "Finally, create a dataframe object from these two series. What do you notice?"
   ]
  },
  {
   "cell_type": "markdown",
   "id": "6e959ea0",
   "metadata": {},
   "source": [
    "<br/>\n",
    "<br/>\n",
    "<br/>\n",
    "<br/>\n",
    "<br/>\n",
    "<br/>\n",
    "<br/>\n",
    "<br/>"
   ]
  },
  {
   "cell_type": "markdown",
   "id": "80ba58ac",
   "metadata": {},
   "source": [
    "#### Solution"
   ]
  },
  {
   "cell_type": "code",
   "execution_count": null,
   "id": "aac8cca7",
   "metadata": {},
   "outputs": [],
   "source": [
    "alphabet = pd.Series(\n",
    "    ['c', 'd', 'z', 'o'], \n",
    "    index=[2, 3, 4, 5])\n",
    "\n",
    "alphabet"
   ]
  },
  {
   "cell_type": "code",
   "execution_count": null,
   "id": "7a3c39f0",
   "metadata": {},
   "outputs": [],
   "source": [
    "animals = pd.Series(\n",
    "    ['cat', 'dolphin', 'zebra', 'orangutan'], \n",
    "    index=[2, 3, 4, 7])\n",
    "\n",
    "animals"
   ]
  },
  {
   "cell_type": "code",
   "execution_count": null,
   "id": "cbd36f6f",
   "metadata": {},
   "outputs": [],
   "source": [
    "animals_data = pd.DataFrame({\n",
    "    'Letter': alphabet, \n",
    "    'Animal': animals})\n",
    "\n",
    "animals_data"
   ]
  },
  {
   "cell_type": "markdown",
   "id": "ada81ac6",
   "metadata": {},
   "source": [
    "We notice that when pandas creates the dataframe, it matches the rows **based on the index label**. FYI, there is a way around this, more on this in a bit."
   ]
  },
  {
   "cell_type": "markdown",
   "id": "5b8c80a6",
   "metadata": {},
   "source": [
    "<br/>\n",
    "<br/>\n",
    "<br/>\n",
    "<br/>\n",
    "<br/>\n",
    "<br/>\n",
    "<br/>\n",
    "<br/>"
   ]
  },
  {
   "cell_type": "markdown",
   "id": "5c146d12",
   "metadata": {},
   "source": [
    "<div>\n",
    "<img src=\"https://edlitera-images.s3.us-east-1.amazonaws.com/new_edlitera_logo.png\" width=\"500\"/>\n",
    "</div>"
   ]
  }
 ],
 "metadata": {
  "kernelspec": {
   "display_name": "data_processing_environment",
   "language": "python",
   "name": "data_processing_environment"
  },
  "language_info": {
   "codemirror_mode": {
    "name": "ipython",
    "version": 3
   },
   "file_extension": ".py",
   "mimetype": "text/x-python",
   "name": "python",
   "nbconvert_exporter": "python",
   "pygments_lexer": "ipython3",
   "version": "3.9.18"
  }
 },
 "nbformat": 4,
 "nbformat_minor": 5
}
