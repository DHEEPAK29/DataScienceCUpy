{
 "cells": [
  {
   "cell_type": "markdown",
   "metadata": {},
   "source": [
    "<div>\n",
    "<img src=\"https://edlitera-images.s3.us-east-1.amazonaws.com/new_edlitera_logo.png\" width=\"500\"/>\n",
    "</div>"
   ]
  },
  {
   "cell_type": "markdown",
   "metadata": {},
   "source": [
    "<br/>\n",
    "<br/>\n",
    "<br/>\n",
    "<br/>\n",
    "<br/>\n",
    "<br/>"
   ]
  },
  {
   "cell_type": "markdown",
   "metadata": {
    "slideshow": {
     "slide_type": "slide"
    }
   },
   "source": [
    "# Visualizations"
   ]
  },
  {
   "cell_type": "markdown",
   "metadata": {},
   "source": [
    "<br/>\n",
    "<br/>\n",
    "<br/>\n",
    "<br/>\n",
    "<br/>\n",
    "<br/>"
   ]
  },
  {
   "cell_type": "markdown",
   "metadata": {},
   "source": [
    "## DataFrames and plots"
   ]
  },
  {
   "cell_type": "markdown",
   "metadata": {},
   "source": [
    "* the `pandas` library supports plotting a `DataFrame` object directly\n",
    "* the plotting is built on top of `matplotlib`\n",
    "* for more advanced plots, you can use `matplotlib` directly\n",
    "* `seaborn` is another Python visualization library, also based on `matplotlib`\n",
    "  * has more advanced plots, such as **heatmaps**, **boxplots**, etc.\n",
    "* `bokeh` is an excellent alternative  "
   ]
  },
  {
   "cell_type": "markdown",
   "metadata": {},
   "source": [
    "https://seaborn.pydata.org/   \n",
    "https://matplotlib.org/contents.html    \n",
    "https://docs.bokeh.org/en/latest/"
   ]
  },
  {
   "cell_type": "markdown",
   "metadata": {},
   "source": [
    "#### I strongly encourage you to study the `matplotlib` tutorials - they are very good!\n",
    "\n",
    "https://matplotlib.org/tutorials/index.html"
   ]
  },
  {
   "cell_type": "markdown",
   "metadata": {},
   "source": [
    "<br/>\n",
    "<br/>\n",
    "<br/>\n",
    "<br/>\n",
    "<br/>\n",
    "<br/>"
   ]
  },
  {
   "cell_type": "markdown",
   "metadata": {},
   "source": [
    "## Introduction to Matplotlib"
   ]
  },
  {
   "cell_type": "code",
   "execution_count": null,
   "metadata": {},
   "outputs": [],
   "source": [
    "import pandas as pd\n",
    "import numpy as np\n",
    "import datetime\n",
    "\n",
    "import matplotlib\n",
    "import matplotlib.pyplot as plt\n",
    "\n",
    "# This allows us to show the plots inline\n",
    "%matplotlib inline\n",
    "\n",
    "# This increases the resolution of the plots\n",
    "matplotlib.rcParams['figure.dpi'] = 300"
   ]
  },
  {
   "cell_type": "code",
   "execution_count": null,
   "metadata": {},
   "outputs": [],
   "source": [
    "type(plt)"
   ]
  },
  {
   "cell_type": "code",
   "execution_count": null,
   "metadata": {},
   "outputs": [],
   "source": [
    "dir(plt)"
   ]
  },
  {
   "cell_type": "markdown",
   "metadata": {},
   "source": [
    "<br><br>"
   ]
  },
  {
   "cell_type": "markdown",
   "metadata": {},
   "source": [
    "### The `matplotlib` `pyplot` submodule"
   ]
  },
  {
   "cell_type": "markdown",
   "metadata": {},
   "source": [
    "* often aliased as `plt` for brevity\n",
    "* includes a variety of functions for drawing plots:\n",
    "    * `plot()` for line plots\n",
    "    * `boxplot()` for box plots\n",
    "    * `scattter()` for scatter plots\n",
    "    * `hist()` for histogram plots\n",
    "    * `bar()` and `barh()` for bar plots\n",
    "    * `violinplot()` for violin plots\n",
    "    * etc.\n",
    "* also includes definitions for plot objects that we can customize:\n",
    "    * ticks\n",
    "    * axes\n",
    "    * titles\n",
    "    * legends\n",
    "    * etc."
   ]
  },
  {
   "cell_type": "markdown",
   "metadata": {},
   "source": [
    "**NOTES:** \n",
    "\n",
    "* Knowledge of object-oriented programming can help a lot with understanding `matplotlib` and being able to use more advanced features.\n",
    "<br><br>\n",
    "* You don't have to memorize these functions. You can always check the documentation, or the examples shown on the `matplotlib` page."
   ]
  },
  {
   "cell_type": "code",
   "execution_count": null,
   "metadata": {},
   "outputs": [],
   "source": [
    "help(plt.boxplot)"
   ]
  },
  {
   "cell_type": "markdown",
   "metadata": {},
   "source": [
    "<br><br><br>"
   ]
  },
  {
   "cell_type": "markdown",
   "metadata": {},
   "source": [
    "## First look"
   ]
  },
  {
   "cell_type": "code",
   "execution_count": null,
   "metadata": {},
   "outputs": [],
   "source": [
    "x_values = pd.Series([1, 2, 3, 4, 5, 6])\n",
    "y_values = pd.Series([4, 5, 7, 3, 2, 2])"
   ]
  },
  {
   "cell_type": "code",
   "execution_count": null,
   "metadata": {},
   "outputs": [],
   "source": [
    "# Let's draw a simple line plot\n",
    "\n",
    "plt.plot(x_values, y_values)\n",
    "\n",
    "plt.show()"
   ]
  },
  {
   "cell_type": "markdown",
   "metadata": {},
   "source": [
    "#### A few observations:\n",
    "* The plot is drawn inline, underneath the code cell\n",
    "    * that's because of the `%matplotlib inline` directive which tells Jupyter to display the plots inline\n",
    "<br><br>\n",
    "* Calling `matplotlib` functions like `plot`, `boxplot`, etc. actually create Python objects\n",
    "<br><br>\n",
    "* The various plotting functions actually create Python objects represeting plots. The `show()` function actually draws / displays the plots. \n",
    "    * in some cases, `show()` is not required and Jupyter can draw the plots on its own"
   ]
  },
  {
   "cell_type": "markdown",
   "metadata": {},
   "source": [
    "<br/>\n",
    "<br/>\n",
    "<br/>\n",
    "<br/>\n",
    "<br/>\n",
    "<br/>"
   ]
  },
  {
   "cell_type": "markdown",
   "metadata": {},
   "source": [
    "## Figures and axes subplots"
   ]
  },
  {
   "cell_type": "markdown",
   "metadata": {},
   "source": [
    "<br><br>"
   ]
  },
  {
   "cell_type": "markdown",
   "metadata": {},
   "source": [
    "<img src=\"https://edlitera-images.s3.us-east-1.amazonaws.com/matplotlib_anatomy.png\" width=\"500px\" />"
   ]
  },
  {
   "cell_type": "markdown",
   "metadata": {},
   "source": [
    "<br><br>"
   ]
  },
  {
   "cell_type": "markdown",
   "metadata": {},
   "source": [
    "### Creating `Figure` and `AxesSubplot` objects"
   ]
  },
  {
   "cell_type": "markdown",
   "metadata": {},
   "source": [
    "* use the `subplots()` function\n",
    "    * it returns a tuple containing a `Figure` object and:\n",
    "        * one `AxesSubplot` object OR\n",
    "        * an ndarray object containing `AxesSubplot` objects\n",
    "<br><br>        \n",
    "* more often, we create plots by first creating a `Figure` object and one or more `AxesSubplot` objects"
   ]
  },
  {
   "cell_type": "code",
   "execution_count": null,
   "metadata": {},
   "outputs": [],
   "source": [
    "plt.subplots()"
   ]
  },
  {
   "cell_type": "code",
   "execution_count": null,
   "metadata": {},
   "outputs": [],
   "source": [
    "plt.subplots(nrows=2, ncols=2)"
   ]
  },
  {
   "cell_type": "code",
   "execution_count": null,
   "metadata": {},
   "outputs": [],
   "source": [
    "plt.subplots(nrows=3, ncols=2)"
   ]
  },
  {
   "cell_type": "code",
   "execution_count": null,
   "metadata": {},
   "outputs": [],
   "source": [
    "type(plt.subplots(nrows=2, ncols=2))"
   ]
  },
  {
   "cell_type": "code",
   "execution_count": null,
   "metadata": {},
   "outputs": [],
   "source": [
    "type(plt.subplots(nrows=2, ncols=2)[0])"
   ]
  },
  {
   "cell_type": "code",
   "execution_count": null,
   "metadata": {},
   "outputs": [],
   "source": [
    "type(plt.subplots(nrows=2, ncols=2)[1])"
   ]
  },
  {
   "cell_type": "markdown",
   "metadata": {},
   "source": [
    "<br><br>"
   ]
  },
  {
   "cell_type": "markdown",
   "metadata": {},
   "source": [
    "We can use tuple unpacking to extract the `Figure` and `AxesSubplot` object into separate variables:"
   ]
  },
  {
   "cell_type": "code",
   "execution_count": null,
   "metadata": {},
   "outputs": [],
   "source": [
    "fig, ax = plt.subplots() # one Figure, one AxesSubplot"
   ]
  },
  {
   "cell_type": "markdown",
   "metadata": {},
   "source": [
    "**NOTES:**\n",
    "* Because of the `%matplotlib inline` directive, Jupyter will actually draw the `Figure` and `AxesSubplot` objects inline. \n",
    "<br><br>\n",
    "* Since we used none of the plotting functions, no object representing a plot is actually attached to the `AxesSubplot` object\n",
    "    * i.e. no plot is drawn"
   ]
  },
  {
   "cell_type": "markdown",
   "metadata": {},
   "source": [
    "<br><br><br><br><br><br>"
   ]
  },
  {
   "cell_type": "markdown",
   "metadata": {},
   "source": [
    "## Properties and methods of the `AxesSubplot`"
   ]
  },
  {
   "cell_type": "code",
   "execution_count": null,
   "metadata": {},
   "outputs": [],
   "source": [
    "fig, ax = plt.subplots()\n",
    "\n",
    "dir(ax)"
   ]
  },
  {
   "cell_type": "markdown",
   "metadata": {},
   "source": [
    "We notice that the `AxesSubplot` data type (class) has all the plotting methods we mentioned earlier:\n",
    "* `plot()` for line plots\n",
    "* `boxplot()` for box plots\n",
    "* `scattter()` for scatter plots\n",
    "* `hist()` for histogram plots\n",
    "* `bar()` and `barh()` for bar plots\n",
    "* `violinplot()` for violin plots\n",
    "* etc.\n",
    "\n",
    "<br><br>\n",
    "It also includes properties and methods for creating / manipulating plot objects:\n",
    "* ticks\n",
    "* axes\n",
    "* titles\n",
    "* legends\n",
    "* etc."
   ]
  },
  {
   "cell_type": "markdown",
   "metadata": {},
   "source": [
    "<br><br><br><br><br><br>"
   ]
  },
  {
   "cell_type": "markdown",
   "metadata": {},
   "source": [
    "## Drawing a plot in an AxesSubplot"
   ]
  },
  {
   "cell_type": "code",
   "execution_count": null,
   "metadata": {},
   "outputs": [],
   "source": [
    "fig, ax = plt.subplots()\n",
    "\n",
    "ax.plot(\n",
    "    [1, 2, 3, 4], \n",
    "    [10, 20, 25, 30], \n",
    "    color='#ADD8E6', \n",
    "    linewidth=2\n",
    ")\n",
    "\n",
    "plt.show() "
   ]
  },
  {
   "cell_type": "markdown",
   "metadata": {},
   "source": [
    "<br><br>"
   ]
  },
  {
   "cell_type": "markdown",
   "metadata": {},
   "source": [
    "## Drawing multiple plots in the same AxesSubplot"
   ]
  },
  {
   "cell_type": "code",
   "execution_count": null,
   "metadata": {},
   "outputs": [],
   "source": [
    "fig, ax = plt.subplots()\n",
    "\n",
    "# Add a line plot\n",
    "ax.plot(\n",
    "    [1, 2, 3, 4], \n",
    "    [10, 20, 25, 30], \n",
    "    color='#ADD8E6', \n",
    "    linewidth=1\n",
    ")\n",
    "\n",
    "# Add a scatter plot\n",
    "ax.scatter(\n",
    "    [0.3, 3.8, 1.2, 2.5], \n",
    "    [11, 25, 9, 26], \n",
    "    color='#FE5645', \n",
    "    marker='o'\n",
    ")\n",
    "\n",
    "ax.set_xlim(0.5, 4.5)\n",
    "\n",
    "plt.show()"
   ]
  },
  {
   "cell_type": "markdown",
   "metadata": {},
   "source": [
    "<br/>\n",
    "<br/>\n",
    "<br/>\n",
    "<br/>\n",
    "<br/>\n",
    "<br/>"
   ]
  },
  {
   "cell_type": "markdown",
   "metadata": {},
   "source": [
    "## Drawing several subplots in a figure"
   ]
  },
  {
   "cell_type": "code",
   "execution_count": null,
   "metadata": {},
   "outputs": [],
   "source": [
    "fig, axes = plt.subplots(nrows=2, ncols=3)\n",
    "\n",
    "plt.show()"
   ]
  },
  {
   "cell_type": "code",
   "execution_count": null,
   "metadata": {},
   "outputs": [],
   "source": [
    "type(fig)"
   ]
  },
  {
   "cell_type": "code",
   "execution_count": null,
   "metadata": {},
   "outputs": [],
   "source": [
    "axes"
   ]
  },
  {
   "cell_type": "code",
   "execution_count": null,
   "metadata": {},
   "outputs": [],
   "source": [
    "fig, axes = plt.subplots(nrows=2, ncols=3)\n",
    "\n",
    "axes[0,0].plot(\n",
    "    [-10, -5, 0, 5, 10, 15], \n",
    "    [-1.2, 2, 3.5, -0.3, -4, 1]\n",
    ")\n",
    "\n",
    "axes[0,1].scatter(\n",
    "    [-10, -5, 0, 5, 10, 15], \n",
    "    [-1.2, 2, 3.5, -0.3, -4, 1]\n",
    ")\n",
    "\n",
    "plt.show()"
   ]
  },
  {
   "cell_type": "markdown",
   "metadata": {},
   "source": [
    "<br/>\n",
    "<br/>\n",
    "<br/>\n",
    "<br/>\n",
    "<br/>\n",
    "<br/>"
   ]
  },
  {
   "cell_type": "markdown",
   "metadata": {},
   "source": [
    "### Adjust space between subplots"
   ]
  },
  {
   "cell_type": "code",
   "execution_count": null,
   "metadata": {},
   "outputs": [],
   "source": [
    "fig, axes = plt.subplots(nrows=2, ncols=2)\n",
    "\n",
    "axes[0,0].plot(\n",
    "    [-10, -5, 0, 5, 10, 15], \n",
    "    [-1.2, 2, 3.5, -0.3, -4, 1]\n",
    ")\n",
    "\n",
    "axes[0,1].scatter(\n",
    "    [-10, -5, 0, 5, 10, 15], \n",
    "    [-1.2, 2, 3.5, -0.3, -4, 1]\n",
    ")\n",
    "\n",
    "plt.subplots_adjust(wspace=0.3, hspace=0.4)\n",
    "\n",
    "plt.show()"
   ]
  },
  {
   "cell_type": "markdown",
   "metadata": {},
   "source": [
    "**More info:** https://matplotlib.org/stable/api/_as_gen/matplotlib.pyplot.subplots_adjust.html"
   ]
  },
  {
   "cell_type": "markdown",
   "metadata": {},
   "source": [
    "<br/>\n",
    "<br/>\n",
    "<br/>\n",
    "<br/>\n",
    "<br/>\n",
    "<br/>"
   ]
  },
  {
   "cell_type": "markdown",
   "metadata": {},
   "source": [
    "### Name subplots"
   ]
  },
  {
   "cell_type": "code",
   "execution_count": null,
   "metadata": {},
   "outputs": [],
   "source": [
    "fig, axes = plt.subplots(nrows=2, ncols=2)\n",
    "\n",
    "axes[0,0].plot(\n",
    "    [-10, -5, 0, 5, 10, 15], \n",
    "    [-1.2, 2, 3.5, -0.3, -4, 1]\n",
    ")\n",
    "\n",
    "axes[0,1].scatter(\n",
    "    [-10, -5, 0, 5, 10, 15], \n",
    "    [-1.2, 2, 3.5, -0.3, -4, 1]\n",
    ")\n",
    "\n",
    "axes[0,0].set_title('Upper Left')\n",
    "axes[0,1].set_title('Upper Right')\n",
    "axes[1,0].set_title('Lower Left')\n",
    "axes[1,1].set_title('Lower Right')\n",
    "\n",
    "plt.subplots_adjust(wspace=0.4, hspace=0.5)\n",
    "\n",
    "plt.show()"
   ]
  },
  {
   "cell_type": "markdown",
   "metadata": {},
   "source": [
    "<br/>\n",
    "<br/>\n",
    "<br/>\n",
    "<br/>\n",
    "<br/>\n",
    "<br/>"
   ]
  },
  {
   "cell_type": "markdown",
   "metadata": {},
   "source": [
    "### Set axes limits"
   ]
  },
  {
   "cell_type": "code",
   "execution_count": null,
   "metadata": {},
   "outputs": [],
   "source": [
    "fig, axes = plt.subplots(nrows=2, ncols=2)\n",
    "\n",
    "# plot data for each axes\n",
    "axes[0,0].plot(\n",
    "    [-10, -5, 0, 5, 10, 15], \n",
    "    [-1.2, 2, 3.5, -0.3, -4, 1]\n",
    ")\n",
    "\n",
    "axes[0,0].scatter(\n",
    "    [-10, -5, 0, 5, 10, 15], \n",
    "    [-1.2, 2, 3.5, -0.3, -4, 1]\n",
    ")\n",
    "\n",
    "# set axes limits\n",
    "axes[0,0].set_ylim(top=10.0)\n",
    "axes[0,0].set_xlim(left=-15)\n",
    "\n",
    "plt.subplots_adjust(wspace=0.4, hspace=0.4)\n",
    "\n",
    "plt.show()"
   ]
  },
  {
   "cell_type": "markdown",
   "metadata": {},
   "source": [
    "<br/>\n",
    "<br/>\n",
    "<br/>\n",
    "<br/>\n",
    "<br/>\n",
    "<br/>"
   ]
  },
  {
   "cell_type": "markdown",
   "metadata": {},
   "source": [
    "### Show legend"
   ]
  },
  {
   "cell_type": "code",
   "execution_count": null,
   "metadata": {},
   "outputs": [],
   "source": [
    "fig, ax = plt.subplots()\n",
    "\n",
    "# plot data for each axes\n",
    "ax.plot(\n",
    "    [-10, -5, 0, 5, 10, 15], \n",
    "    [-1.2, 2, 3.5, -0.3, -4, 1], \n",
    "    label='Signal 1'\n",
    ")\n",
    "\n",
    "ax.plot(\n",
    "    [-10, -5, 0, 5, 10, 15], \n",
    "    [1.2, 4, 1.5, 0.3, -2.5, 1], \n",
    "    label='Signal 2'\n",
    ")\n",
    "\n",
    "# show plot legend\n",
    "ax.legend(loc='lower left')\n",
    "\n",
    "plt.show()"
   ]
  },
  {
   "cell_type": "markdown",
   "metadata": {},
   "source": [
    "**More info:** https://matplotlib.org/stable/api/_as_gen/matplotlib.pyplot.legend.html"
   ]
  },
  {
   "cell_type": "markdown",
   "metadata": {},
   "source": [
    "<br/>\n",
    "<br/>\n",
    "<br/>\n",
    "<br/>\n",
    "<br/>\n",
    "<br/>"
   ]
  },
  {
   "cell_type": "markdown",
   "metadata": {},
   "source": [
    "### Set axis labels"
   ]
  },
  {
   "cell_type": "code",
   "execution_count": null,
   "metadata": {},
   "outputs": [],
   "source": [
    "fig, ax = plt.subplots()\n",
    "\n",
    "# plot data for each axes\n",
    "ax.plot(\n",
    "    [-10, -5, 0, 5, 10, 15], \n",
    "    [-1.2, 2, 3.5, -0.3, -4, 1], \n",
    "    label='Data'\n",
    ")\n",
    "\n",
    "# show plot legend\n",
    "ax.legend()\n",
    "\n",
    "# set axis labels\n",
    "ax.set_xlabel('foo')\n",
    "ax.set_ylabel('bar')\n",
    "\n",
    "plt.show()"
   ]
  },
  {
   "cell_type": "markdown",
   "metadata": {},
   "source": [
    "<br/>\n",
    "<br/>\n",
    "<br/>\n",
    "<br/>\n",
    "<br/>\n",
    "<br/>"
   ]
  },
  {
   "cell_type": "markdown",
   "metadata": {},
   "source": [
    "### Markers and line styles"
   ]
  },
  {
   "cell_type": "code",
   "execution_count": null,
   "metadata": {},
   "outputs": [],
   "source": [
    "fig, ax = plt.subplots()\n",
    "\n",
    "ax.plot(\n",
    "    [1, 2, 3, 4], \n",
    "    [10, 20, 25, 30], \n",
    "    color='#ADD8E6', \n",
    "    linewidth=2,\n",
    "    linestyle='-.'\n",
    ")\n",
    "\n",
    "ax.scatter(\n",
    "    [0.3, 3.8, 1.2, 2.5], \n",
    "    [11, 25, 9, 26], \n",
    "    color='#FE5645', \n",
    "    marker='d'\n",
    ")\n",
    "\n",
    "# ax.set_xlim(0.5, 4.5)\n",
    "\n",
    "plt.show()"
   ]
  },
  {
   "cell_type": "markdown",
   "metadata": {},
   "source": [
    "**More info:** https://matplotlib.org/stable/api/_as_gen/matplotlib.pyplot.plot.html"
   ]
  },
  {
   "cell_type": "markdown",
   "metadata": {},
   "source": [
    "**For marker style options:** https://matplotlib.org/stable/api/markers_api.html"
   ]
  },
  {
   "cell_type": "markdown",
   "metadata": {},
   "source": [
    "<br/>\n",
    "<br/>\n",
    "<br/>\n",
    "<br/>\n",
    "<br/>\n",
    "<br/>"
   ]
  },
  {
   "cell_type": "markdown",
   "metadata": {},
   "source": [
    "### Custom ticks and annotations"
   ]
  },
  {
   "cell_type": "code",
   "execution_count": null,
   "metadata": {},
   "outputs": [],
   "source": [
    "fig, ax = plt.subplots()\n",
    "\n",
    "ax.plot([1, 2, 3, 4], [10, 20, 25, 30])\n",
    "\n",
    "# set custom ticks on the X Axis\n",
    "ax.set_xticks([-4, -2, 0, 2, 4])\n",
    "\n",
    "# set custom ticks on the Y Axis\n",
    "ax.set_yticks(range(0, 80, 20))\n",
    "\n",
    "plt.show()"
   ]
  },
  {
   "cell_type": "code",
   "execution_count": null,
   "metadata": {},
   "outputs": [],
   "source": [
    "fig, ax = plt.subplots()\n",
    "\n",
    "ax.plot([1, 2, 3, 4], [40, 20, 25, 30])\n",
    "\n",
    "ax.annotate(\n",
    "    'this is bad', \n",
    "    xy=(2, 20), \n",
    "    xytext=(3, 30), \n",
    "    arrowprops={\n",
    "        'facecolor': '#dfdfdf', \n",
    "        'width': 1,\n",
    "    }\n",
    ")\n",
    "\n",
    "plt.show()"
   ]
  },
  {
   "cell_type": "markdown",
   "metadata": {},
   "source": [
    "<br/>\n",
    "<br/>\n",
    "<br/>\n",
    "<br/>\n",
    "<br/>\n",
    "<br/>"
   ]
  },
  {
   "cell_type": "markdown",
   "metadata": {},
   "source": [
    "### Set the figure size"
   ]
  },
  {
   "cell_type": "code",
   "execution_count": null,
   "metadata": {},
   "outputs": [],
   "source": [
    "fig, ax = plt.subplots(nrows=1)\n",
    "ax.plot([1, 2, 3, 4], [40, 20, 25, 30])\n",
    "\n",
    "fig.set_size_inches(16.5, 8.5)\n",
    "\n",
    "plt.show()"
   ]
  },
  {
   "cell_type": "markdown",
   "metadata": {},
   "source": [
    "<br/>\n",
    "<br/>\n",
    "<br/>\n",
    "<br/>\n",
    "<br/>\n",
    "<br/>"
   ]
  },
  {
   "cell_type": "markdown",
   "metadata": {},
   "source": [
    "### Save the figure to a file"
   ]
  },
  {
   "cell_type": "code",
   "execution_count": null,
   "metadata": {},
   "outputs": [],
   "source": [
    "fig, ax = plt.subplots()\n",
    "\n",
    "fig.set_size_inches(16.5, 8.5)\n",
    "\n",
    "ax.plot([1, 2, 3, 4], [40, 20, 25, 30])\n",
    "\n",
    "ax.annotate(\n",
    "    'this is bad', \n",
    "    xy=(2, 20), \n",
    "    xytext=(2, 25), \n",
    "    arrowprops={\n",
    "        'facecolor': 'black', \n",
    "        'width': 2,\n",
    "    }\n",
    ")\n",
    "\n",
    "plt.show()\n",
    "\n",
    "fig.savefig('line_chart.jpeg', dpi=300)"
   ]
  },
  {
   "cell_type": "markdown",
   "metadata": {},
   "source": [
    "<br/>\n",
    "<br/>\n",
    "<br/>\n",
    "<br/>\n",
    "<br/>\n",
    "<br/>"
   ]
  },
  {
   "cell_type": "markdown",
   "metadata": {},
   "source": [
    "## Using `matplotlib` with `pandas`"
   ]
  },
  {
   "cell_type": "code",
   "execution_count": null,
   "metadata": {},
   "outputs": [],
   "source": [
    "# Read our sample survey data\n",
    "\n",
    "data = pd.read_csv(\n",
    "    'https://edlitera-datasets.s3.amazonaws.com/survey_sample.csv',\n",
    "    parse_dates=['Date']\n",
    ")\n",
    "\n",
    "data.head()"
   ]
  },
  {
   "cell_type": "code",
   "execution_count": null,
   "metadata": {},
   "outputs": [],
   "source": [
    "data.describe()"
   ]
  },
  {
   "cell_type": "code",
   "execution_count": null,
   "metadata": {},
   "outputs": [],
   "source": [
    "filtered_data = data[['Helpfulness', 'Courtesy', 'Empathy']]\n",
    "filtered_data.head()"
   ]
  },
  {
   "cell_type": "code",
   "execution_count": null,
   "metadata": {},
   "outputs": [],
   "source": [
    "# We can count how many responses of each type\n",
    "# we got\n",
    "totals = filtered_data.apply(pd.value_counts)\n",
    "totals"
   ]
  },
  {
   "cell_type": "code",
   "execution_count": null,
   "metadata": {},
   "outputs": [],
   "source": [
    "# We can rotate this dataframe using the T attribute, \n",
    "# which transposes (i.e. rotates) the dataframe\n",
    "\n",
    "rotated_totals = totals.T\n",
    "rotated_totals"
   ]
  },
  {
   "cell_type": "markdown",
   "metadata": {},
   "source": [
    "<br>"
   ]
  },
  {
   "cell_type": "markdown",
   "metadata": {},
   "source": [
    "### Let's plot this data!"
   ]
  },
  {
   "cell_type": "markdown",
   "metadata": {},
   "source": [
    "* DataFrames have support for plotting built-in\n",
    "* underneath they use matplotlib functions\n",
    "* not quite as many options and customizations available as when using `matplotlib` directly"
   ]
  },
  {
   "cell_type": "markdown",
   "metadata": {},
   "source": [
    "<br>"
   ]
  },
  {
   "cell_type": "markdown",
   "metadata": {},
   "source": [
    "Plotting functionality is available via the `PlotAccessor` object:"
   ]
  },
  {
   "cell_type": "code",
   "execution_count": null,
   "metadata": {},
   "outputs": [],
   "source": [
    "rotated_totals.plot"
   ]
  },
  {
   "cell_type": "code",
   "execution_count": null,
   "metadata": {},
   "outputs": [],
   "source": [
    "dir(rotated_totals.plot)"
   ]
  },
  {
   "cell_type": "code",
   "execution_count": null,
   "metadata": {},
   "outputs": [],
   "source": [
    "ax = rotated_totals.plot.bar()\n",
    "\n",
    "ax.set_title('Aggregated Data')"
   ]
  },
  {
   "cell_type": "markdown",
   "metadata": {},
   "source": [
    "<br/>\n",
    "<br/>\n",
    "<br/>\n",
    "<br/>\n",
    "<br/>\n",
    "<br/>"
   ]
  },
  {
   "cell_type": "markdown",
   "metadata": {},
   "source": [
    "## Bar plots"
   ]
  },
  {
   "cell_type": "code",
   "execution_count": null,
   "metadata": {},
   "outputs": [],
   "source": [
    "rotated_totals"
   ]
  },
  {
   "cell_type": "code",
   "execution_count": null,
   "metadata": {},
   "outputs": [],
   "source": [
    "rotated_totals.plot"
   ]
  },
  {
   "cell_type": "code",
   "execution_count": null,
   "metadata": {},
   "outputs": [],
   "source": [
    "rotated_totals.plot.bar()"
   ]
  },
  {
   "cell_type": "code",
   "execution_count": null,
   "metadata": {},
   "outputs": [],
   "source": [
    "rotated_totals.plot.barh()"
   ]
  },
  {
   "cell_type": "markdown",
   "metadata": {},
   "source": [
    "**IMPORTANT: the `DataFrame` plotting functions return the `AxesSubplot` objects where those plots are drawn:**"
   ]
  },
  {
   "cell_type": "code",
   "execution_count": null,
   "metadata": {},
   "outputs": [],
   "source": [
    "type(rotated_totals.plot.barh())"
   ]
  },
  {
   "cell_type": "markdown",
   "metadata": {},
   "source": [
    "<br><Br>"
   ]
  },
  {
   "cell_type": "markdown",
   "metadata": {},
   "source": [
    "### Stack bar plots"
   ]
  },
  {
   "cell_type": "code",
   "execution_count": null,
   "metadata": {},
   "outputs": [],
   "source": [
    "rotated_totals.plot.barh(stacked=True)"
   ]
  },
  {
   "cell_type": "markdown",
   "metadata": {},
   "source": [
    "<br><br>"
   ]
  },
  {
   "cell_type": "markdown",
   "metadata": {},
   "source": [
    "### Change the plot figure size"
   ]
  },
  {
   "cell_type": "code",
   "execution_count": null,
   "metadata": {},
   "outputs": [],
   "source": [
    "# figsize units are in inches...\n",
    "rotated_totals.plot.barh(stacked=True, figsize=(9, 4))"
   ]
  },
  {
   "cell_type": "markdown",
   "metadata": {},
   "source": [
    "<Br><br>"
   ]
  },
  {
   "cell_type": "markdown",
   "metadata": {},
   "source": [
    "### Custom legend"
   ]
  },
  {
   "cell_type": "markdown",
   "metadata": {},
   "source": [
    "**IMPORTANT: the `DataFrame` plotting functions return the `AxesSubplot` objects where those plots are drawn:**"
   ]
  },
  {
   "cell_type": "code",
   "execution_count": null,
   "metadata": {},
   "outputs": [],
   "source": [
    "type(rotated_totals.plot.barh(stacked=True, figsize=(9, 4)))"
   ]
  },
  {
   "cell_type": "markdown",
   "metadata": {},
   "source": [
    "<br>"
   ]
  },
  {
   "cell_type": "markdown",
   "metadata": {},
   "source": [
    "#### We saw earlier how we can use the `legend()` method of the `AxesSubplot` object"
   ]
  },
  {
   "cell_type": "code",
   "execution_count": null,
   "metadata": {},
   "outputs": [],
   "source": [
    "rotated_totals.plot.barh(\n",
    "    stacked=True, \n",
    "    figsize=(9, 6)\n",
    ").legend(\n",
    "    ['Unfavorable', 'Neutral', 'Favorable'], \n",
    "    bbox_to_anchor=(1.0, 0.5)\n",
    ")"
   ]
  },
  {
   "cell_type": "markdown",
   "metadata": {},
   "source": [
    "<br><br>"
   ]
  },
  {
   "cell_type": "markdown",
   "metadata": {},
   "source": [
    "### Custom colors"
   ]
  },
  {
   "cell_type": "markdown",
   "metadata": {},
   "source": [
    "**NOTE:** The order of the color `hex` codes should match the order of the bars representing the data."
   ]
  },
  {
   "cell_type": "code",
   "execution_count": null,
   "metadata": {},
   "outputs": [],
   "source": [
    "rotated_totals.plot.barh(\n",
    "    stacked=True, \n",
    "    figsize=(9, 6), \n",
    "    color=['#ff9a8d', '#4a536b', '#aed6dc']\n",
    ").legend(\n",
    "    ['Unfavorable', 'Neutral', 'Favorable'], \n",
    "    bbox_to_anchor=(1.0, 1.0)\n",
    ")"
   ]
  },
  {
   "cell_type": "markdown",
   "metadata": {},
   "source": [
    "<br><br>"
   ]
  },
  {
   "cell_type": "markdown",
   "metadata": {},
   "source": [
    "### Specify the `x-ticks` values"
   ]
  },
  {
   "cell_type": "code",
   "execution_count": null,
   "metadata": {},
   "outputs": [],
   "source": [
    "rotated_totals"
   ]
  },
  {
   "cell_type": "code",
   "execution_count": null,
   "metadata": {
    "scrolled": false
   },
   "outputs": [],
   "source": [
    "# And we can specify which ticks we want, say on X axis\n",
    "\n",
    "rotated_totals.plot.barh(\n",
    "    stacked=True, \n",
    "    figsize=(9, 6), \n",
    "    color=['#ff9a8d', '#4a536b', '#aed6dc'], \n",
    "    xticks=[0, 333, 250, 500, 750, 1000]\n",
    ").legend(\n",
    "    ['Unfavorable', 'Favorable', 'Neutral'], \n",
    "    bbox_to_anchor=(1.0, 1.0)\n",
    ")"
   ]
  },
  {
   "cell_type": "markdown",
   "metadata": {},
   "source": [
    "**More info:** https://pandas.pydata.org/docs/reference/api/pandas.DataFrame.plot.barh.html"
   ]
  },
  {
   "cell_type": "markdown",
   "metadata": {},
   "source": [
    "<br><br>"
   ]
  },
  {
   "cell_type": "markdown",
   "metadata": {},
   "source": [
    "### Save the figure to a file"
   ]
  },
  {
   "cell_type": "code",
   "execution_count": null,
   "metadata": {},
   "outputs": [],
   "source": [
    "ax = rotated_totals.plot.barh(\n",
    "    stacked=True, \n",
    "    figsize=(9, 6), \n",
    "    color=['#ff9a8d', '#4a536b', '#aed6dc'], \n",
    "    xticks=[0, 333, 250, 500, 750, 1000]\n",
    ").legend(\n",
    "    ['Unfavorable', 'Favorable', 'Neutral'], \n",
    "    bbox_to_anchor=(1.0, 1.0)\n",
    ")\n",
    "\n",
    "# Get the matplotlib Figure object \n",
    "# that contains the AxesSubplot object\n",
    "fig = ax.get_figure()\n",
    "\n",
    "# And call the savefig method on that\n",
    "# object\n",
    "fig.savefig('bar_chart.jpeg', dpi=300)"
   ]
  },
  {
   "cell_type": "markdown",
   "metadata": {},
   "source": [
    "<br><br><br><br><br><br>"
   ]
  },
  {
   "cell_type": "markdown",
   "metadata": {},
   "source": [
    "## Line plots"
   ]
  },
  {
   "cell_type": "code",
   "execution_count": null,
   "metadata": {},
   "outputs": [],
   "source": [
    "data = pd.read_csv(\n",
    "    'https://edlitera-datasets.s3.amazonaws.com/timeseries_survey_sample.csv', \n",
    "    index_col=['Date'], \n",
    "    parse_dates=['Date']\n",
    ")\n",
    "\n",
    "data.head()"
   ]
  },
  {
   "cell_type": "code",
   "execution_count": null,
   "metadata": {},
   "outputs": [],
   "source": [
    "data.info()"
   ]
  },
  {
   "cell_type": "markdown",
   "metadata": {},
   "source": [
    "Let's plot the values read by `Sensor A` in `Budapest`."
   ]
  },
  {
   "cell_type": "code",
   "execution_count": null,
   "metadata": {},
   "outputs": [],
   "source": [
    "budapest_data = data.loc[\n",
    "    data['Location'] == 'Budapest', \n",
    "    ['Sensor A']]"
   ]
  },
  {
   "cell_type": "markdown",
   "metadata": {},
   "source": [
    "**REMEMBER!** With `DatetimeIndex`, it's good to sort the index, unless you're 100% sure it's sorted."
   ]
  },
  {
   "cell_type": "code",
   "execution_count": null,
   "metadata": {},
   "outputs": [],
   "source": [
    "budapest_data.sort_index(inplace=True)\n",
    "budapest_data.head()"
   ]
  },
  {
   "cell_type": "markdown",
   "metadata": {},
   "source": [
    "<br><Br>"
   ]
  },
  {
   "cell_type": "markdown",
   "metadata": {},
   "source": [
    "### Draw the plot using only `matplotlib`"
   ]
  },
  {
   "cell_type": "code",
   "execution_count": null,
   "metadata": {},
   "outputs": [],
   "source": [
    "fig, ax = plt.subplots()\n",
    "\n",
    "fig.set_size_inches(16.5, 6)\n",
    "\n",
    "ax.plot(\n",
    "    budapest_data.index, \n",
    "    budapest_data['Sensor A'], \n",
    "    color='#aed6dc',\n",
    "    linewidth=2\n",
    ")\n",
    "\n",
    "ax.set_title('Budapest, Sensor A')\n",
    "\n",
    "plt.show()"
   ]
  },
  {
   "cell_type": "markdown",
   "metadata": {},
   "source": [
    "<br><br>"
   ]
  },
  {
   "cell_type": "markdown",
   "metadata": {},
   "source": [
    "### Draw the plot using `pandas` methods"
   ]
  },
  {
   "cell_type": "code",
   "execution_count": null,
   "metadata": {},
   "outputs": [],
   "source": [
    "budapest_data.plot.line(title='Budapest, Sensor A')"
   ]
  },
  {
   "cell_type": "markdown",
   "metadata": {},
   "source": [
    "### Change the plot figure size"
   ]
  },
  {
   "cell_type": "code",
   "execution_count": null,
   "metadata": {},
   "outputs": [],
   "source": [
    "budapest_data.plot.line(figsize=(9, 3))"
   ]
  },
  {
   "cell_type": "markdown",
   "metadata": {},
   "source": [
    "### Set a title for the plot"
   ]
  },
  {
   "cell_type": "code",
   "execution_count": null,
   "metadata": {},
   "outputs": [],
   "source": [
    "budapest_data.plot.line(\n",
    "    figsize=(9, 3), \n",
    "    title='Budapest: Sensor A'\n",
    ")"
   ]
  },
  {
   "cell_type": "markdown",
   "metadata": {},
   "source": [
    "### Hide the legend"
   ]
  },
  {
   "cell_type": "code",
   "execution_count": null,
   "metadata": {},
   "outputs": [],
   "source": [
    "ax = budapest_data.plot.line(\n",
    "    figsize=(9, 3), \n",
    "    title='Budapest: Sensor A', \n",
    "    legend=False, \n",
    "    rot=45\n",
    ")\n",
    "\n",
    "ax.set_ylabel('Sensor A')"
   ]
  },
  {
   "cell_type": "markdown",
   "metadata": {},
   "source": [
    "<br><br><br><br><br><br>"
   ]
  },
  {
   "cell_type": "markdown",
   "metadata": {},
   "source": [
    "## Plot more than one variable in the same line plot"
   ]
  },
  {
   "cell_type": "code",
   "execution_count": null,
   "metadata": {},
   "outputs": [],
   "source": [
    "budapest_data = data.loc[\n",
    "    data['Location'] == 'Budapest', \n",
    "    ['Sensor A', 'Sensor B']]\n",
    "\n",
    "budapest_data.head()"
   ]
  },
  {
   "cell_type": "code",
   "execution_count": null,
   "metadata": {},
   "outputs": [],
   "source": [
    "budapest_data.plot.line(figsize=(9, 3))"
   ]
  },
  {
   "cell_type": "markdown",
   "metadata": {},
   "source": [
    "**Let's focus on a subset of the data:**"
   ]
  },
  {
   "cell_type": "code",
   "execution_count": null,
   "metadata": {},
   "outputs": [],
   "source": [
    "bd_data = budapest_data['2014':'2015']\n",
    "bd_data.plot.line(figsize=(9, 3), title='Budapest')"
   ]
  },
  {
   "cell_type": "markdown",
   "metadata": {},
   "source": [
    "<br>"
   ]
  },
  {
   "cell_type": "markdown",
   "metadata": {},
   "source": [
    "### Plot each variable in a subplot (`pandas` way)"
   ]
  },
  {
   "cell_type": "code",
   "execution_count": null,
   "metadata": {},
   "outputs": [],
   "source": [
    "bd_data.plot.line(\n",
    "    figsize=(9, 6),\n",
    "    subplots=True,\n",
    "    sharex=True\n",
    ")"
   ]
  },
  {
   "cell_type": "markdown",
   "metadata": {},
   "source": [
    "<br>"
   ]
  },
  {
   "cell_type": "markdown",
   "metadata": {},
   "source": [
    "### Plot each variable in a subplot (`matplotlib` way)"
   ]
  },
  {
   "cell_type": "code",
   "execution_count": null,
   "metadata": {},
   "outputs": [],
   "source": [
    "fig, axes = plt.subplots(\n",
    "    nrows=len(bd_data.columns), \n",
    "    sharex=True\n",
    ")\n",
    "\n",
    "colors = ['#ff9a8d', '#aed6dc']\n",
    "\n",
    "fig.set_size_inches(16.5, 6)\n",
    "\n",
    "for idx, column in enumerate(bd_data.columns):\n",
    "    axes[idx].plot(\n",
    "        bd_data.index, \n",
    "        bd_data[column],\n",
    "        color=colors[idx],\n",
    "        label=column\n",
    "    )\n",
    "\n",
    "    axes[idx].legend()\n",
    "\n",
    "plt.show()"
   ]
  },
  {
   "cell_type": "markdown",
   "metadata": {},
   "source": [
    "<br><br><br><br><br><br>"
   ]
  },
  {
   "cell_type": "markdown",
   "metadata": {},
   "source": [
    "## `pandas` line plots customizations"
   ]
  },
  {
   "cell_type": "markdown",
   "metadata": {},
   "source": [
    "### Emphasize data points with custom markers"
   ]
  },
  {
   "cell_type": "code",
   "execution_count": null,
   "metadata": {},
   "outputs": [],
   "source": [
    "bd_data.plot.line(figsize=(9, 3), marker='o')"
   ]
  },
  {
   "cell_type": "markdown",
   "metadata": {},
   "source": [
    "### Set custom limits on the axes"
   ]
  },
  {
   "cell_type": "code",
   "execution_count": null,
   "metadata": {},
   "outputs": [],
   "source": [
    "ax = bd_data.plot.line(figsize=(9,3), marker='o')\n",
    "ax.set_ylim(bottom=0.0, top=3.5)"
   ]
  },
  {
   "cell_type": "markdown",
   "metadata": {},
   "source": [
    "### Add annotations"
   ]
  },
  {
   "cell_type": "code",
   "execution_count": null,
   "metadata": {},
   "outputs": [],
   "source": [
    "ax = bd_data.plot.line(figsize=(9,3), marker='o')\n",
    "\n",
    "# Let's get the minimum value for Sensor B\n",
    "min_row = (\n",
    "    bd_data['Sensor B']\n",
    "    .sort_values(ascending=True)\n",
    ")\n",
    "\n",
    "min_val = min_row.iloc[0]\n",
    "min_date = min_row.index[0]\n",
    "\n",
    "ax.text(\n",
    "    min_date, \n",
    "    min_val, \n",
    "    'low point', \n",
    "    fontsize=12\n",
    ")\n",
    "\n",
    "plt.show()"
   ]
  },
  {
   "cell_type": "markdown",
   "metadata": {},
   "source": [
    "<br/>\n",
    "<br/>\n",
    "<br/>\n",
    "<br/>\n",
    "<br/>\n",
    "<br/>"
   ]
  },
  {
   "cell_type": "markdown",
   "metadata": {},
   "source": [
    "## Scatter plots"
   ]
  },
  {
   "cell_type": "code",
   "execution_count": null,
   "metadata": {
    "scrolled": true
   },
   "outputs": [],
   "source": [
    "bd_data.head()"
   ]
  },
  {
   "cell_type": "code",
   "execution_count": null,
   "metadata": {},
   "outputs": [],
   "source": [
    "bd_data.plot.scatter(\n",
    "    x='Sensor A', \n",
    "    y='Sensor B', \n",
    "    c='#ff9a8d'\n",
    ")"
   ]
  },
  {
   "cell_type": "code",
   "execution_count": null,
   "metadata": {},
   "outputs": [],
   "source": [
    "data.head()"
   ]
  },
  {
   "cell_type": "code",
   "execution_count": null,
   "metadata": {},
   "outputs": [],
   "source": [
    "dv_data = data.loc[data['Location'] == 'Dubrovnik']\n",
    "dv_data = dv_data['2014':'2015']\n",
    "dv_data.head()"
   ]
  },
  {
   "cell_type": "code",
   "execution_count": null,
   "metadata": {},
   "outputs": [],
   "source": [
    "dv_data.plot.scatter(\n",
    "    x='Sensor A', \n",
    "    y='Sensor B', \n",
    "    c='#4a536b'\n",
    ")"
   ]
  },
  {
   "cell_type": "markdown",
   "metadata": {},
   "source": [
    "<br>"
   ]
  },
  {
   "cell_type": "markdown",
   "metadata": {},
   "source": [
    "### How can we show multiple scatter plots in the same axes?"
   ]
  },
  {
   "cell_type": "code",
   "execution_count": null,
   "metadata": {},
   "outputs": [],
   "source": [
    "p_data = data[data['Location'] == 'Prague']['2014':'2015']\n",
    "p_data.head()"
   ]
  },
  {
   "cell_type": "code",
   "execution_count": null,
   "metadata": {},
   "outputs": [],
   "source": [
    "ax = bd_data.plot.scatter(\n",
    "    x='Sensor A', \n",
    "    y='Sensor B', \n",
    "    c='#ff9a8d', \n",
    "    label='Budapest'\n",
    ")\n",
    "\n",
    "dv_data.plot.scatter(\n",
    "    x='Sensor A', \n",
    "    y='Sensor B', \n",
    "    c='#4a536b', \n",
    "    ax=ax, \n",
    "    label='Dubrovnik'\n",
    ")\n",
    "\n",
    "p_data.plot.scatter(\n",
    "    x='Sensor A', \n",
    "    y='Sensor B', \n",
    "    c='#aed6dc', \n",
    "    ax=ax,\n",
    "    label='Prague'\n",
    ")\n",
    "\n",
    "ax.legend(bbox_to_anchor=(1.0, 1.0))"
   ]
  },
  {
   "cell_type": "markdown",
   "metadata": {},
   "source": [
    "<br><br>"
   ]
  },
  {
   "cell_type": "markdown",
   "metadata": {},
   "source": [
    "### Creating scatter plots using `matplotlib`"
   ]
  },
  {
   "cell_type": "code",
   "execution_count": null,
   "metadata": {},
   "outputs": [],
   "source": [
    "data = pd.read_csv(\n",
    "    'https://edlitera-datasets.s3.amazonaws.com/housing.csv'\n",
    ")\n",
    "\n",
    "data.head()"
   ]
  },
  {
   "cell_type": "code",
   "execution_count": null,
   "metadata": {},
   "outputs": [],
   "source": [
    "fig, ax = plt.subplots()\n",
    "\n",
    "fig.set_size_inches(20, 18)\n",
    "\n",
    "ax.scatter(\n",
    "    x=data['longitude'],\n",
    "    y=data['latitude'],\n",
    "    s=data['population'] / 50,\n",
    "    alpha=0.1, \n",
    "    c=data['median_house_value'],\n",
    "    cmap=plt.get_cmap('jet')\n",
    ")\n",
    "\n",
    "plt.show()"
   ]
  },
  {
   "cell_type": "markdown",
   "metadata": {},
   "source": [
    "<br>"
   ]
  },
  {
   "cell_type": "markdown",
   "metadata": {},
   "source": [
    "#### BTW, the customization options above are also available for the `pandas` scatter plots:"
   ]
  },
  {
   "cell_type": "code",
   "execution_count": null,
   "metadata": {},
   "outputs": [],
   "source": [
    "data.plot.scatter(\n",
    "    x='longitude', \n",
    "    y='latitude', \n",
    "    s=data['population'] / 50,\n",
    "    alpha=0.1, \n",
    "    c='median_house_value',\n",
    "    colormap=plt.get_cmap('jet'),\n",
    "    figsize=(20, 18)\n",
    ")"
   ]
  },
  {
   "cell_type": "markdown",
   "metadata": {},
   "source": [
    "<br/>\n",
    "<br/>\n",
    "<br/>\n",
    "<br/>\n",
    "<br/>\n",
    "<br/>"
   ]
  },
  {
   "cell_type": "markdown",
   "metadata": {},
   "source": [
    "## Histograms"
   ]
  },
  {
   "cell_type": "code",
   "execution_count": null,
   "metadata": {},
   "outputs": [],
   "source": [
    "data = pd.read_csv(\n",
    "    'https://edlitera-datasets.s3.amazonaws.com/titanic.csv'\n",
    ")\n",
    "\n",
    "data.head()"
   ]
  },
  {
   "cell_type": "markdown",
   "metadata": {},
   "source": [
    "<br>"
   ]
  },
  {
   "cell_type": "markdown",
   "metadata": {},
   "source": [
    "`Fare` stores the price that each passenger paid for their ticket"
   ]
  },
  {
   "cell_type": "code",
   "execution_count": null,
   "metadata": {},
   "outputs": [],
   "source": [
    "data.plot.hist()"
   ]
  },
  {
   "cell_type": "code",
   "execution_count": null,
   "metadata": {},
   "outputs": [],
   "source": [
    "data['Fare'].plot.hist(bins=5)"
   ]
  },
  {
   "cell_type": "markdown",
   "metadata": {},
   "source": [
    "**More info:** https://pandas.pydata.org/docs/reference/api/pandas.DataFrame.plot.hist.html"
   ]
  },
  {
   "cell_type": "markdown",
   "metadata": {},
   "source": [
    "<br/>\n",
    "<br/>\n",
    "<br/>\n",
    "<br/>\n",
    "<br/>\n",
    "<br/>"
   ]
  },
  {
   "cell_type": "markdown",
   "metadata": {},
   "source": [
    "## Visualizing time series"
   ]
  },
  {
   "cell_type": "code",
   "execution_count": null,
   "metadata": {},
   "outputs": [],
   "source": [
    "# The file in data/QCOM.csv contains stock price information for \n",
    "# Qualcomm between 1999 and 2022\n",
    "\n",
    "qc = pd.read_csv(\n",
    "    'https://edlitera-datasets.s3.amazonaws.com/QCOM.csv', \n",
    "    index_col='Date', \n",
    "    parse_dates=['Date']\n",
    ")\n",
    "\n",
    "qc.sort_index(inplace=True)\n",
    "\n",
    "qc.head()"
   ]
  },
  {
   "cell_type": "code",
   "execution_count": null,
   "metadata": {},
   "outputs": [],
   "source": [
    "qc.plot.line()"
   ]
  },
  {
   "cell_type": "code",
   "execution_count": null,
   "metadata": {},
   "outputs": [],
   "source": [
    "# Let's look at the closing stock price\n",
    "qc_close = qc['Close']\n",
    "qc_close.plot.line(figsize=(9, 4))"
   ]
  },
  {
   "cell_type": "code",
   "execution_count": null,
   "metadata": {},
   "outputs": [],
   "source": [
    "qc_close.loc['2018':'2022']"
   ]
  },
  {
   "cell_type": "code",
   "execution_count": null,
   "metadata": {},
   "outputs": [],
   "source": [
    "# We can zoom in on a period\n",
    "qc_close.loc['2018':'2022'].plot.line(figsize=(9, 4))"
   ]
  },
  {
   "cell_type": "markdown",
   "metadata": {},
   "source": [
    "### Resample"
   ]
  },
  {
   "cell_type": "code",
   "execution_count": null,
   "metadata": {},
   "outputs": [],
   "source": [
    "# Let's look at the rolling mean over 2018, \n",
    "# with a rolling window of 14 days\n",
    "\n",
    "(\n",
    "    qc_close['2018':'2022']\n",
    "    .rolling('14D')\n",
    "    .mean()\n",
    "    .plot\n",
    "    .line(figsize=(9, 4))\n",
    ")"
   ]
  },
  {
   "cell_type": "markdown",
   "metadata": {},
   "source": [
    "<br/>\n",
    "<br/>\n",
    "<br/>\n",
    "<br/>\n",
    "<br/>\n",
    "<br/>"
   ]
  },
  {
   "cell_type": "markdown",
   "metadata": {},
   "source": [
    "<br/>\n",
    "<br/>\n",
    "<br/>\n",
    "<br/>\n",
    "<br/>\n",
    "<br/>"
   ]
  },
  {
   "cell_type": "markdown",
   "metadata": {},
   "source": [
    "## Save `pandas` plots to file"
   ]
  },
  {
   "cell_type": "code",
   "execution_count": null,
   "metadata": {},
   "outputs": [],
   "source": [
    "data = pd.read_csv(\n",
    "    'https://edlitera-datasets.s3.amazonaws.com/housing.csv'\n",
    ")"
   ]
  },
  {
   "cell_type": "code",
   "execution_count": null,
   "metadata": {},
   "outputs": [],
   "source": [
    "ax = data.plot.scatter(\n",
    "    x='longitude', \n",
    "    y='latitude', \n",
    "    s=data['population'] / 50,\n",
    "    alpha=0.1, \n",
    "    c='median_house_value',\n",
    "    colormap=plt.get_cmap('jet'),\n",
    "    figsize=(18, 18), \n",
    "    title='California housing prices'\n",
    ")"
   ]
  },
  {
   "cell_type": "code",
   "execution_count": null,
   "metadata": {},
   "outputs": [],
   "source": [
    "dir(ax)"
   ]
  },
  {
   "cell_type": "code",
   "execution_count": null,
   "metadata": {},
   "outputs": [],
   "source": [
    "fig = ax.get_figure()\n",
    "\n",
    "fig.savefig('housing.jpeg', dpi=300)"
   ]
  },
  {
   "cell_type": "markdown",
   "metadata": {},
   "source": [
    "<br/>\n",
    "<br/>\n",
    "<br/>\n",
    "<br/>\n",
    "<br/>\n",
    "<br/>"
   ]
  }
 ],
 "metadata": {
  "kernelspec": {
   "display_name": "data_processing_environment",
   "language": "python",
   "name": "data_processing_environment"
  },
  "language_info": {
   "codemirror_mode": {
    "name": "ipython",
    "version": 3
   },
   "file_extension": ".py",
   "mimetype": "text/x-python",
   "name": "python",
   "nbconvert_exporter": "python",
   "pygments_lexer": "ipython3",
   "version": "3.9.18"
  }
 },
 "nbformat": 4,
 "nbformat_minor": 2
}
