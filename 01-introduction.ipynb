{
 "cells": [
  {
   "cell_type": "markdown",
   "metadata": {},
   "source": [
    "<div>\n",
    "<img src=\"https://edlitera-images.s3.us-east-1.amazonaws.com/new_edlitera_logo.png\" width=\"400\"/>\n",
    "</div>"
   ]
  },
  {
   "cell_type": "markdown",
   "metadata": {},
   "source": [
    "<br><br><br>"
   ]
  },
  {
   "cell_type": "markdown",
   "metadata": {},
   "source": [
    "<h1><center>Data Processing with Python</center></h1>"
   ]
  },
  {
   "cell_type": "markdown",
   "metadata": {},
   "source": [
    "<br/> \n",
    "<br/> \n",
    "<br/> \n",
    "<br/> \n",
    "<br/> \n",
    "<br/> \n",
    "<br/> \n",
    "<br/> \n",
    "<br/> \n",
    "<br/> \n",
    "<br/> \n",
    "<br/> "
   ]
  },
  {
   "cell_type": "markdown",
   "metadata": {},
   "source": [
    "# __About me__"
   ]
  },
  {
   "cell_type": "markdown",
   "metadata": {},
   "source": [
    "I'm **Boris Delovski** (hi!)\n",
    "\n",
    "- trainer and consultant at Edlitera\n",
    "- I specialize in data processing and machine learning \n",
    "- especially passionate about Computer Vision and generative AI"
   ]
  },
  {
   "cell_type": "markdown",
   "metadata": {},
   "source": [
    "You can contact me at boris@edlitera.com."
   ]
  },
  {
   "cell_type": "markdown",
   "metadata": {},
   "source": [
    "<br/> \n",
    "<br/> \n",
    "<br/> \n",
    "<br/> \n",
    "<br/> \n",
    "<br/> \n",
    "<br/> \n",
    "<br/> \n",
    "<br/> \n",
    "<br/> \n",
    "<br/> \n",
    "<br/> "
   ]
  },
  {
   "cell_type": "markdown",
   "metadata": {},
   "source": [
    "# About Edlitera\n",
    "\n",
    "- Hands-on, in-depth courses on the latest programming, data science, machine learning and data engineering topics.\n",
    "<br><br>\n",
    "- Some of the other Edlitera courses available:\n",
    "    - Introduction to Deep Learning\n",
    "    - Deep Learning for Computer Vision\n",
    "    - Classic Machine Learning using Python\n",
    "    - Natural Language Processing using Python\n",
    "    - Introduction to Python\n",
    "    - Intermediate Python\n",
    "    - Advanced Python\n",
    "    - A Whirlwind Tour of Apache Spark\n",
    "    - Data Engineering with AWS and Apache Spark\n",
    "<br><br>    \n",
    "- Get in touch: contact@edlitera.com \n",
    "<br><br>\n",
    "- Web page: https://www.edlitera.com\n",
    "<br><br>\n",
    "- Blog: https://www.edlitera.com/blog"
   ]
  },
  {
   "cell_type": "markdown",
   "metadata": {},
   "source": [
    "<br/> \n",
    "<br/> \n",
    "<br/> \n",
    "<br/> \n",
    "<br/> \n",
    "<br/> \n",
    "<br/> \n",
    "<br/> \n",
    "<br/> \n",
    "<br/> \n",
    "<br/> \n",
    "<br/> "
   ]
  },
  {
   "cell_type": "markdown",
   "metadata": {},
   "source": [
    "# Suggestions"
   ]
  },
  {
   "cell_type": "markdown",
   "metadata": {},
   "source": [
    "* follow along in your notebooks"
   ]
  },
  {
   "cell_type": "markdown",
   "metadata": {},
   "source": [
    "* do the exercises"
   ]
  },
  {
   "cell_type": "markdown",
   "metadata": {},
   "source": [
    "* don't worry about memorizing functions and utilities"
   ]
  },
  {
   "cell_type": "markdown",
   "metadata": {},
   "source": [
    "<br/> \n",
    "<br/> \n",
    "<br/> \n",
    "<br/> \n",
    "<br/> \n",
    "<br/> \n",
    "<br/> \n",
    "<br/> \n",
    "<br/> \n",
    "<br/> \n",
    "<br/> \n",
    "<br/> "
   ]
  },
  {
   "cell_type": "markdown",
   "metadata": {},
   "source": [
    "# Goals"
   ]
  },
  {
   "cell_type": "markdown",
   "metadata": {},
   "source": [
    "**NOTE: Python programming experience is required for this class.**"
   ]
  },
  {
   "cell_type": "markdown",
   "metadata": {},
   "source": [
    "* learn how to load and transform data from files (CSVs, Excel files, Text files, etc.)"
   ]
  },
  {
   "cell_type": "markdown",
   "metadata": {},
   "source": [
    "* learn how to visualize data"
   ]
  },
  {
   "cell_type": "markdown",
   "metadata": {},
   "source": [
    "* learn how to write scripts to automate data processing"
   ]
  },
  {
   "cell_type": "markdown",
   "metadata": {},
   "source": [
    "* learn how to export and share the result of the data analysis"
   ]
  },
  {
   "cell_type": "markdown",
   "metadata": {},
   "source": [
    "* get lots of practice writing code"
   ]
  },
  {
   "cell_type": "markdown",
   "metadata": {},
   "source": [
    "* have some fun?  `¯\\_(ツ)_/¯`"
   ]
  },
  {
   "cell_type": "markdown",
   "metadata": {},
   "source": [
    "<br/> \n",
    "<br/> \n",
    "<br/> \n",
    "<br/> \n",
    "<br/> \n",
    "<br/> \n",
    "<br/> \n",
    "<br/> \n",
    "<br/> \n",
    "<br/> \n",
    "<br/> \n",
    "<br/> "
   ]
  },
  {
   "cell_type": "markdown",
   "metadata": {},
   "source": [
    "# Non Goals & Caveats"
   ]
  },
  {
   "cell_type": "markdown",
   "metadata": {},
   "source": [
    "* **this is not a machine learning or deep learning class**"
   ]
  },
  {
   "cell_type": "markdown",
   "metadata": {},
   "source": [
    "* **this is not a math class either!**\n",
    "  * no math will be required, though some knowledge of statistics may be useful for analysis"
   ]
  },
  {
   "cell_type": "markdown",
   "metadata": {},
   "source": [
    "* techniques shown here should scale for up to 100GB files on a single machine\n",
    "  * beyond this file size, you're probably in the 'big data' land - use `Apache Spark` or similar"
   ]
  },
  {
   "cell_type": "markdown",
   "metadata": {},
   "source": [
    "* we won't make everyone into an expert\n",
    "  * this will take time and individual practice"
   ]
  },
  {
   "cell_type": "markdown",
   "metadata": {},
   "source": [
    "<br/> \n",
    "<br/> \n",
    "<br/> \n",
    "<br/> \n",
    "<br/> \n",
    "<br/> \n",
    "<br/> \n",
    "<br/> \n",
    "<br/> \n",
    "<br/> \n",
    "<br/> \n",
    "<br/> "
   ]
  }
 ],
 "metadata": {
  "kernelspec": {
   "display_name": "data_processing_environment",
   "language": "python",
   "name": "data_processing_environment"
  },
  "language_info": {
   "codemirror_mode": {
    "name": "ipython",
    "version": 3
   },
   "file_extension": ".py",
   "mimetype": "text/x-python",
   "name": "python",
   "nbconvert_exporter": "python",
   "pygments_lexer": "ipython3",
   "version": "3.9.18"
  }
 },
 "nbformat": 4,
 "nbformat_minor": 2
}
