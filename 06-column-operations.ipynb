{
 "cells": [
  {
   "cell_type": "markdown",
   "id": "8ab3fb8f",
   "metadata": {},
   "source": [
    "<div>\n",
    "<img src=\"https://edlitera-images.s3.us-east-1.amazonaws.com/new_edlitera_logo.png\" width=\"500\"/>\n",
    "</div>"
   ]
  },
  {
   "cell_type": "markdown",
   "id": "b9b18417",
   "metadata": {},
   "source": [
    "<br/>\n",
    "<br/>\n",
    "<br/>\n",
    "<br/>\n",
    "<br/>\n",
    "<br/>\n",
    "<br/>\n",
    "<br/>"
   ]
  },
  {
   "cell_type": "code",
   "execution_count": null,
   "id": "8b490bfb",
   "metadata": {},
   "outputs": [],
   "source": [
    "import pandas as pd\n",
    "import numpy as np\n",
    "import datetime\n",
    "\n",
    "pd.options.display.float_format = '{:,.2f}'.format"
   ]
  },
  {
   "cell_type": "markdown",
   "id": "32db0279",
   "metadata": {},
   "source": [
    "<br/>\n",
    "<br/>\n",
    "<br/>\n",
    "<br/>\n",
    "<br/>\n",
    "<br/>\n",
    "<br/>\n",
    "<br/>"
   ]
  },
  {
   "cell_type": "markdown",
   "id": "ec5673f5",
   "metadata": {},
   "source": [
    "## Add a new column to a DataFrame"
   ]
  },
  {
   "cell_type": "code",
   "execution_count": null,
   "id": "133743bc",
   "metadata": {},
   "outputs": [],
   "source": [
    "countries = pd.DataFrame({\n",
    "    'Country': ['Andorra', 'Belgium', 'Croatia']\n",
    "})"
   ]
  },
  {
   "cell_type": "code",
   "execution_count": null,
   "id": "cf032e0f",
   "metadata": {},
   "outputs": [],
   "source": [
    "countries"
   ]
  },
  {
   "cell_type": "code",
   "execution_count": null,
   "id": "eb6f1555",
   "metadata": {},
   "outputs": [],
   "source": [
    "countries['GDP'] = 0\n",
    "\n",
    "countries"
   ]
  },
  {
   "cell_type": "code",
   "execution_count": null,
   "id": "9bfdfeab",
   "metadata": {},
   "outputs": [],
   "source": [
    "countries['GDP']"
   ]
  },
  {
   "cell_type": "code",
   "execution_count": null,
   "id": "bc6394c9",
   "metadata": {},
   "outputs": [],
   "source": [
    "countries['GDP'].dtype"
   ]
  },
  {
   "cell_type": "code",
   "execution_count": null,
   "id": "6a00d2fa",
   "metadata": {},
   "outputs": [],
   "source": [
    "countries.info()"
   ]
  },
  {
   "cell_type": "code",
   "execution_count": null,
   "id": "0013b2f3",
   "metadata": {},
   "outputs": [],
   "source": [
    "gdp = pd.Series([10, 20, 30], index=[1, 2, 3])\n",
    "\n",
    "gdp"
   ]
  },
  {
   "cell_type": "code",
   "execution_count": null,
   "id": "7c834c8e",
   "metadata": {},
   "outputs": [],
   "source": [
    "countries['GDP'] = gdp"
   ]
  },
  {
   "cell_type": "code",
   "execution_count": null,
   "id": "f0a1ef63",
   "metadata": {},
   "outputs": [],
   "source": [
    "countries"
   ]
  },
  {
   "cell_type": "code",
   "execution_count": null,
   "id": "68610c24",
   "metadata": {},
   "outputs": [],
   "source": [
    "countries.dtypes"
   ]
  },
  {
   "cell_type": "code",
   "execution_count": null,
   "id": "d6c5f8fc",
   "metadata": {},
   "outputs": [],
   "source": [
    "countries.info()"
   ]
  },
  {
   "cell_type": "markdown",
   "id": "8c0c85a7",
   "metadata": {},
   "source": [
    "<br/>\n",
    "<br/>\n",
    "<br/>\n",
    "<br/>\n",
    "<br/>\n",
    "<br/>\n",
    "<br/>\n",
    "<br/>"
   ]
  },
  {
   "cell_type": "markdown",
   "id": "9568ed2c",
   "metadata": {},
   "source": [
    "## Add columns with derived data"
   ]
  },
  {
   "cell_type": "markdown",
   "id": "b95cabba",
   "metadata": {},
   "source": [
    "Let's add a new column, called `Follow Up Date` which represents the date when we should follow up with the customer. It should be 2 weeks after the date of the survey."
   ]
  },
  {
   "cell_type": "code",
   "execution_count": null,
   "id": "b4f5b9a5",
   "metadata": {},
   "outputs": [],
   "source": [
    "data = pd.read_csv(\n",
    "    'https://edlitera-datasets.s3.amazonaws.com/survey_sample.csv', \n",
    "    parse_dates=['Date']\n",
    ")"
   ]
  },
  {
   "cell_type": "code",
   "execution_count": null,
   "id": "69150174",
   "metadata": {
    "scrolled": true
   },
   "outputs": [],
   "source": [
    "data.head()"
   ]
  },
  {
   "cell_type": "code",
   "execution_count": null,
   "id": "a6c8b636",
   "metadata": {},
   "outputs": [],
   "source": [
    "data.info()"
   ]
  },
  {
   "cell_type": "code",
   "execution_count": null,
   "id": "a18cdfd7",
   "metadata": {},
   "outputs": [],
   "source": [
    "import datetime"
   ]
  },
  {
   "cell_type": "code",
   "execution_count": null,
   "id": "7570a44b",
   "metadata": {},
   "outputs": [],
   "source": [
    "datetime.timedelta(weeks=2)"
   ]
  },
  {
   "cell_type": "code",
   "execution_count": null,
   "id": "7f8fa3ba",
   "metadata": {},
   "outputs": [],
   "source": [
    "numbers = pd.Series([1, 2, 3])\n",
    "numbers"
   ]
  },
  {
   "cell_type": "code",
   "execution_count": null,
   "id": "ddbe904c",
   "metadata": {},
   "outputs": [],
   "source": [
    "numbers + 5"
   ]
  },
  {
   "cell_type": "code",
   "execution_count": null,
   "id": "2c8f431c",
   "metadata": {},
   "outputs": [],
   "source": [
    "data['Date']"
   ]
  },
  {
   "cell_type": "code",
   "execution_count": null,
   "id": "57e2853a",
   "metadata": {},
   "outputs": [],
   "source": [
    "data['Date'] + datetime.timedelta(weeks=2)"
   ]
  },
  {
   "cell_type": "code",
   "execution_count": null,
   "id": "27d714ae",
   "metadata": {},
   "outputs": [],
   "source": [
    "data['Follow Up Date'] = data['Date'] + datetime.timedelta(weeks=2)"
   ]
  },
  {
   "cell_type": "code",
   "execution_count": null,
   "id": "99ad1730",
   "metadata": {},
   "outputs": [],
   "source": [
    "data.head()"
   ]
  },
  {
   "cell_type": "code",
   "execution_count": null,
   "id": "d645814a",
   "metadata": {},
   "outputs": [],
   "source": [
    "data.tail()"
   ]
  },
  {
   "cell_type": "code",
   "execution_count": null,
   "id": "05aa315e",
   "metadata": {},
   "outputs": [],
   "source": [
    "data['Score Total'] = data['Helpfulness'] + data['Courtesy'] + data['Empathy']"
   ]
  },
  {
   "cell_type": "code",
   "execution_count": null,
   "id": "0f48ad5b",
   "metadata": {},
   "outputs": [],
   "source": [
    "data.head()"
   ]
  },
  {
   "cell_type": "markdown",
   "id": "4b055a6a",
   "metadata": {},
   "source": [
    "<br/>\n",
    "<br/>\n",
    "<br/>\n",
    "<br/>\n",
    "<br/>\n",
    "<br/>\n",
    "<br/>\n",
    "<br/>"
   ]
  },
  {
   "cell_type": "markdown",
   "id": "4f639a9a",
   "metadata": {},
   "source": [
    "## Exercise"
   ]
  },
  {
   "cell_type": "markdown",
   "id": "e1099ffd",
   "metadata": {},
   "source": [
    "Let's assume that we can calculate a customer's overall experience with a customer representative ID using the following weighted average:\n",
    "\n",
    "`experience = (Helpfulness * 3 + Courtesy * 2 + Empathy) / 6`\n",
    "\n",
    "Write code that will add a column named `Experience` and populate this new column using the formula above. "
   ]
  },
  {
   "cell_type": "markdown",
   "id": "01811682",
   "metadata": {},
   "source": [
    "<br/>\n",
    "<br/>\n",
    "<br/>\n",
    "<br/>\n",
    "<br/>\n",
    "<br/>\n",
    "<br/>\n",
    "<br/>"
   ]
  },
  {
   "cell_type": "markdown",
   "id": "8e5fd83d",
   "metadata": {},
   "source": [
    "**SOLUTION:**"
   ]
  },
  {
   "cell_type": "code",
   "execution_count": null,
   "id": "5a3c5388",
   "metadata": {},
   "outputs": [],
   "source": [
    "data.head()"
   ]
  },
  {
   "cell_type": "code",
   "execution_count": null,
   "id": "2ca23e36",
   "metadata": {},
   "outputs": [],
   "source": [
    "data['Helpfulness'] * 3"
   ]
  },
  {
   "cell_type": "code",
   "execution_count": null,
   "id": "adb79ee4",
   "metadata": {},
   "outputs": [],
   "source": [
    "data['Helpfulness'] * 3 + data['Courtesy'] * 2"
   ]
  },
  {
   "cell_type": "code",
   "execution_count": null,
   "id": "0e1ae401",
   "metadata": {},
   "outputs": [],
   "source": [
    "data['Courtesy'] * 2"
   ]
  },
  {
   "cell_type": "code",
   "execution_count": null,
   "id": "ccf1aae1",
   "metadata": {
    "slideshow": {
     "slide_type": "slide"
    }
   },
   "outputs": [],
   "source": [
    "data['Experience'] = (data['Helpfulness'] * 3 + \n",
    "                      data['Courtesy'] * 2 + \n",
    "                      data['Empathy']) / 6"
   ]
  },
  {
   "cell_type": "code",
   "execution_count": null,
   "id": "85b90e75",
   "metadata": {
    "scrolled": true
   },
   "outputs": [],
   "source": [
    "data.head()"
   ]
  },
  {
   "cell_type": "markdown",
   "id": "967d0f27",
   "metadata": {},
   "source": [
    "<br/>\n",
    "<br/>\n",
    "<br/>\n",
    "<br/>\n",
    "<br/>\n",
    "<br/>\n",
    "<br/>\n",
    "<br/>"
   ]
  },
  {
   "cell_type": "markdown",
   "id": "67d29d8e",
   "metadata": {},
   "source": [
    "## Using the DatetimeProperties object to perform operations on datetime data columns"
   ]
  },
  {
   "cell_type": "markdown",
   "id": "6387b1b2",
   "metadata": {},
   "source": [
    "**NOTE:** By default, dates are always assumed to have a time component. If no time is actually specified, the time is assumed to be `00:00:00`."
   ]
  },
  {
   "cell_type": "code",
   "execution_count": null,
   "id": "8a1c1dd9",
   "metadata": {},
   "outputs": [],
   "source": [
    "data = pd.read_csv(\n",
    "    \"https://edlitera-datasets.s3.amazonaws.com/survey_sample.csv\", \n",
    "    parse_dates=['Date']\n",
    ")\n",
    "\n",
    "data.head()"
   ]
  },
  {
   "cell_type": "code",
   "execution_count": null,
   "id": "7a458e35",
   "metadata": {},
   "outputs": [],
   "source": [
    "data.info()"
   ]
  },
  {
   "cell_type": "code",
   "execution_count": null,
   "id": "6ee4f3b7",
   "metadata": {},
   "outputs": [],
   "source": [
    "data['Date'][0]"
   ]
  },
  {
   "cell_type": "markdown",
   "id": "6fa3de15",
   "metadata": {},
   "source": [
    "<br><br>"
   ]
  },
  {
   "cell_type": "markdown",
   "id": "3b97003a",
   "metadata": {},
   "source": [
    "The code below returns just the date component of a datetime object"
   ]
  },
  {
   "cell_type": "code",
   "execution_count": null,
   "id": "cb52493f",
   "metadata": {},
   "outputs": [],
   "source": [
    "data['Date']"
   ]
  },
  {
   "cell_type": "code",
   "execution_count": null,
   "id": "bce3600b",
   "metadata": {
    "scrolled": false
   },
   "outputs": [],
   "source": [
    "data['Date'].dt"
   ]
  },
  {
   "cell_type": "code",
   "execution_count": null,
   "id": "6a735873",
   "metadata": {},
   "outputs": [],
   "source": [
    "dir(data['Date'].dt)"
   ]
  },
  {
   "cell_type": "code",
   "execution_count": null,
   "id": "17755fc9",
   "metadata": {},
   "outputs": [],
   "source": [
    "data['Date'].dt.month_name()"
   ]
  },
  {
   "cell_type": "code",
   "execution_count": null,
   "id": "9f8b840f",
   "metadata": {},
   "outputs": [],
   "source": [
    "data['Date'] = data['Date'].dt.date "
   ]
  },
  {
   "cell_type": "code",
   "execution_count": null,
   "id": "13bba7c6",
   "metadata": {},
   "outputs": [],
   "source": [
    "data.head()"
   ]
  },
  {
   "cell_type": "code",
   "execution_count": null,
   "id": "c528cefa",
   "metadata": {},
   "outputs": [],
   "source": [
    "data['Date'][0]"
   ]
  },
  {
   "cell_type": "markdown",
   "id": "9aa7f2bf",
   "metadata": {},
   "source": [
    "<br/>\n",
    "<br/>\n",
    "<br/>\n",
    "<br/>\n",
    "<br/>\n",
    "<br/>\n",
    "<br/>\n",
    "<br/>"
   ]
  },
  {
   "cell_type": "markdown",
   "id": "f37f94ba",
   "metadata": {},
   "source": [
    "## String operations on DataFrame columns"
   ]
  },
  {
   "cell_type": "code",
   "execution_count": null,
   "id": "7f9404b3",
   "metadata": {},
   "outputs": [],
   "source": [
    "data = pd.read_csv(\n",
    "    \"https://edlitera-datasets.s3.amazonaws.com/survey_sample.csv\", \n",
    "    parse_dates=['Date']\n",
    ")"
   ]
  },
  {
   "cell_type": "code",
   "execution_count": null,
   "id": "f61a52d6",
   "metadata": {},
   "outputs": [],
   "source": [
    "data.head()"
   ]
  },
  {
   "cell_type": "code",
   "execution_count": null,
   "id": "b602f7f2",
   "metadata": {},
   "outputs": [],
   "source": [
    "data.info()"
   ]
  },
  {
   "cell_type": "code",
   "execution_count": null,
   "id": "811d4ef5",
   "metadata": {},
   "outputs": [],
   "source": [
    "data['Location']"
   ]
  },
  {
   "cell_type": "code",
   "execution_count": null,
   "id": "582965dd",
   "metadata": {},
   "outputs": [],
   "source": [
    "data['Location'].str"
   ]
  },
  {
   "cell_type": "code",
   "execution_count": null,
   "id": "fbf6b2a5",
   "metadata": {},
   "outputs": [],
   "source": [
    "dir(data['Location'].str)"
   ]
  },
  {
   "cell_type": "code",
   "execution_count": null,
   "id": "ab8dc19a",
   "metadata": {},
   "outputs": [],
   "source": [
    "data['Location']"
   ]
  },
  {
   "cell_type": "code",
   "execution_count": null,
   "id": "8f3f7f93",
   "metadata": {},
   "outputs": [],
   "source": [
    "data['Location']"
   ]
  },
  {
   "cell_type": "code",
   "execution_count": null,
   "id": "a64cd259",
   "metadata": {},
   "outputs": [],
   "source": [
    "data['Location'] = data['Location'].str.replace('online', 'web')"
   ]
  },
  {
   "cell_type": "code",
   "execution_count": null,
   "id": "c70755d0",
   "metadata": {},
   "outputs": [],
   "source": [
    "data.head()"
   ]
  },
  {
   "cell_type": "markdown",
   "id": "5f703825",
   "metadata": {},
   "source": [
    "<br/>\n",
    "<br/>\n",
    "<br/>\n",
    "<br/>\n",
    "<br/>\n",
    "<br/>\n",
    "<br/>\n",
    "<br/>"
   ]
  },
  {
   "cell_type": "markdown",
   "id": "e06100df",
   "metadata": {},
   "source": [
    "## Iterate over the list of columns in a DataFrame"
   ]
  },
  {
   "cell_type": "code",
   "execution_count": null,
   "id": "e6b1d970",
   "metadata": {},
   "outputs": [],
   "source": [
    "countries = pd.DataFrame({\n",
    "    'Country': ['Andorra', 'Belgium', 'Croatia'],\n",
    "    'GDP': [3.155, 515.3, 55.97],\n",
    "    'Capital': ['Andorra la Vella', 'Brussels', 'Zagreb']\n",
    "})"
   ]
  },
  {
   "cell_type": "code",
   "execution_count": null,
   "id": "cc30843f",
   "metadata": {},
   "outputs": [],
   "source": [
    "countries"
   ]
  },
  {
   "cell_type": "code",
   "execution_count": null,
   "id": "07e23021",
   "metadata": {},
   "outputs": [],
   "source": [
    "countries.info()"
   ]
  },
  {
   "cell_type": "code",
   "execution_count": null,
   "id": "4f4055d3",
   "metadata": {},
   "outputs": [],
   "source": [
    "countries.columns"
   ]
  },
  {
   "cell_type": "code",
   "execution_count": null,
   "id": "3976efd2",
   "metadata": {},
   "outputs": [],
   "source": [
    "for col in countries.columns:\n",
    "    \n",
    "    print(f'Column {col}')\n",
    "    print(countries[col])\n",
    "    print('---------')"
   ]
  },
  {
   "cell_type": "markdown",
   "id": "5c4cd27e",
   "metadata": {},
   "source": [
    "### Example:"
   ]
  },
  {
   "cell_type": "markdown",
   "id": "9514ab4e",
   "metadata": {},
   "source": [
    "For each column containing text, create a new column that stores the length of the text values."
   ]
  },
  {
   "cell_type": "code",
   "execution_count": null,
   "id": "2c842a53",
   "metadata": {},
   "outputs": [],
   "source": [
    "countries"
   ]
  },
  {
   "cell_type": "code",
   "execution_count": null,
   "id": "c1199018",
   "metadata": {},
   "outputs": [],
   "source": [
    "for col in countries.columns:\n",
    "    \n",
    "    if countries[col].dtype == object:\n",
    "        new_column_name = f\"{col}_length\"\n",
    "        countries[new_column_name] = countries[col].str.len()"
   ]
  },
  {
   "cell_type": "code",
   "execution_count": null,
   "id": "3acb9267",
   "metadata": {},
   "outputs": [],
   "source": [
    "countries"
   ]
  },
  {
   "cell_type": "markdown",
   "id": "29d6a9dc",
   "metadata": {},
   "source": [
    "<br/>\n",
    "<br/>\n",
    "<br/>\n",
    "<br/>\n",
    "<br/>\n",
    "<br/>\n",
    "<br/>\n",
    "<br/>"
   ]
  },
  {
   "cell_type": "markdown",
   "id": "3634d2b7",
   "metadata": {},
   "source": [
    "## Remove (drop) columns from a DataFrame"
   ]
  },
  {
   "cell_type": "markdown",
   "id": "633c87dd",
   "metadata": {},
   "source": [
    "### Option 1"
   ]
  },
  {
   "cell_type": "code",
   "execution_count": null,
   "id": "600393cd",
   "metadata": {},
   "outputs": [],
   "source": [
    "data = pd.read_csv(\n",
    "    \"https://edlitera-datasets.s3.amazonaws.com/survey_sample.csv\", \n",
    "    parse_dates=['Date']\n",
    ")"
   ]
  },
  {
   "cell_type": "code",
   "execution_count": null,
   "id": "32220d9f",
   "metadata": {},
   "outputs": [],
   "source": [
    "data.head()"
   ]
  },
  {
   "cell_type": "code",
   "execution_count": null,
   "id": "84b82f89",
   "metadata": {},
   "outputs": [],
   "source": [
    "data[[\n",
    "    'Customer Id', \n",
    "    'Helpfulness', \n",
    "    'Courtesy', \n",
    "    'Empathy',\n",
    "    'Overall Satisfaction', \n",
    "    'Facilities', \n",
    "    'Date']]"
   ]
  },
  {
   "cell_type": "code",
   "execution_count": null,
   "id": "012ec7eb",
   "metadata": {},
   "outputs": [],
   "source": [
    "data"
   ]
  },
  {
   "cell_type": "code",
   "execution_count": null,
   "id": "29cdea32",
   "metadata": {},
   "outputs": [],
   "source": [
    "id(data)"
   ]
  },
  {
   "cell_type": "code",
   "execution_count": null,
   "id": "ad32c1a0",
   "metadata": {},
   "outputs": [],
   "source": [
    "data = data[[\n",
    "    'Customer Id', \n",
    "    'Helpfulness', \n",
    "    'Courtesy', \n",
    "    'Empathy',\n",
    "    'Overall Satisfaction', \n",
    "    'Facilities', \n",
    "    'Date']]"
   ]
  },
  {
   "cell_type": "code",
   "execution_count": null,
   "id": "4936d49f",
   "metadata": {},
   "outputs": [],
   "source": [
    "data.head()"
   ]
  },
  {
   "cell_type": "code",
   "execution_count": null,
   "id": "955d935c",
   "metadata": {},
   "outputs": [],
   "source": [
    "id(data)"
   ]
  },
  {
   "cell_type": "markdown",
   "id": "361a227d",
   "metadata": {},
   "source": [
    "<br><br>"
   ]
  },
  {
   "cell_type": "markdown",
   "id": "d82a3e82",
   "metadata": {},
   "source": [
    "### Option 2"
   ]
  },
  {
   "cell_type": "code",
   "execution_count": null,
   "id": "ce701b84",
   "metadata": {},
   "outputs": [],
   "source": [
    "data = pd.read_csv(\n",
    "    \"https://edlitera-datasets.s3.amazonaws.com/survey_sample.csv\", \n",
    "    parse_dates=['Date']\n",
    ")"
   ]
  },
  {
   "cell_type": "code",
   "execution_count": null,
   "id": "f19edba6",
   "metadata": {},
   "outputs": [],
   "source": [
    "data.head()"
   ]
  },
  {
   "cell_type": "code",
   "execution_count": null,
   "id": "46ce380e",
   "metadata": {},
   "outputs": [],
   "source": [
    "data.drop(columns=['Location', 'Rep Id'])"
   ]
  },
  {
   "cell_type": "code",
   "execution_count": null,
   "id": "74a292eb",
   "metadata": {
    "scrolled": false
   },
   "outputs": [],
   "source": [
    "data"
   ]
  },
  {
   "cell_type": "code",
   "execution_count": null,
   "id": "023e0ecd",
   "metadata": {},
   "outputs": [],
   "source": [
    "id(data)"
   ]
  },
  {
   "cell_type": "code",
   "execution_count": null,
   "id": "50704ca6",
   "metadata": {},
   "outputs": [],
   "source": [
    "data = data.drop(columns=['Location', 'Rep Id'])"
   ]
  },
  {
   "cell_type": "code",
   "execution_count": null,
   "id": "b128ac5e",
   "metadata": {},
   "outputs": [],
   "source": [
    "data"
   ]
  },
  {
   "cell_type": "code",
   "execution_count": null,
   "id": "f7a89430",
   "metadata": {},
   "outputs": [],
   "source": [
    "id(data)"
   ]
  },
  {
   "cell_type": "markdown",
   "id": "8049e7d2",
   "metadata": {},
   "source": [
    "<br><br>"
   ]
  },
  {
   "cell_type": "markdown",
   "id": "52cc10d5",
   "metadata": {},
   "source": [
    "### Option 3"
   ]
  },
  {
   "cell_type": "code",
   "execution_count": null,
   "id": "1f78c287",
   "metadata": {},
   "outputs": [],
   "source": [
    "data = pd.read_csv(\n",
    "    \"https://edlitera-datasets.s3.amazonaws.com/survey_sample.csv\", \n",
    "    parse_dates=['Date']\n",
    ")"
   ]
  },
  {
   "cell_type": "code",
   "execution_count": null,
   "id": "5857de87",
   "metadata": {},
   "outputs": [],
   "source": [
    "data.head()"
   ]
  },
  {
   "cell_type": "code",
   "execution_count": null,
   "id": "29e6fee7",
   "metadata": {},
   "outputs": [],
   "source": [
    "id(data)"
   ]
  },
  {
   "cell_type": "code",
   "execution_count": null,
   "id": "fcab3615",
   "metadata": {},
   "outputs": [],
   "source": [
    "data.drop(columns=['Location', 'Rep Id'], inplace=True)"
   ]
  },
  {
   "cell_type": "code",
   "execution_count": null,
   "id": "4e60d075",
   "metadata": {},
   "outputs": [],
   "source": [
    "data"
   ]
  },
  {
   "cell_type": "code",
   "execution_count": null,
   "id": "7620c482",
   "metadata": {},
   "outputs": [],
   "source": [
    "id(data)"
   ]
  },
  {
   "cell_type": "markdown",
   "id": "7ac97663",
   "metadata": {},
   "source": [
    "<br/>\n",
    "<br/>\n",
    "<br/>\n",
    "<br/>\n",
    "<br/>\n",
    "<br/>\n",
    "<br/>\n",
    "<br/>"
   ]
  },
  {
   "cell_type": "markdown",
   "id": "33105507",
   "metadata": {},
   "source": [
    "## Rename columns in a DataFrame"
   ]
  },
  {
   "cell_type": "code",
   "execution_count": null,
   "id": "acfeb589",
   "metadata": {},
   "outputs": [],
   "source": [
    "data = pd.read_csv(\n",
    "    \"https://edlitera-datasets.s3.amazonaws.com/survey_sample.csv\", \n",
    "    parse_dates=['Date']\n",
    ")"
   ]
  },
  {
   "cell_type": "code",
   "execution_count": null,
   "id": "35c162db",
   "metadata": {},
   "outputs": [],
   "source": [
    "data.head()"
   ]
  },
  {
   "cell_type": "code",
   "execution_count": null,
   "id": "af0aabcc",
   "metadata": {},
   "outputs": [],
   "source": [
    "data.rename(columns={'Overall Satisfaction': 'Satisfaction'})"
   ]
  },
  {
   "cell_type": "code",
   "execution_count": null,
   "id": "4075f313",
   "metadata": {},
   "outputs": [],
   "source": [
    "data.head()"
   ]
  },
  {
   "cell_type": "markdown",
   "id": "c69e2263",
   "metadata": {},
   "source": [
    "#### Two ways to make the changes permanent"
   ]
  },
  {
   "cell_type": "code",
   "execution_count": null,
   "id": "6ffafa0a",
   "metadata": {},
   "outputs": [],
   "source": [
    "# Option 1\n",
    "\n",
    "data = data.rename(columns={'Overall Satisfaction': 'Satisfaction'})"
   ]
  },
  {
   "cell_type": "code",
   "execution_count": null,
   "id": "82f06340",
   "metadata": {},
   "outputs": [],
   "source": [
    "# Option 2\n",
    "\n",
    "data.rename(\n",
    "    columns={'Overall Satisfaction': 'Satisfaction'}, \n",
    "    inplace=True)"
   ]
  },
  {
   "cell_type": "code",
   "execution_count": null,
   "id": "b9479541",
   "metadata": {},
   "outputs": [],
   "source": [
    "data.head()"
   ]
  },
  {
   "cell_type": "markdown",
   "id": "c1397e11",
   "metadata": {},
   "source": [
    "<br/>\n",
    "<br/>\n",
    "<br/>\n",
    "<br/>\n",
    "<br/>\n",
    "<br/>\n",
    "<br/>\n",
    "<br/>"
   ]
  },
  {
   "cell_type": "markdown",
   "id": "3e837f83",
   "metadata": {},
   "source": [
    "## Change the data type of a column"
   ]
  },
  {
   "cell_type": "markdown",
   "id": "e6ea635d",
   "metadata": {},
   "source": [
    "#### Why you might need to do this:\n",
    "* use less memory (e.g. why use int64 if your largest number is less than 10?)\n",
    "* the original data type is not useful / incorrect"
   ]
  },
  {
   "cell_type": "markdown",
   "id": "ac4d9392",
   "metadata": {},
   "source": [
    "You can use `.astype()` to change the data type of a column. This is equivalent (in a way) to telling Excel to interpret certain columns as numbers, text, dates, etc."
   ]
  },
  {
   "cell_type": "code",
   "execution_count": null,
   "id": "6e97ccad",
   "metadata": {},
   "outputs": [],
   "source": [
    "data = pd.read_csv(\n",
    "    \"https://edlitera-datasets.s3.amazonaws.com/survey_sample.csv\", \n",
    "    parse_dates=['Date']\n",
    ")"
   ]
  },
  {
   "cell_type": "code",
   "execution_count": null,
   "id": "a577784a",
   "metadata": {},
   "outputs": [],
   "source": [
    "data.head()"
   ]
  },
  {
   "cell_type": "code",
   "execution_count": null,
   "id": "ab34a82f",
   "metadata": {},
   "outputs": [],
   "source": [
    "data.info()"
   ]
  },
  {
   "cell_type": "markdown",
   "id": "9a3273ab",
   "metadata": {},
   "source": [
    "**NOTE:** `.astype()` doesn't support an `inplace` parameter, so it won't actually modify the original dataframe."
   ]
  },
  {
   "cell_type": "code",
   "execution_count": null,
   "id": "a0a8e205",
   "metadata": {},
   "outputs": [],
   "source": [
    "data['Location'].unique()"
   ]
  },
  {
   "cell_type": "code",
   "execution_count": null,
   "id": "ae98106b",
   "metadata": {},
   "outputs": [],
   "source": [
    "data['Location'].astype('category')"
   ]
  },
  {
   "cell_type": "code",
   "execution_count": null,
   "id": "3a493067",
   "metadata": {},
   "outputs": [],
   "source": [
    "data['Location'] = data['Location'].astype('category')"
   ]
  },
  {
   "cell_type": "code",
   "execution_count": null,
   "id": "ea54897a",
   "metadata": {},
   "outputs": [],
   "source": [
    "data.dtypes"
   ]
  },
  {
   "cell_type": "markdown",
   "id": "2312feae",
   "metadata": {},
   "source": [
    "**We'll learn more about the `category` data type - it can be very useful when handling large amounts of data!**"
   ]
  },
  {
   "cell_type": "code",
   "execution_count": null,
   "id": "556c8e0f",
   "metadata": {},
   "outputs": [],
   "source": [
    "data.head()"
   ]
  },
  {
   "cell_type": "code",
   "execution_count": null,
   "id": "07654a99",
   "metadata": {},
   "outputs": [],
   "source": [
    "data.info()"
   ]
  },
  {
   "cell_type": "code",
   "execution_count": null,
   "id": "956107be",
   "metadata": {},
   "outputs": [],
   "source": [
    "data[['Helpfulness', 'Courtesy', 'Empathy']].astype('int8')"
   ]
  },
  {
   "cell_type": "code",
   "execution_count": null,
   "id": "3cb269a3",
   "metadata": {},
   "outputs": [],
   "source": [
    "data[['Helpfulness', 'Courtesy', 'Empathy']] = data[['Helpfulness', 'Courtesy', 'Empathy']].astype('int8')"
   ]
  },
  {
   "cell_type": "code",
   "execution_count": null,
   "id": "800a48f9",
   "metadata": {},
   "outputs": [],
   "source": [
    "data.info()"
   ]
  },
  {
   "cell_type": "code",
   "execution_count": null,
   "id": "6ecdc993",
   "metadata": {},
   "outputs": [],
   "source": [
    "data.head()"
   ]
  },
  {
   "cell_type": "code",
   "execution_count": null,
   "id": "0d496f0f",
   "metadata": {},
   "outputs": [],
   "source": [
    "for col in data.columns:\n",
    "    if data[col].dtype == 'int64':\n",
    "        data[col] = data[col].astype('int16')"
   ]
  },
  {
   "cell_type": "code",
   "execution_count": null,
   "id": "dee30e94",
   "metadata": {},
   "outputs": [],
   "source": [
    "data.head()"
   ]
  },
  {
   "cell_type": "code",
   "execution_count": null,
   "id": "002e5977",
   "metadata": {},
   "outputs": [],
   "source": [
    "data.info()"
   ]
  },
  {
   "cell_type": "markdown",
   "id": "98903e65",
   "metadata": {},
   "source": [
    "<br/>\n",
    "<br/>\n",
    "<br/>\n",
    "<br/>\n",
    "<br/>\n",
    "<br/>\n",
    "<br/>\n",
    "<br/>"
   ]
  },
  {
   "cell_type": "markdown",
   "id": "380fd360",
   "metadata": {
    "slideshow": {
     "slide_type": "slide"
    }
   },
   "source": [
    "## Filter data by column value"
   ]
  },
  {
   "cell_type": "code",
   "execution_count": null,
   "id": "d92c7b24",
   "metadata": {},
   "outputs": [],
   "source": [
    "[1796, 1500, 1796, 1800] == 1796"
   ]
  },
  {
   "cell_type": "code",
   "execution_count": null,
   "id": "9a0f7860",
   "metadata": {},
   "outputs": [],
   "source": [
    "np.array([1796, 1500, 1796, 1800])"
   ]
  },
  {
   "cell_type": "code",
   "execution_count": null,
   "id": "f7147f36",
   "metadata": {},
   "outputs": [],
   "source": [
    "np.array([1796, 1500, 1796, 1800]) == 1796"
   ]
  },
  {
   "cell_type": "markdown",
   "id": "a1453dd4",
   "metadata": {},
   "source": [
    "#### So, what happens when you compare a Series object with, say, an integer value?"
   ]
  },
  {
   "cell_type": "code",
   "execution_count": null,
   "id": "c7fd8a80",
   "metadata": {},
   "outputs": [],
   "source": [
    "numbers = pd.Series([1796, 1500, 1796, 1800])"
   ]
  },
  {
   "cell_type": "code",
   "execution_count": null,
   "id": "4ad58124",
   "metadata": {},
   "outputs": [],
   "source": [
    "numbers"
   ]
  },
  {
   "cell_type": "code",
   "execution_count": null,
   "id": "d65c2cd2",
   "metadata": {},
   "outputs": [],
   "source": [
    "numbers == 1796"
   ]
  },
  {
   "cell_type": "code",
   "execution_count": null,
   "id": "b1e3d69e",
   "metadata": {},
   "outputs": [],
   "source": [
    "numbers_array = np.array([1796, 1500, 1796, 1800])"
   ]
  },
  {
   "cell_type": "code",
   "execution_count": null,
   "id": "e814ce71",
   "metadata": {},
   "outputs": [],
   "source": [
    "numbers_array"
   ]
  },
  {
   "cell_type": "code",
   "execution_count": null,
   "id": "9da9d22c",
   "metadata": {},
   "outputs": [],
   "source": [
    "numbers_array[:2]"
   ]
  },
  {
   "cell_type": "code",
   "execution_count": null,
   "id": "a5f0875a",
   "metadata": {},
   "outputs": [],
   "source": [
    "numbers_array[ [True, False, True, True] ]"
   ]
  },
  {
   "cell_type": "code",
   "execution_count": null,
   "id": "caaa3c14",
   "metadata": {},
   "outputs": [],
   "source": [
    "numbers_array[ numbers_array == 1796 ]"
   ]
  },
  {
   "cell_type": "markdown",
   "id": "1485b93b",
   "metadata": {},
   "source": [
    "#### Interesting. What about passing a boolean array to a Series object?"
   ]
  },
  {
   "cell_type": "code",
   "execution_count": null,
   "id": "3a755061",
   "metadata": {},
   "outputs": [],
   "source": [
    "numbers"
   ]
  },
  {
   "cell_type": "code",
   "execution_count": null,
   "id": "3384e5f4",
   "metadata": {},
   "outputs": [],
   "source": [
    "numbers[ [True, False, True, False] ]"
   ]
  },
  {
   "cell_type": "code",
   "execution_count": null,
   "id": "0a6e2615",
   "metadata": {},
   "outputs": [],
   "source": [
    "numbers[ numbers == 1796 ]"
   ]
  },
  {
   "cell_type": "markdown",
   "id": "bbd81506",
   "metadata": {},
   "source": [
    "#### This works for DataFrames too!"
   ]
  },
  {
   "cell_type": "code",
   "execution_count": null,
   "id": "84e5ec51",
   "metadata": {},
   "outputs": [],
   "source": [
    "data = pd.read_csv(\n",
    "    \"https://edlitera-datasets.s3.amazonaws.com/survey_sample.csv\", \n",
    "    parse_dates=['Date']\n",
    ")"
   ]
  },
  {
   "cell_type": "code",
   "execution_count": null,
   "id": "f92744b2",
   "metadata": {},
   "outputs": [],
   "source": [
    "data['Customer Id']"
   ]
  },
  {
   "cell_type": "code",
   "execution_count": null,
   "id": "ddef9adf",
   "metadata": {},
   "outputs": [],
   "source": [
    "data['Customer Id'] == 1796"
   ]
  },
  {
   "cell_type": "markdown",
   "id": "7d2882c3",
   "metadata": {},
   "source": [
    "#### Remember `.loc`?"
   ]
  },
  {
   "cell_type": "markdown",
   "id": "758b30fc",
   "metadata": {},
   "source": [
    "<div>\n",
    "<img src=\"https://edlitera-images.s3.us-east-1.amazonaws.com\\df_loc_2.png\" width=\"500\"/>\n",
    "</div>"
   ]
  },
  {
   "cell_type": "markdown",
   "id": "47154d32",
   "metadata": {},
   "source": [
    "<br><br><br>"
   ]
  },
  {
   "cell_type": "code",
   "execution_count": null,
   "id": "c4501304",
   "metadata": {},
   "outputs": [],
   "source": [
    "data.loc[ data['Customer Id'] == 1796 ]"
   ]
  },
  {
   "cell_type": "code",
   "execution_count": null,
   "id": "7861c6ce",
   "metadata": {},
   "outputs": [],
   "source": [
    "data.loc[ data['Customer Id'] == 1796, ['Helpfulness', 'Courtesy']]"
   ]
  },
  {
   "cell_type": "code",
   "execution_count": null,
   "id": "c71b4e10",
   "metadata": {},
   "outputs": [],
   "source": [
    "data[ data['Customer Id'] == 1796 ]"
   ]
  },
  {
   "cell_type": "code",
   "execution_count": null,
   "id": "9dc26c4b",
   "metadata": {},
   "outputs": [],
   "source": [
    "# Let's get all the responses for customer with ID 1796\n",
    "\n",
    "responses = data[ data['Customer Id'] == 1796 ]\n",
    "responses"
   ]
  },
  {
   "cell_type": "markdown",
   "id": "1919efa8",
   "metadata": {},
   "source": [
    "<br><br><br>"
   ]
  },
  {
   "cell_type": "markdown",
   "id": "cde89d00",
   "metadata": {},
   "source": [
    "## Exercise"
   ]
  },
  {
   "cell_type": "markdown",
   "id": "bcac892a",
   "metadata": {},
   "source": [
    "Using the customer survey data, get the first 10 survey responses for the rep id 1143. How many responses for this customer representative do we have in total?"
   ]
  },
  {
   "cell_type": "markdown",
   "id": "41433ba0",
   "metadata": {},
   "source": [
    "<br/>\n",
    "<br/>\n",
    "<br/>\n",
    "<br/>\n",
    "<br/>\n",
    "<br/>\n",
    "<br/>\n",
    "<br/>"
   ]
  },
  {
   "cell_type": "markdown",
   "id": "fa570d46",
   "metadata": {},
   "source": [
    "**SOLUTION:**"
   ]
  },
  {
   "cell_type": "code",
   "execution_count": null,
   "id": "118e9cbe",
   "metadata": {},
   "outputs": [],
   "source": [
    "data.head()"
   ]
  },
  {
   "cell_type": "code",
   "execution_count": null,
   "id": "ee80cf59",
   "metadata": {},
   "outputs": [],
   "source": [
    "data['Rep Id'] == 1143"
   ]
  },
  {
   "cell_type": "code",
   "execution_count": null,
   "id": "67ed5d97",
   "metadata": {},
   "outputs": [],
   "source": [
    "data.loc[ data['Rep Id'] == 1143 ]"
   ]
  },
  {
   "cell_type": "code",
   "execution_count": null,
   "id": "e477686a",
   "metadata": {},
   "outputs": [],
   "source": [
    "responses = data.loc[ data['Rep Id'] == 1143 ]\n",
    "responses.head(10)"
   ]
  },
  {
   "cell_type": "code",
   "execution_count": null,
   "id": "e48287a1",
   "metadata": {},
   "outputs": [],
   "source": [
    "responses.shape"
   ]
  },
  {
   "cell_type": "code",
   "execution_count": null,
   "id": "22d35463",
   "metadata": {},
   "outputs": [],
   "source": [
    "responses.shape[0] # 204 survey responses"
   ]
  },
  {
   "cell_type": "markdown",
   "id": "c974e220",
   "metadata": {},
   "source": [
    "<br><br>"
   ]
  },
  {
   "cell_type": "markdown",
   "id": "59826896",
   "metadata": {},
   "source": [
    "## More examples of filtering by column"
   ]
  },
  {
   "cell_type": "code",
   "execution_count": null,
   "id": "eb1f8179",
   "metadata": {},
   "outputs": [],
   "source": [
    "data = pd.read_csv(\n",
    "    \"https://edlitera-datasets.s3.amazonaws.com/survey_sample.csv\", \n",
    "    parse_dates=['Date']\n",
    ")"
   ]
  },
  {
   "cell_type": "code",
   "execution_count": null,
   "id": "d8ab7053",
   "metadata": {},
   "outputs": [],
   "source": [
    "data['Helpfulness'] > 1.5"
   ]
  },
  {
   "cell_type": "code",
   "execution_count": null,
   "id": "543dccdb",
   "metadata": {
    "slideshow": {
     "slide_type": "slide"
    }
   },
   "outputs": [],
   "source": [
    "# How many survey responses have a helpfulness score > 1.5?\n",
    "\n",
    "helpful = data.loc[ data['Helpfulness'] > 1.5 ]"
   ]
  },
  {
   "cell_type": "code",
   "execution_count": null,
   "id": "8d5bd346",
   "metadata": {},
   "outputs": [],
   "source": [
    "helpful.shape"
   ]
  },
  {
   "cell_type": "markdown",
   "id": "158f06f8",
   "metadata": {},
   "source": [
    "We can use a variety of comparison operators, as needed:"
   ]
  },
  {
   "cell_type": "markdown",
   "id": "81406cd2",
   "metadata": {},
   "source": [
    "* `>`\n",
    "* `<`\n",
    "* `>=`\n",
    "* `<=`\n",
    "* `==` (check for equality)\n",
    "* `!=` (check for inequality)"
   ]
  },
  {
   "cell_type": "code",
   "execution_count": null,
   "id": "2b2e8589",
   "metadata": {},
   "outputs": [],
   "source": [
    "data.loc[ data['Rep Id'] != 1143 ]"
   ]
  },
  {
   "cell_type": "markdown",
   "id": "725bb1a4",
   "metadata": {},
   "source": [
    "<br/>\n",
    "<br/>\n",
    "<br/>\n",
    "<br/>\n",
    "<br/>\n",
    "<br/>\n",
    "<br/>\n",
    "<br/>"
   ]
  },
  {
   "cell_type": "markdown",
   "id": "43dc9a38",
   "metadata": {
    "slideshow": {
     "slide_type": "slide"
    }
   },
   "source": [
    "## Filter data by multiple column values"
   ]
  },
  {
   "cell_type": "markdown",
   "id": "c61d9448",
   "metadata": {},
   "source": [
    "How do we get the survey responses that have a score of less than 2 in all categories (`Helpfulness`, `Courtesy`, `Empathy`)?"
   ]
  },
  {
   "cell_type": "code",
   "execution_count": null,
   "id": "bd15b298",
   "metadata": {},
   "outputs": [],
   "source": [
    "(data['Helpfulness'] < 2)"
   ]
  },
  {
   "cell_type": "code",
   "execution_count": null,
   "id": "91315ad8",
   "metadata": {},
   "outputs": [],
   "source": [
    "(data['Empathy'] < 2)"
   ]
  },
  {
   "cell_type": "code",
   "execution_count": null,
   "id": "8c5aa6df",
   "metadata": {},
   "outputs": [],
   "source": [
    "(data['Helpfulness'] < 2) & (data['Empathy'] < 2)"
   ]
  },
  {
   "cell_type": "code",
   "execution_count": null,
   "id": "461d2cec",
   "metadata": {},
   "outputs": [],
   "source": [
    "(\n",
    "    (data['Helpfulness'] < 2) & \n",
    "    (data['Empathy'] < 2) & \n",
    "    (data['Courtesy'] < 2)\n",
    ")"
   ]
  },
  {
   "cell_type": "code",
   "execution_count": null,
   "id": "66979f9c",
   "metadata": {},
   "outputs": [],
   "source": [
    "bad = data[ (data['Helpfulness'] < 2) & \n",
    "            (data['Empathy'] < 2) & \n",
    "            (data['Courtesy'] < 2) ]\n",
    "bad"
   ]
  },
  {
   "cell_type": "markdown",
   "id": "86de650b",
   "metadata": {},
   "source": [
    "<br><br>"
   ]
  },
  {
   "cell_type": "markdown",
   "id": "5f994095",
   "metadata": {},
   "source": [
    "**NOTE:**\n",
    "* use `&` (pronounced **and**) when you want all conditions to be met\n",
    "* use `|` (pronounced **or**) when you want either of the conditions to be met\n",
    "* use `~` (pronounced **not**, in this case) when you want to negate a condition"
   ]
  },
  {
   "cell_type": "markdown",
   "id": "c8ab55c8",
   "metadata": {},
   "source": [
    "<br><br>"
   ]
  },
  {
   "cell_type": "markdown",
   "id": "abdbc546",
   "metadata": {},
   "source": [
    "How many surveys have a score less than 2 in either of the 3 categories above?"
   ]
  },
  {
   "cell_type": "code",
   "execution_count": null,
   "id": "222c48c8",
   "metadata": {},
   "outputs": [],
   "source": [
    "bad = data[ (data['Helpfulness'] < 2) |\n",
    "            (data['Empathy'] < 2) | \n",
    "            (data['Courtesy'] < 2) ]\n",
    "\n",
    "bad.shape # 416 - Yikes, we should do better!"
   ]
  },
  {
   "cell_type": "markdown",
   "id": "a46a135c",
   "metadata": {},
   "source": [
    "<br>"
   ]
  },
  {
   "cell_type": "markdown",
   "id": "6156aa38",
   "metadata": {},
   "source": [
    "How many surveys have a helpfulness score that **is not greater** than 2?"
   ]
  },
  {
   "cell_type": "code",
   "execution_count": null,
   "id": "c59b24f2",
   "metadata": {},
   "outputs": [],
   "source": [
    "(data['Helpfulness'] > 2)"
   ]
  },
  {
   "cell_type": "code",
   "execution_count": null,
   "id": "67472743",
   "metadata": {},
   "outputs": [],
   "source": [
    "~(data['Helpfulness'] > 2)"
   ]
  },
  {
   "cell_type": "code",
   "execution_count": null,
   "id": "bf45415e",
   "metadata": {},
   "outputs": [],
   "source": [
    "data[ ~(data['Helpfulness'] > 2) ]"
   ]
  },
  {
   "cell_type": "code",
   "execution_count": null,
   "id": "0ec84df2",
   "metadata": {},
   "outputs": [],
   "source": [
    "(data['Rep Id'] == 2105)"
   ]
  },
  {
   "cell_type": "code",
   "execution_count": null,
   "id": "1f6b7706",
   "metadata": {},
   "outputs": [],
   "source": [
    "(data['Location'] == 'store')"
   ]
  },
  {
   "cell_type": "code",
   "execution_count": null,
   "id": "013c99ed",
   "metadata": {},
   "outputs": [],
   "source": [
    "data[ (data['Location'] == 'store') & (data['Rep Id'] == 2105)]"
   ]
  },
  {
   "cell_type": "code",
   "execution_count": null,
   "id": "88bdb409",
   "metadata": {},
   "outputs": [],
   "source": []
  }
 ],
 "metadata": {
  "kernelspec": {
   "display_name": "data_processing_environment",
   "language": "python",
   "name": "data_processing_environment"
  },
  "language_info": {
   "codemirror_mode": {
    "name": "ipython",
    "version": 3
   },
   "file_extension": ".py",
   "mimetype": "text/x-python",
   "name": "python",
   "nbconvert_exporter": "python",
   "pygments_lexer": "ipython3",
   "version": "3.9.18"
  }
 },
 "nbformat": 4,
 "nbformat_minor": 5
}
