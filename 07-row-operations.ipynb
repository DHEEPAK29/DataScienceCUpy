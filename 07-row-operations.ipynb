{
 "cells": [
  {
   "cell_type": "markdown",
   "id": "99b7b980",
   "metadata": {},
   "source": [
    "<div>\n",
    "<img src=\"https://edlitera-images.s3.us-east-1.amazonaws.com/new_edlitera_logo.png\" width=\"500\"/>\n",
    "</div>"
   ]
  },
  {
   "cell_type": "markdown",
   "id": "b9b18417",
   "metadata": {},
   "source": [
    "<br/>\n",
    "<br/>\n",
    "<br/>\n",
    "<br/>\n",
    "<br/>\n",
    "<br/>\n",
    "<br/>\n",
    "<br/>"
   ]
  },
  {
   "cell_type": "code",
   "execution_count": null,
   "id": "8b490bfb",
   "metadata": {},
   "outputs": [],
   "source": [
    "import pandas as pd\n",
    "import numpy as np\n",
    "import datetime\n",
    "\n",
    "pd.options.display.float_format = '{:,.2f}'.format"
   ]
  },
  {
   "cell_type": "markdown",
   "id": "b3a36143",
   "metadata": {},
   "source": [
    "<br/>\n",
    "<br/>\n",
    "<br/>\n",
    "<br/>\n",
    "<br/>\n",
    "<br/>\n",
    "<br/>\n",
    "<br/>"
   ]
  },
  {
   "cell_type": "markdown",
   "id": "7a3d075a",
   "metadata": {
    "slideshow": {
     "slide_type": "slide"
    }
   },
   "source": [
    "## Remove (drop) rows that meet a certain condition"
   ]
  },
  {
   "cell_type": "code",
   "execution_count": null,
   "id": "f60235fd",
   "metadata": {},
   "outputs": [],
   "source": [
    "data = pd.read_csv(\n",
    "    \"https://edlitera-datasets.s3.amazonaws.com/survey_sample.csv\"\n",
    ")\n",
    "\n",
    "data.head()"
   ]
  },
  {
   "cell_type": "markdown",
   "id": "57fd2b24",
   "metadata": {},
   "source": [
    "In the data set, we have a couple of rows where the `Customer ID` is 0. This is an undercover customer satisfaction officer visiting a store location and taking a survey. Since it's not a real customer, let's remove it from the dataset."
   ]
  },
  {
   "cell_type": "markdown",
   "id": "7cb66ff8",
   "metadata": {},
   "source": [
    "First, let's see what those rows look like:"
   ]
  },
  {
   "cell_type": "code",
   "execution_count": null,
   "id": "258e1950",
   "metadata": {},
   "outputs": [],
   "source": [
    "data.loc[ data['Customer Id'] == 0 ]"
   ]
  },
  {
   "cell_type": "markdown",
   "id": "6986a830",
   "metadata": {},
   "source": [
    "To drop rows that meet a condition, do this:"
   ]
  },
  {
   "cell_type": "code",
   "execution_count": null,
   "id": "de0036b1",
   "metadata": {},
   "outputs": [],
   "source": [
    "data.loc[ data['Customer Id'] != 0 ]"
   ]
  },
  {
   "cell_type": "code",
   "execution_count": null,
   "id": "3bd664f4",
   "metadata": {},
   "outputs": [],
   "source": [
    "data = data.loc[ data['Customer Id'] != 0 ]"
   ]
  },
  {
   "cell_type": "code",
   "execution_count": null,
   "id": "4e73ba60",
   "metadata": {},
   "outputs": [],
   "source": [
    "data"
   ]
  },
  {
   "cell_type": "code",
   "execution_count": null,
   "id": "582a1d8a",
   "metadata": {},
   "outputs": [],
   "source": [
    "data[ data['Customer Id'] == 0 ]"
   ]
  },
  {
   "cell_type": "code",
   "execution_count": null,
   "id": "a9ab273a",
   "metadata": {},
   "outputs": [],
   "source": [
    "data.info()"
   ]
  },
  {
   "cell_type": "markdown",
   "id": "506dedd7",
   "metadata": {},
   "source": [
    "**QUESTION:** What's a possible problem with this approach?"
   ]
  },
  {
   "cell_type": "markdown",
   "id": "ee5951cd",
   "metadata": {},
   "source": [
    "<br/>\n",
    "<br/>\n",
    "<br/>\n",
    "<br/>\n",
    "<br/>\n",
    "<br/>\n",
    "<br/>\n",
    "<br/>"
   ]
  },
  {
   "cell_type": "markdown",
   "id": "087f3625",
   "metadata": {},
   "source": [
    "**ANSWER:**"
   ]
  },
  {
   "cell_type": "markdown",
   "id": "f1338c71",
   "metadata": {},
   "source": [
    "This potentially requires creating a new dataframe which has all but the dropped rows. **This can potentially be a very expensive operation for large data frames!**"
   ]
  },
  {
   "cell_type": "markdown",
   "id": "35610790",
   "metadata": {},
   "source": [
    "### How do we do better?"
   ]
  },
  {
   "cell_type": "code",
   "execution_count": null,
   "id": "bb9f213b",
   "metadata": {},
   "outputs": [],
   "source": [
    "dt = pd.read_csv(\n",
    "    \"https://edlitera-datasets.s3.amazonaws.com/survey_sample.csv\", \n",
    "    parse_dates=['Date']\n",
    ")"
   ]
  },
  {
   "cell_type": "code",
   "execution_count": null,
   "id": "4d559e7d",
   "metadata": {},
   "outputs": [],
   "source": [
    "dt[ dt['Customer Id'] == 0 ]"
   ]
  },
  {
   "cell_type": "code",
   "execution_count": null,
   "id": "804aa0c0",
   "metadata": {},
   "outputs": [],
   "source": [
    "id(dt)"
   ]
  },
  {
   "cell_type": "markdown",
   "id": "7529e789",
   "metadata": {},
   "source": [
    "### First, get the indices of all the rows we want to drop:"
   ]
  },
  {
   "cell_type": "code",
   "execution_count": null,
   "id": "a5ad9e46",
   "metadata": {},
   "outputs": [],
   "source": [
    "dt[ dt['Customer Id'] == 0 ].index"
   ]
  },
  {
   "cell_type": "code",
   "execution_count": null,
   "id": "bfa63b54",
   "metadata": {},
   "outputs": [],
   "source": [
    "indices_to_drop = dt[ dt['Customer Id'] == 0 ].index\n",
    "indices_to_drop"
   ]
  },
  {
   "cell_type": "markdown",
   "id": "ecc1b472",
   "metadata": {},
   "source": [
    "### Then, just use the `drop()` method, passing the indices of the rows to remove:"
   ]
  },
  {
   "cell_type": "code",
   "execution_count": null,
   "id": "9c81e269",
   "metadata": {},
   "outputs": [],
   "source": [
    "dt.drop(indices_to_drop, inplace=True)"
   ]
  },
  {
   "cell_type": "code",
   "execution_count": null,
   "id": "e705c01d",
   "metadata": {},
   "outputs": [],
   "source": [
    "id(dt)"
   ]
  },
  {
   "cell_type": "code",
   "execution_count": null,
   "id": "4d2afe97",
   "metadata": {},
   "outputs": [],
   "source": [
    "dt[ dt['Customer Id'] == 0 ]"
   ]
  },
  {
   "cell_type": "code",
   "execution_count": null,
   "id": "d0f8896b",
   "metadata": {},
   "outputs": [],
   "source": [
    "dt.info()"
   ]
  },
  {
   "cell_type": "code",
   "execution_count": null,
   "id": "a85ed040",
   "metadata": {},
   "outputs": [],
   "source": [
    "# This will NOT work because the row with\n",
    "# the specified indices was already dropped!\n",
    "\n",
    "dt.drop(indices_to_drop, inplace=True)"
   ]
  },
  {
   "cell_type": "markdown",
   "id": "314f959b",
   "metadata": {},
   "source": [
    "<br/>\n",
    "<br/>\n",
    "<br/>\n",
    "<br/>\n",
    "<br/>\n",
    "<br/>\n",
    "<br/>\n",
    "<br/>"
   ]
  },
  {
   "cell_type": "markdown",
   "id": "f3a87c6e",
   "metadata": {},
   "source": [
    "## Drop duplicate rows"
   ]
  },
  {
   "cell_type": "markdown",
   "id": "efe54dbe",
   "metadata": {},
   "source": [
    "* data is rarely clean\n",
    "* duplicates can pose a problem (e.g. when doing machine learning)\n",
    "* we can easily drop them using `drop_duplicates()`"
   ]
  },
  {
   "cell_type": "code",
   "execution_count": null,
   "id": "1d36f84b",
   "metadata": {},
   "outputs": [],
   "source": [
    "points = pd.DataFrame({\n",
    "    'user_id': [1101, 1102, 1103, 1104, 1105, 1106, 1101],\n",
    "    'total_points': [303, 304, 300, 250, 270, 300, 303],\n",
    "    'country': ['US', 'UK', 'Australia', 'US', 'Germany', 'France', 'US']\n",
    "})\n",
    "\n",
    "points"
   ]
  },
  {
   "cell_type": "code",
   "execution_count": null,
   "id": "4a0cd2c2",
   "metadata": {},
   "outputs": [],
   "source": [
    "points.drop_duplicates()"
   ]
  },
  {
   "cell_type": "markdown",
   "id": "9717905b",
   "metadata": {},
   "source": [
    "<br>"
   ]
  },
  {
   "cell_type": "markdown",
   "id": "a453a4eb",
   "metadata": {},
   "source": [
    "#### NOTE: `drop_duplicates` does not modify the DataFrame by default"
   ]
  },
  {
   "cell_type": "code",
   "execution_count": null,
   "id": "3f7b121a",
   "metadata": {},
   "outputs": [],
   "source": [
    "points"
   ]
  },
  {
   "cell_type": "markdown",
   "id": "328b9795",
   "metadata": {},
   "source": [
    "<br>"
   ]
  },
  {
   "cell_type": "markdown",
   "id": "fbcfc9e1",
   "metadata": {},
   "source": [
    "#### If we want to persist the changes, we can use `inplace=True`"
   ]
  },
  {
   "cell_type": "code",
   "execution_count": null,
   "id": "3e61cb02",
   "metadata": {},
   "outputs": [],
   "source": [
    "points.drop_duplicates(inplace=True)\n",
    "points"
   ]
  },
  {
   "cell_type": "markdown",
   "id": "14b7de05",
   "metadata": {},
   "source": [
    "<br>"
   ]
  },
  {
   "cell_type": "markdown",
   "id": "36131ded",
   "metadata": {},
   "source": [
    "#### You can consider just a subset of the columns, when finding duplicates"
   ]
  },
  {
   "cell_type": "markdown",
   "id": "35ad123d",
   "metadata": {},
   "source": [
    "* by default, all columns must match in order for two rows to be considered duplicates"
   ]
  },
  {
   "cell_type": "markdown",
   "id": "0a3b2c6a",
   "metadata": {},
   "source": [
    "* we can actually specify which columns must match in order for two rows to be considered duplicates"
   ]
  },
  {
   "cell_type": "code",
   "execution_count": null,
   "id": "63038bbc",
   "metadata": {},
   "outputs": [],
   "source": [
    "points = pd.DataFrame({\n",
    "    'user_id': [1101, 1102, 1103, 1104, 1105, 1106, 1101],\n",
    "    'total_points': [303, 304, 300, 250, 270, 300, 302],\n",
    "    'country': ['US', 'UK', 'Australia', 'US', 'Germany', 'France', 'US']\n",
    "})\n",
    "\n",
    "points"
   ]
  },
  {
   "cell_type": "code",
   "execution_count": null,
   "id": "637de50b",
   "metadata": {},
   "outputs": [],
   "source": [
    "points.drop_duplicates()"
   ]
  },
  {
   "cell_type": "code",
   "execution_count": null,
   "id": "e544da85",
   "metadata": {},
   "outputs": [],
   "source": [
    "points.drop_duplicates(subset=['user_id', 'country'])"
   ]
  },
  {
   "cell_type": "code",
   "execution_count": null,
   "id": "52cbdf77",
   "metadata": {},
   "outputs": [],
   "source": [
    "points"
   ]
  },
  {
   "cell_type": "markdown",
   "id": "1622de2d",
   "metadata": {},
   "source": [
    "<br>"
   ]
  },
  {
   "cell_type": "markdown",
   "id": "2247d4fe",
   "metadata": {},
   "source": [
    "#### We can choose which of the duplicate rows to drop"
   ]
  },
  {
   "cell_type": "code",
   "execution_count": null,
   "id": "b25f3b1e",
   "metadata": {},
   "outputs": [],
   "source": [
    "points = pd.DataFrame({\n",
    "    'user_id': [1101, 1102, 1103, 1104, 1105, 1106, 1101],\n",
    "    'total_points': [303, 304, 300, 250, 270, 300, 303],\n",
    "    'country': ['US', 'UK', 'Australia', 'US', 'Germany', 'France', 'US']\n",
    "})\n",
    "\n",
    "points"
   ]
  },
  {
   "cell_type": "markdown",
   "id": "697e26b2",
   "metadata": {},
   "source": [
    "<br>"
   ]
  },
  {
   "cell_type": "markdown",
   "id": "7804b267",
   "metadata": {},
   "source": [
    "We can keep the **first row**, and drop all the other rows:"
   ]
  },
  {
   "cell_type": "code",
   "execution_count": null,
   "id": "25b47351",
   "metadata": {},
   "outputs": [],
   "source": [
    "points.drop_duplicates(keep='first')"
   ]
  },
  {
   "cell_type": "markdown",
   "id": "88dde776",
   "metadata": {},
   "source": [
    "<br>"
   ]
  },
  {
   "cell_type": "markdown",
   "id": "e2c9564c",
   "metadata": {},
   "source": [
    "We can keep the **last row**, and drop all the other rows:"
   ]
  },
  {
   "cell_type": "code",
   "execution_count": null,
   "id": "82820de0",
   "metadata": {},
   "outputs": [],
   "source": [
    "points.drop_duplicates(keep='last')"
   ]
  },
  {
   "cell_type": "markdown",
   "id": "2d82cb23",
   "metadata": {},
   "source": [
    "<br>"
   ]
  },
  {
   "cell_type": "markdown",
   "id": "bbd1376e",
   "metadata": {},
   "source": [
    "Or we can just drop all the rows that are duplicated (and keep none of them):"
   ]
  },
  {
   "cell_type": "code",
   "execution_count": null,
   "id": "d4eb68e2",
   "metadata": {},
   "outputs": [],
   "source": [
    "points.drop_duplicates(keep=False)"
   ]
  },
  {
   "cell_type": "markdown",
   "id": "b4760936",
   "metadata": {},
   "source": [
    "<br/>\n",
    "<br/>\n",
    "<br/>\n",
    "<br/>\n",
    "<br/>\n",
    "<br/>\n",
    "<br/>\n",
    "<br/>"
   ]
  },
  {
   "cell_type": "markdown",
   "id": "6e2ce1f7",
   "metadata": {
    "slideshow": {
     "slide_type": "slide"
    }
   },
   "source": [
    "## Update rows that meet a certain condition"
   ]
  },
  {
   "cell_type": "code",
   "execution_count": null,
   "id": "4ebaafe8",
   "metadata": {},
   "outputs": [],
   "source": [
    "data = pd.read_csv(\n",
    "    \"https://edlitera-datasets.s3.amazonaws.com/survey_sample.csv\"\n",
    ")\n",
    "\n",
    "data.head()"
   ]
  },
  {
   "cell_type": "markdown",
   "id": "0eb0a182",
   "metadata": {},
   "source": [
    "If you look at the location column, you'll see that some of the rows have an `NaN` (not a number). Let's replace that with the text `missing`."
   ]
  },
  {
   "cell_type": "markdown",
   "id": "e6f3b9d8",
   "metadata": {},
   "source": [
    "### To get rows that have empty values in a column, use `isnull()`"
   ]
  },
  {
   "cell_type": "code",
   "execution_count": null,
   "id": "69e598c0",
   "metadata": {},
   "outputs": [],
   "source": [
    "data['Location']"
   ]
  },
  {
   "cell_type": "code",
   "execution_count": null,
   "id": "5e2199e6",
   "metadata": {},
   "outputs": [],
   "source": [
    "data['Location'].isnull()"
   ]
  },
  {
   "cell_type": "code",
   "execution_count": null,
   "id": "10f00133",
   "metadata": {},
   "outputs": [],
   "source": [
    "data[ data['Location'].isnull() ]"
   ]
  },
  {
   "cell_type": "markdown",
   "id": "09fb3106",
   "metadata": {},
   "source": [
    "Now let's update these rows. We will use `.loc` for this:"
   ]
  },
  {
   "cell_type": "markdown",
   "id": "df91a041",
   "metadata": {},
   "source": [
    "#### QUESTION: \n",
    "What will this code return?"
   ]
  },
  {
   "cell_type": "code",
   "execution_count": null,
   "id": "ec0a395b",
   "metadata": {},
   "outputs": [],
   "source": [
    "data['Location']"
   ]
  },
  {
   "cell_type": "markdown",
   "id": "59201e01",
   "metadata": {},
   "source": [
    "What about this code?"
   ]
  },
  {
   "cell_type": "code",
   "execution_count": null,
   "id": "273ef492",
   "metadata": {},
   "outputs": [],
   "source": [
    "data.loc[ data['Location'].isnull() ]"
   ]
  },
  {
   "cell_type": "markdown",
   "id": "9c9be766",
   "metadata": {},
   "source": [
    "What about this code?"
   ]
  },
  {
   "cell_type": "code",
   "execution_count": null,
   "id": "6440cf5f",
   "metadata": {},
   "outputs": [],
   "source": [
    "data.loc[ data['Location'].isnull(), 'Location']"
   ]
  },
  {
   "cell_type": "markdown",
   "id": "2ce49cf1",
   "metadata": {},
   "source": [
    "<br/>\n",
    "<br/>\n",
    "<br/>\n",
    "<br/>\n",
    "<br/>\n",
    "<br/>\n",
    "<br/>\n",
    "<br/>"
   ]
  },
  {
   "cell_type": "markdown",
   "id": "61051e35",
   "metadata": {},
   "source": [
    "### To update these rows, we can then simply assign a value to the `Location` column"
   ]
  },
  {
   "cell_type": "code",
   "execution_count": null,
   "id": "98e65cf0",
   "metadata": {
    "scrolled": true
   },
   "outputs": [],
   "source": [
    "data.loc[ data['Location'].isnull(), 'Location'] = 'missing'"
   ]
  },
  {
   "cell_type": "code",
   "execution_count": null,
   "id": "25de18d8",
   "metadata": {},
   "outputs": [],
   "source": [
    "data.head()"
   ]
  },
  {
   "cell_type": "code",
   "execution_count": null,
   "id": "4aa4a1b5",
   "metadata": {},
   "outputs": [],
   "source": [
    "data[data['Location'].isnull()]"
   ]
  },
  {
   "cell_type": "code",
   "execution_count": null,
   "id": "128794a5",
   "metadata": {},
   "outputs": [],
   "source": [
    "data.info()"
   ]
  },
  {
   "cell_type": "code",
   "execution_count": null,
   "id": "bb50b6ce",
   "metadata": {},
   "outputs": [],
   "source": [
    "data.loc[ (data['Helpfulness'] > 2) & (data['Courtesy'] > 2), 'Overall Satisfaction'] = 3"
   ]
  },
  {
   "cell_type": "code",
   "execution_count": null,
   "id": "0fe2f928",
   "metadata": {},
   "outputs": [],
   "source": [
    "data.head()"
   ]
  },
  {
   "cell_type": "code",
   "execution_count": null,
   "id": "7cb5c24d",
   "metadata": {},
   "outputs": [],
   "source": []
  },
  {
   "cell_type": "code",
   "execution_count": null,
   "id": "b936eb08",
   "metadata": {},
   "outputs": [],
   "source": []
  }
 ],
 "metadata": {
  "kernelspec": {
   "display_name": "data_processing_environment",
   "language": "python",
   "name": "data_processing_environment"
  },
  "language_info": {
   "codemirror_mode": {
    "name": "ipython",
    "version": 3
   },
   "file_extension": ".py",
   "mimetype": "text/x-python",
   "name": "python",
   "nbconvert_exporter": "python",
   "pygments_lexer": "ipython3",
   "version": "3.9.18"
  }
 },
 "nbformat": 4,
 "nbformat_minor": 5
}
